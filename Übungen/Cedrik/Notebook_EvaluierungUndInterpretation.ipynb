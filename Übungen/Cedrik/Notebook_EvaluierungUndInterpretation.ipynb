{
 "cells": [
  {
   "cell_type": "code",
   "execution_count": 90,
   "id": "ebf4c42c",
   "metadata": {},
   "outputs": [],
   "source": [
    "import pandas as pd\n",
    "import numpy as np\n",
    "import matplotlib.pyplot as plt\n",
    "import os\n",
    "from os.path import dirname\n",
    "import datetime as dt\n",
    "import seaborn as sns\n",
    "from sklearn.model_selection import train_test_split\n",
    "from sklearn.svm import LinearSVC\n",
    "from sklearn.metrics import classification_report, confusion_matrix\n",
    "from sklearn.model_selection import cross_val_predict\n",
    "from sklearn.metrics import f1_score\n",
    "from xgboost import XGBClassifier\n",
    "from sklearn.naive_bayes import GaussianNB\n",
    "from sklearn.feature_selection import SelectFromModel\n",
    "from sklearn.svm import LinearSVC\n",
    "from sklearn.pipeline import Pipeline\n",
    "import lime\n",
    "\n",
    "notebook_path = os.path.abspath(\"DataAnalyticsKickstarterNotebook_Cedrik.ipynb\")\n",
    "csv_path_features = os.path.join(os.path.dirname(dirname(notebook_path)), \"data/ks-project-edited-klassifikation-features.csv\")\n",
    "csv_path_trueLabels = os.path.join(os.path.dirname(dirname(notebook_path)), \"data/ks-project-edited-klassifikation-target.csv\")"
   ]
  },
  {
   "cell_type": "code",
   "execution_count": 91,
   "id": "f89a9d6a",
   "metadata": {},
   "outputs": [],
   "source": [
    "df_features = pd.read_csv (csv_path_features, low_memory=False)\n",
    "df_target = pd.read_csv (csv_path_trueLabels, low_memory=False)"
   ]
  },
  {
   "cell_type": "code",
   "execution_count": 31,
   "id": "4d424fd0",
   "metadata": {},
   "outputs": [
    {
     "data": {
      "text/html": [
       "<div>\n",
       "<style scoped>\n",
       "    .dataframe tbody tr th:only-of-type {\n",
       "        vertical-align: middle;\n",
       "    }\n",
       "\n",
       "    .dataframe tbody tr th {\n",
       "        vertical-align: top;\n",
       "    }\n",
       "\n",
       "    .dataframe thead th {\n",
       "        text-align: right;\n",
       "    }\n",
       "</style>\n",
       "<table border=\"1\" class=\"dataframe\">\n",
       "  <thead>\n",
       "    <tr style=\"text-align: right;\">\n",
       "      <th></th>\n",
       "      <th>usd_goal_real</th>\n",
       "      <th>duration</th>\n",
       "      <th>name_length</th>\n",
       "      <th>creator_type</th>\n",
       "      <th>Art</th>\n",
       "      <th>Comics</th>\n",
       "      <th>Crafts</th>\n",
       "      <th>Dance</th>\n",
       "      <th>Design</th>\n",
       "      <th>Fashion</th>\n",
       "      <th>Film &amp; Video</th>\n",
       "      <th>Food</th>\n",
       "      <th>Games</th>\n",
       "      <th>Journalism</th>\n",
       "      <th>Music</th>\n",
       "      <th>Photography</th>\n",
       "      <th>Publishing</th>\n",
       "      <th>Technology</th>\n",
       "      <th>Theater</th>\n",
       "    </tr>\n",
       "  </thead>\n",
       "  <tbody>\n",
       "    <tr>\n",
       "      <th>0</th>\n",
       "      <td>1.981553e-05</td>\n",
       "      <td>0.208791</td>\n",
       "      <td>0.221053</td>\n",
       "      <td>1</td>\n",
       "      <td>0</td>\n",
       "      <td>0</td>\n",
       "      <td>0</td>\n",
       "      <td>0</td>\n",
       "      <td>1</td>\n",
       "      <td>0</td>\n",
       "      <td>0</td>\n",
       "      <td>0</td>\n",
       "      <td>0</td>\n",
       "      <td>0</td>\n",
       "      <td>0</td>\n",
       "      <td>0</td>\n",
       "      <td>0</td>\n",
       "      <td>0</td>\n",
       "      <td>0</td>\n",
       "    </tr>\n",
       "    <tr>\n",
       "      <th>1</th>\n",
       "      <td>3.302593e-05</td>\n",
       "      <td>0.153846</td>\n",
       "      <td>0.336842</td>\n",
       "      <td>1</td>\n",
       "      <td>1</td>\n",
       "      <td>0</td>\n",
       "      <td>0</td>\n",
       "      <td>0</td>\n",
       "      <td>0</td>\n",
       "      <td>0</td>\n",
       "      <td>0</td>\n",
       "      <td>0</td>\n",
       "      <td>0</td>\n",
       "      <td>0</td>\n",
       "      <td>0</td>\n",
       "      <td>0</td>\n",
       "      <td>0</td>\n",
       "      <td>0</td>\n",
       "      <td>0</td>\n",
       "    </tr>\n",
       "    <tr>\n",
       "      <th>2</th>\n",
       "      <td>3.302534e-06</td>\n",
       "      <td>0.142857</td>\n",
       "      <td>0.368421</td>\n",
       "      <td>1</td>\n",
       "      <td>0</td>\n",
       "      <td>0</td>\n",
       "      <td>0</td>\n",
       "      <td>0</td>\n",
       "      <td>0</td>\n",
       "      <td>1</td>\n",
       "      <td>0</td>\n",
       "      <td>0</td>\n",
       "      <td>0</td>\n",
       "      <td>0</td>\n",
       "      <td>0</td>\n",
       "      <td>0</td>\n",
       "      <td>0</td>\n",
       "      <td>0</td>\n",
       "      <td>0</td>\n",
       "    </tr>\n",
       "    <tr>\n",
       "      <th>3</th>\n",
       "      <td>3.301939e-07</td>\n",
       "      <td>0.076923</td>\n",
       "      <td>0.157895</td>\n",
       "      <td>1</td>\n",
       "      <td>0</td>\n",
       "      <td>0</td>\n",
       "      <td>0</td>\n",
       "      <td>0</td>\n",
       "      <td>0</td>\n",
       "      <td>0</td>\n",
       "      <td>0</td>\n",
       "      <td>0</td>\n",
       "      <td>0</td>\n",
       "      <td>0</td>\n",
       "      <td>0</td>\n",
       "      <td>0</td>\n",
       "      <td>1</td>\n",
       "      <td>0</td>\n",
       "      <td>0</td>\n",
       "    </tr>\n",
       "    <tr>\n",
       "      <th>4</th>\n",
       "      <td>1.321033e-05</td>\n",
       "      <td>0.879121</td>\n",
       "      <td>0.473684</td>\n",
       "      <td>1</td>\n",
       "      <td>0</td>\n",
       "      <td>0</td>\n",
       "      <td>0</td>\n",
       "      <td>0</td>\n",
       "      <td>0</td>\n",
       "      <td>0</td>\n",
       "      <td>0</td>\n",
       "      <td>0</td>\n",
       "      <td>0</td>\n",
       "      <td>0</td>\n",
       "      <td>1</td>\n",
       "      <td>0</td>\n",
       "      <td>0</td>\n",
       "      <td>0</td>\n",
       "      <td>0</td>\n",
       "    </tr>\n",
       "  </tbody>\n",
       "</table>\n",
       "</div>"
      ],
      "text/plain": [
       "   usd_goal_real  duration  name_length  creator_type  Art  Comics  Crafts  \\\n",
       "0   1.981553e-05  0.208791     0.221053             1    0       0       0   \n",
       "1   3.302593e-05  0.153846     0.336842             1    1       0       0   \n",
       "2   3.302534e-06  0.142857     0.368421             1    0       0       0   \n",
       "3   3.301939e-07  0.076923     0.157895             1    0       0       0   \n",
       "4   1.321033e-05  0.879121     0.473684             1    0       0       0   \n",
       "\n",
       "   Dance  Design  Fashion  Film & Video  Food  Games  Journalism  Music  \\\n",
       "0      0       1        0             0     0      0           0      0   \n",
       "1      0       0        0             0     0      0           0      0   \n",
       "2      0       0        1             0     0      0           0      0   \n",
       "3      0       0        0             0     0      0           0      0   \n",
       "4      0       0        0             0     0      0           0      1   \n",
       "\n",
       "   Photography  Publishing  Technology  Theater  \n",
       "0            0           0           0        0  \n",
       "1            0           0           0        0  \n",
       "2            0           0           0        0  \n",
       "3            0           1           0        0  \n",
       "4            0           0           0        0  "
      ]
     },
     "execution_count": 31,
     "metadata": {},
     "output_type": "execute_result"
    }
   ],
   "source": [
    "df_features.head()"
   ]
  },
  {
   "cell_type": "code",
   "execution_count": 32,
   "id": "90af96f6",
   "metadata": {
    "scrolled": true
   },
   "outputs": [
    {
     "data": {
      "text/html": [
       "<div>\n",
       "<style scoped>\n",
       "    .dataframe tbody tr th:only-of-type {\n",
       "        vertical-align: middle;\n",
       "    }\n",
       "\n",
       "    .dataframe tbody tr th {\n",
       "        vertical-align: top;\n",
       "    }\n",
       "\n",
       "    .dataframe thead th {\n",
       "        text-align: right;\n",
       "    }\n",
       "</style>\n",
       "<table border=\"1\" class=\"dataframe\">\n",
       "  <thead>\n",
       "    <tr style=\"text-align: right;\">\n",
       "      <th></th>\n",
       "      <th>ID</th>\n",
       "      <th>successful</th>\n",
       "    </tr>\n",
       "  </thead>\n",
       "  <tbody>\n",
       "    <tr>\n",
       "      <th>0</th>\n",
       "      <td>558744194</td>\n",
       "      <td>1</td>\n",
       "    </tr>\n",
       "    <tr>\n",
       "      <th>1</th>\n",
       "      <td>134175247</td>\n",
       "      <td>1</td>\n",
       "    </tr>\n",
       "    <tr>\n",
       "      <th>2</th>\n",
       "      <td>1577455391</td>\n",
       "      <td>1</td>\n",
       "    </tr>\n",
       "    <tr>\n",
       "      <th>3</th>\n",
       "      <td>171893227</td>\n",
       "      <td>1</td>\n",
       "    </tr>\n",
       "    <tr>\n",
       "      <th>4</th>\n",
       "      <td>499552311</td>\n",
       "      <td>1</td>\n",
       "    </tr>\n",
       "  </tbody>\n",
       "</table>\n",
       "</div>"
      ],
      "text/plain": [
       "           ID  successful\n",
       "0   558744194           1\n",
       "1   134175247           1\n",
       "2  1577455391           1\n",
       "3   171893227           1\n",
       "4   499552311           1"
      ]
     },
     "execution_count": 32,
     "metadata": {},
     "output_type": "execute_result"
    }
   ],
   "source": [
    "df_target.head()"
   ]
  },
  {
   "cell_type": "code",
   "execution_count": 33,
   "id": "72e15413",
   "metadata": {},
   "outputs": [],
   "source": [
    "X_train, X_dev, y_train, y_dev = train_test_split(df_features, df_target[\"successful\"], random_state=42)"
   ]
  },
  {
   "cell_type": "code",
   "execution_count": 34,
   "id": "86a5ff1a",
   "metadata": {},
   "outputs": [],
   "source": [
    "# Klassifizierer wählen\n",
    "classifier = XGBClassifier(base_score=0.5, booster='gbtree', colsample_bylevel=1, colsample_bynode=1,\n",
    "                           colsample_bytree=1, enable_categorical=False, gamma=10, gpu_id=-1, importance_type=None,\n",
    "                               interaction_constraints='', learning_rate=0.300000012, max_delta_step=0,\n",
    "                               max_depth=6, min_child_weight=1, monotone_constraints='()', n_estimators=100,\n",
    "                               n_jobs=8, num_parallel_tree=1, predictor='auto',random_state=0, reg_alpha=0, \n",
    "                               reg_lambda=1, scale_pos_weight=1, subsample=1,tree_method='exact', \n",
    "                               use_label_encoder=False, validate_parameters=1, verbosity=None, eval_metric='logloss')"
   ]
  },
  {
   "cell_type": "code",
   "execution_count": 35,
   "id": "66d65043",
   "metadata": {},
   "outputs": [
    {
     "name": "stdout",
     "output_type": "stream",
     "text": [
      "Gesamtzahl Datenpunkte Training:  97185\n",
      "Anzahl Kategorie 0 46451\n",
      "Anzahl Kategorie 1 50734\n"
     ]
    }
   ],
   "source": [
    "# Anzahl der fehlgeschlagen (0) und erfolgreichen Projekte (1) in den Trainingsdaten\n",
    "print(\"Gesamtzahl Datenpunkte Training: \", len(y_train))\n",
    "\n",
    "for i in range(2):\n",
    "    print(\"Anzahl Kategorie\", str(i), list(y_train).count(i))"
   ]
  },
  {
   "cell_type": "code",
   "execution_count": 36,
   "id": "ff43032b",
   "metadata": {},
   "outputs": [
    {
     "name": "stdout",
     "output_type": "stream",
     "text": [
      "Gesamtzahl Datenpunkte Dev:  32395\n",
      "Anzahl Kategorie 0 15302\n",
      "Anzahl Kategorie 1 17093\n"
     ]
    }
   ],
   "source": [
    "# Nun für die Testdaten\n",
    "print(\"Gesamtzahl Datenpunkte Dev: \", len(y_dev))\n",
    "for i in range(2):\n",
    "    print(\"Anzahl Kategorie\", str(i), list(y_dev).count(i))"
   ]
  },
  {
   "cell_type": "code",
   "execution_count": 37,
   "id": "8c02182a",
   "metadata": {},
   "outputs": [],
   "source": [
    "classifier.fit(X_train, y_train)\n",
    "\n",
    "pred_freq = np.full(len(y_dev),1)\n",
    "predicted = classifier.predict(X_dev)"
   ]
  },
  {
   "cell_type": "code",
   "execution_count": 38,
   "id": "401f71f3",
   "metadata": {},
   "outputs": [
    {
     "name": "stdout",
     "output_type": "stream",
     "text": [
      "Trainiertes Modell, F1-Score:  0.7348683427990677\n",
      "Frequenzbaseline, F1-Score:  0.3644925818432922\n"
     ]
    }
   ],
   "source": [
    "print(\"Trainiertes Modell, F1-Score: \", f1_score(y_dev, predicted, average='weighted'))\n",
    "print(\"Frequenzbaseline, F1-Score: \",f1_score(y_dev, pred_freq, average='weighted'))"
   ]
  },
  {
   "cell_type": "code",
   "execution_count": 39,
   "id": "64f62354",
   "metadata": {},
   "outputs": [],
   "source": [
    "# Vergleichsbaseline definieren\n",
    "# Pipeline mit optimalen Parametern aus Klassifikation Notebook\n",
    "baseline_pipeline = Pipeline(steps=[('feature_selection',SelectFromModel(estimator=LinearSVC(dual=False, max_iter=2000,\n",
    "                                                     penalty='l1'))),\n",
    "                                    ('classifier', GaussianNB())])\n",
    "\n",
    "baseline_pipeline.fit(X_train, y_train)\n",
    "predicted_nb = baseline_pipeline.predict(X_dev)"
   ]
  },
  {
   "cell_type": "code",
   "execution_count": 40,
   "id": "16b151ad",
   "metadata": {
    "scrolled": true
   },
   "outputs": [
    {
     "name": "stdout",
     "output_type": "stream",
     "text": [
      "Modell XGBoost\n",
      "               precision    recall  f1-score   support\n",
      "\n",
      "           0       0.73      0.70      0.71     15302\n",
      "           1       0.74      0.77      0.75     17093\n",
      "\n",
      "    accuracy                           0.74     32395\n",
      "   macro avg       0.73      0.73      0.73     32395\n",
      "weighted avg       0.74      0.74      0.73     32395\n",
      "\n",
      "Modell Naive Bayes\n",
      "               precision    recall  f1-score   support\n",
      "\n",
      "           0       0.72      0.33      0.45     15302\n",
      "           1       0.59      0.88      0.71     17093\n",
      "\n",
      "    accuracy                           0.62     32395\n",
      "   macro avg       0.66      0.61      0.58     32395\n",
      "weighted avg       0.65      0.62      0.59     32395\n",
      "\n"
     ]
    }
   ],
   "source": [
    "print(\"Modell XGBoost\\n\", classification_report(y_dev, predicted))\n",
    "print(\"Modell Naive Bayes\\n\", classification_report(y_dev, predicted_nb))"
   ]
  },
  {
   "cell_type": "code",
   "execution_count": 41,
   "id": "554b3f15",
   "metadata": {},
   "outputs": [],
   "source": [
    "def plot_learning_curves(model, X_train,y_train, X_dev, y_dev):\n",
    "    train_fs, dev_fs = [], []\n",
    "    for m in range(100, X_train.shape[0],100):\n",
    "        model.fit(X_train[:m], y_train[:m])\n",
    "        y_train_predict = model.predict(X_train[:m])\n",
    "        y_dev_predict = model.predict(X_dev)\n",
    "        train_fs.append(f1_score(y_train[:m], y_train_predict,average='weighted'))\n",
    "        dev_fs.append(f1_score(y_dev, y_dev_predict, average='weighted'))\n",
    "    plt.plot(train_fs, \"r-+\", linewidth=2, label=\"train\")\n",
    "    plt.plot(dev_fs, \"b-\", linewidth=3, label=\"dev\")\n",
    "    plt.legend()\n",
    "    plt.xlabel('Index der Trainingsiteration')\n",
    "    plt.ylabel('F-Score des Lerners')"
   ]
  },
  {
   "cell_type": "code",
   "execution_count": 102,
   "id": "50c1c468",
   "metadata": {
    "scrolled": true
   },
   "outputs": [
    {
     "data": {
      "image/png": "[encoded data removed]",
      "text/plain": [
       "<Figure size 432x288 with 1 Axes>"
      ]
     },
     "metadata": {
      "needs_background": "light"
     },
     "output_type": "display_data"
    }
   ],
   "source": [
    "plot_learning_curves(classifier, X_train, y_train, X_dev, y_dev)"
   ]
  },
  {
   "cell_type": "code",
   "execution_count": 86,
   "id": "06ccf4fa",
   "metadata": {},
   "outputs": [
    {
     "data": {
      "text/plain": [
       "XGBClassifier(base_score=0.5, booster='gbtree', colsample_bylevel=1,\n",
       "              colsample_bynode=1, colsample_bytree=1, enable_categorical=False,\n",
       "              eval_metric='logloss', gamma=10, gpu_id=-1, importance_type=None,\n",
       "              interaction_constraints='', learning_rate=0.300000012,\n",
       "              max_delta_step=0, max_depth=6, min_child_weight=1, missing=nan,\n",
       "              monotone_constraints='()', n_estimators=100, n_jobs=8,\n",
       "              num_parallel_tree=1, predictor='auto', random_state=0,\n",
       "              reg_alpha=0, reg_lambda=1, scale_pos_weight=1, subsample=1,\n",
       "              tree_method='exact', use_label_encoder=False,\n",
       "              validate_parameters=1, verbosity=None)"
      ]
     },
     "execution_count": 86,
     "metadata": {},
     "output_type": "execute_result"
    }
   ],
   "source": [
    "X_train_lime, X_dev_lime, y_train_lime, y_dev_lime = train_test_split(df_features.values, df_target[\"successful\"].values, random_state=42)\n",
    "# Klassifizierer wählen\n",
    "classifier_lime = XGBClassifier(base_score=0.5, booster='gbtree', colsample_bylevel=1, colsample_bynode=1,\n",
    "                           colsample_bytree=1, enable_categorical=False, gamma=10, gpu_id=-1, importance_type=None,\n",
    "                               interaction_constraints='', learning_rate=0.300000012, max_delta_step=0,\n",
    "                               max_depth=6, min_child_weight=1, monotone_constraints='()', n_estimators=100,\n",
    "                               n_jobs=8, num_parallel_tree=1, predictor='auto',random_state=0, reg_alpha=0, \n",
    "                               reg_lambda=1, scale_pos_weight=1, subsample=1,tree_method='exact', \n",
    "                               use_label_encoder=False, validate_parameters=1, verbosity=None, eval_metric='logloss')\n",
    "\n",
    "classifier_lime.fit(X_train_lime, y_train_lime)"
   ]
  },
  {
   "cell_type": "code",
   "execution_count": 103,
   "id": "0b4b508c",
   "metadata": {},
   "outputs": [],
   "source": [
    "from lime import lime_tabular\n",
    "feature_names=list(df_features)\n",
    "class_names = [\"failed\",\"successful\"]\n",
    "explainer = lime_tabular.LimeTabularExplainer(training_data= X_train_lime,feature_names=list(df_features))"
   ]
  },
  {
   "cell_type": "code",
   "execution_count": 104,
   "id": "3afb131f",
   "metadata": {
    "scrolled": false
   },
   "outputs": [],
   "source": [
    "i = 83\n",
    "exp = explainer.explain_instance(X_dev_lime[i], classifier.predict_proba, num_features=19)"
   ]
  },
  {
   "cell_type": "code",
   "execution_count": 105,
   "id": "22cdd86b",
   "metadata": {},
   "outputs": [
    {
     "ename": "ValueError",
     "evalue": "training data did not have the following fields: usd_goal_real, duration, name_length, creator_type, Art, Comics, Crafts, Dance, Design, Fashion, Film & Video, Food, Games, Journalism, Music, Photography, Publishing, Technology, Theater",
     "output_type": "error",
     "traceback": [
      "\u001b[1;31m---------------------------------------------------------------------------\u001b[0m",
      "\u001b[1;31mValueError\u001b[0m                                Traceback (most recent call last)",
      "\u001b[1;32m~\\AppData\\Local\\Temp/ipykernel_25940/3896008606.py\u001b[0m in \u001b[0;36m<module>\u001b[1;34m\u001b[0m\n\u001b[1;32m----> 1\u001b[1;33m \u001b[0mprint\u001b[0m\u001b[1;33m(\u001b[0m\u001b[0mclassifier\u001b[0m\u001b[1;33m.\u001b[0m\u001b[0mpredict_proba\u001b[0m\u001b[1;33m(\u001b[0m\u001b[1;33m[\u001b[0m\u001b[0mX_dev_lime\u001b[0m\u001b[1;33m[\u001b[0m\u001b[0mi\u001b[0m\u001b[1;33m]\u001b[0m\u001b[1;33m]\u001b[0m\u001b[1;33m)\u001b[0m\u001b[1;33m.\u001b[0m\u001b[0mround\u001b[0m\u001b[1;33m(\u001b[0m\u001b[1;36m3\u001b[0m\u001b[1;33m)\u001b[0m\u001b[1;33m)\u001b[0m\u001b[1;33m\u001b[0m\u001b[1;33m\u001b[0m\u001b[0m\n\u001b[0m",
      "\u001b[1;32mC:\\anaconda3\\envs\\DataAnalyticsProjecktClone\\lib\\site-packages\\xgboost\\sklearn.py\u001b[0m in \u001b[0;36mpredict_proba\u001b[1;34m(self, X, ntree_limit, validate_features, base_margin, iteration_range)\u001b[0m\n\u001b[0;32m   1346\u001b[0m         \u001b[1;31m# binary:logistic: Expand the prob vector into 2-class matrix after predict.\u001b[0m\u001b[1;33m\u001b[0m\u001b[1;33m\u001b[0m\u001b[1;33m\u001b[0m\u001b[0m\n\u001b[0;32m   1347\u001b[0m         \u001b[1;31m# binary:logitraw: Unsupported by predict_proba()\u001b[0m\u001b[1;33m\u001b[0m\u001b[1;33m\u001b[0m\u001b[1;33m\u001b[0m\u001b[0m\n\u001b[1;32m-> 1348\u001b[1;33m         class_probs = super().predict(\n\u001b[0m\u001b[0;32m   1349\u001b[0m             \u001b[0mX\u001b[0m\u001b[1;33m=\u001b[0m\u001b[0mX\u001b[0m\u001b[1;33m,\u001b[0m\u001b[1;33m\u001b[0m\u001b[1;33m\u001b[0m\u001b[0m\n\u001b[0;32m   1350\u001b[0m             \u001b[0moutput_margin\u001b[0m\u001b[1;33m=\u001b[0m\u001b[0mself\u001b[0m\u001b[1;33m.\u001b[0m\u001b[0mobjective\u001b[0m \u001b[1;33m==\u001b[0m \u001b[1;34m\"multi:softmax\"\u001b[0m\u001b[1;33m,\u001b[0m\u001b[1;33m\u001b[0m\u001b[1;33m\u001b[0m\u001b[0m\n",
      "\u001b[1;32mC:\\anaconda3\\envs\\DataAnalyticsProjecktClone\\lib\\site-packages\\xgboost\\sklearn.py\u001b[0m in \u001b[0;36mpredict\u001b[1;34m(self, X, output_margin, ntree_limit, validate_features, base_margin, iteration_range)\u001b[0m\n\u001b[0;32m    901\u001b[0m             \u001b[0menable_categorical\u001b[0m\u001b[1;33m=\u001b[0m\u001b[0mself\u001b[0m\u001b[1;33m.\u001b[0m\u001b[0menable_categorical\u001b[0m\u001b[1;33m\u001b[0m\u001b[1;33m\u001b[0m\u001b[0m\n\u001b[0;32m    902\u001b[0m         )\n\u001b[1;32m--> 903\u001b[1;33m         return self.get_booster().predict(\n\u001b[0m\u001b[0;32m    904\u001b[0m             \u001b[0mdata\u001b[0m\u001b[1;33m=\u001b[0m\u001b[0mtest\u001b[0m\u001b[1;33m,\u001b[0m\u001b[1;33m\u001b[0m\u001b[1;33m\u001b[0m\u001b[0m\n\u001b[0;32m    905\u001b[0m             \u001b[0miteration_range\u001b[0m\u001b[1;33m=\u001b[0m\u001b[0miteration_range\u001b[0m\u001b[1;33m,\u001b[0m\u001b[1;33m\u001b[0m\u001b[1;33m\u001b[0m\u001b[0m\n",
      "\u001b[1;32mC:\\anaconda3\\envs\\DataAnalyticsProjecktClone\\lib\\site-packages\\xgboost\\core.py\u001b[0m in \u001b[0;36mpredict\u001b[1;34m(self, data, output_margin, ntree_limit, pred_leaf, pred_contribs, approx_contribs, pred_interactions, validate_features, training, iteration_range, strict_shape)\u001b[0m\n\u001b[0;32m   1885\u001b[0m             \u001b[1;32mraise\u001b[0m \u001b[0mTypeError\u001b[0m\u001b[1;33m(\u001b[0m\u001b[1;34m'Expecting data to be a DMatrix object, got: '\u001b[0m\u001b[1;33m,\u001b[0m \u001b[0mtype\u001b[0m\u001b[1;33m(\u001b[0m\u001b[0mdata\u001b[0m\u001b[1;33m)\u001b[0m\u001b[1;33m)\u001b[0m\u001b[1;33m\u001b[0m\u001b[1;33m\u001b[0m\u001b[0m\n\u001b[0;32m   1886\u001b[0m         \u001b[1;32mif\u001b[0m \u001b[0mvalidate_features\u001b[0m\u001b[1;33m:\u001b[0m\u001b[1;33m\u001b[0m\u001b[1;33m\u001b[0m\u001b[0m\n\u001b[1;32m-> 1887\u001b[1;33m             \u001b[0mself\u001b[0m\u001b[1;33m.\u001b[0m\u001b[0m_validate_features\u001b[0m\u001b[1;33m(\u001b[0m\u001b[0mdata\u001b[0m\u001b[1;33m)\u001b[0m\u001b[1;33m\u001b[0m\u001b[1;33m\u001b[0m\u001b[0m\n\u001b[0m\u001b[0;32m   1888\u001b[0m         \u001b[0miteration_range\u001b[0m \u001b[1;33m=\u001b[0m \u001b[0m_convert_ntree_limit\u001b[0m\u001b[1;33m(\u001b[0m\u001b[0mself\u001b[0m\u001b[1;33m,\u001b[0m \u001b[0mntree_limit\u001b[0m\u001b[1;33m,\u001b[0m \u001b[0miteration_range\u001b[0m\u001b[1;33m)\u001b[0m\u001b[1;33m\u001b[0m\u001b[1;33m\u001b[0m\u001b[0m\n\u001b[0;32m   1889\u001b[0m         args = {\n",
      "\u001b[1;32mC:\\anaconda3\\envs\\DataAnalyticsProjecktClone\\lib\\site-packages\\xgboost\\core.py\u001b[0m in \u001b[0;36m_validate_features\u001b[1;34m(self, data)\u001b[0m\n\u001b[0;32m   2456\u001b[0m             \u001b[0mself\u001b[0m\u001b[1;33m.\u001b[0m\u001b[0mfeature_types\u001b[0m \u001b[1;33m=\u001b[0m \u001b[0mdata\u001b[0m\u001b[1;33m.\u001b[0m\u001b[0mfeature_types\u001b[0m\u001b[1;33m\u001b[0m\u001b[1;33m\u001b[0m\u001b[0m\n\u001b[0;32m   2457\u001b[0m         \u001b[1;32mif\u001b[0m \u001b[0mdata\u001b[0m\u001b[1;33m.\u001b[0m\u001b[0mfeature_names\u001b[0m \u001b[1;32mis\u001b[0m \u001b[1;32mNone\u001b[0m \u001b[1;32mand\u001b[0m \u001b[0mself\u001b[0m\u001b[1;33m.\u001b[0m\u001b[0mfeature_names\u001b[0m \u001b[1;32mis\u001b[0m \u001b[1;32mnot\u001b[0m \u001b[1;32mNone\u001b[0m\u001b[1;33m:\u001b[0m\u001b[1;33m\u001b[0m\u001b[1;33m\u001b[0m\u001b[0m\n\u001b[1;32m-> 2458\u001b[1;33m             raise ValueError(\n\u001b[0m\u001b[0;32m   2459\u001b[0m                 \u001b[1;34m\"training data did not have the following fields: \"\u001b[0m \u001b[1;33m+\u001b[0m\u001b[1;33m\u001b[0m\u001b[1;33m\u001b[0m\u001b[0m\n\u001b[0;32m   2460\u001b[0m                 \u001b[1;34m\", \"\u001b[0m\u001b[1;33m.\u001b[0m\u001b[0mjoin\u001b[0m\u001b[1;33m(\u001b[0m\u001b[0mself\u001b[0m\u001b[1;33m.\u001b[0m\u001b[0mfeature_names\u001b[0m\u001b[1;33m)\u001b[0m\u001b[1;33m\u001b[0m\u001b[1;33m\u001b[0m\u001b[0m\n",
      "\u001b[1;31mValueError\u001b[0m: training data did not have the following fields: usd_goal_real, duration, name_length, creator_type, Art, Comics, Crafts, Dance, Design, Fashion, Film & Video, Food, Games, Journalism, Music, Photography, Publishing, Technology, Theater"
     ]
    }
   ],
   "source": [
    "print(classifier.predict_proba([X_dev_lime[i]]).round(3))"
   ]
  },
  {
   "cell_type": "code",
   "execution_count": null,
   "id": "2cb1eb68",
   "metadata": {
    "scrolled": false
   },
   "outputs": [],
   "source": [
    "exp.show_in_notebook(show_table=True, show_all=False)"
   ]
  },
  {
   "cell_type": "code",
   "execution_count": 100,
   "id": "4d0fefd0",
   "metadata": {
    "scrolled": true
   },
   "outputs": [
    {
     "name": "stdout",
     "output_type": "stream",
     "text": [
      "Document id: 83\n",
      "Probability(failed) = 0.5537654\n",
      "True class: failed\n"
     ]
    }
   ],
   "source": [
    "idx = 83\n",
    "exp = explainer.explain_instance(X_dev_lime[i], classifier.predict_proba, num_features=6)\n",
    "print('Document id: %d' % idx)\n",
    "print('Probability(failed) =', classifier.predict_proba([X_dev_lime[idx]])[0,0])\n",
    "print('True class: %s' % class_names[y_dev_lime[idx]])\n",
    "\n"
   ]
  },
  {
   "cell_type": "code",
   "execution_count": 87,
   "id": "1a589b8f",
   "metadata": {},
   "outputs": [],
   "source": [
    "exps_successful={}\n",
    "exps_failed={}\n",
    "\n",
    "list_of_maps=[exps_failed, exps_successful]\n",
    "\n",
    "# Achtung, läuft lange!\n",
    "\n",
    "for idx in range(0,len(y_dev_lime)):\n",
    "    \n",
    "    # Das beste Label für jede Instanz erklären\n",
    "\n",
    "    exp = explainer.explain_instance(X_dev_lime[idx], classifier_lime.predict_proba, num_samples=5000, num_features=6, top_labels=1)\n",
    "    # Die wichtigsten sechs Features für das top_label und ihre Evidenzen (wenn positiv) ablegen\n",
    "    top_label = exp.available_labels()[0] \n",
    "    feature_list = exp.as_list(top_label)\n",
    "\n",
    "    for rep,w in feature_list:\n",
    "        # nur positive Evidenzen zählen\n",
    "        if w<0:\n",
    "            continue\n",
    "        if rep in list_of_maps[top_label]:\n",
    "            list_of_maps[top_label][rep] += w\n",
    "        else: \n",
    "            list_of_maps[top_label][rep] = w\n",
    "    "
   ]
  },
  {
   "cell_type": "code",
   "execution_count": 88,
   "id": "704cf81c",
   "metadata": {},
   "outputs": [
    {
     "data": {
      "text/plain": [
       "{'usd_goal_real > 0.00': 2764.5991775286675,\n",
       " 'creator_type <= 0.00': 2124.0184369833955,\n",
       " 'Music <= 0.00': 474.12241016210334,\n",
       " 'duration > 0.37': 319.47834139144135,\n",
       " 'Food > 0.00': 264.03120617148676,\n",
       " 'Photography > 0.00': 205.56742198638307,\n",
       " 'Crafts > 0.00': 190.29305459883324,\n",
       " 'Film & Video <= 0.00': 102.27204361808997,\n",
       " 'Journalism > 0.00': 31.262198994806624,\n",
       " 'name_length <= 0.21': 20.570947606042598,\n",
       " 'Publishing <= 0.00': 5.628780881144418,\n",
       " 'Dance <= 0.00': 1.887763306202799,\n",
       " 'Comics <= 0.00': 0.8589544996158993,\n",
       " 'Design > 0.00': 0.29070877831492337}"
      ]
     },
     "execution_count": 88,
     "metadata": {},
     "output_type": "execute_result"
    }
   ],
   "source": [
    "# Klasse \"failed\"\n",
    "dict(sorted(exps_failed.items(), key=lambda item: item[1], reverse=True))"
   ]
  },
  {
   "cell_type": "code",
   "execution_count": 89,
   "id": "79bf346e",
   "metadata": {},
   "outputs": [
    {
     "data": {
      "text/plain": [
       "{'Crafts <= 0.00': 3486.8951097819554,\n",
       " 'Photography <= 0.00': 3456.2547704435697,\n",
       " 'Food <= 0.00': 1679.1610310307362,\n",
       " '0.00 < usd_goal_real <= 0.00': 1430.0756507930917,\n",
       " 'usd_goal_real <= 0.00': 1146.4748265960914,\n",
       " 'creator_type > 0.00': 893.822335412481,\n",
       " 'Journalism <= 0.00': 536.4197109486428,\n",
       " 'Music > 0.00': 186.2812605104179,\n",
       " 'duration <= 0.32': 99.41819487972892,\n",
       " 'Film & Video > 0.00': 48.92083634401246,\n",
       " 'Publishing > 0.00': 3.65062432056077,\n",
       " 'name_length > 0.49': 0.8773252672244993,\n",
       " 'Dance > 0.00': 0.5368474109987326,\n",
       " 'Design <= 0.00': 0.41399589771944534,\n",
       " 'Comics > 0.00': 0.35014880241508706}"
      ]
     },
     "execution_count": 89,
     "metadata": {},
     "output_type": "execute_result"
    }
   ],
   "source": [
    "# Klasse \"successful\"\n",
    "dict(sorted(exps_successful.items(), key=lambda item: item[1], reverse=True))"
   ]
  }
 ],
 "metadata": {
  "kernelspec": {
   "display_name": "Python 3 (ipykernel)",
   "language": "python",
   "name": "python3"
  },
  "language_info": {
   "codemirror_mode": {
    "name": "ipython",
    "version": 3
   },
   "file_extension": ".py",
   "mimetype": "text/x-python",
   "name": "python",
   "nbconvert_exporter": "python",
   "pygments_lexer": "ipython3",
   "version": "3.8.12"
  }
 },
 "nbformat": 4,
 "nbformat_minor": 5
}
