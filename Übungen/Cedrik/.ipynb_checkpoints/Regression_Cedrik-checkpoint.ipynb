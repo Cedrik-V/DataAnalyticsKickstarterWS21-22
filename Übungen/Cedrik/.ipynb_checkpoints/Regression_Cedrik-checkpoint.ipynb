{
 "cells": [
  {
   "cell_type": "code",
   "execution_count": 85,
   "id": "bf26ff0c",
   "metadata": {},
   "outputs": [],
   "source": [
    "import pandas as pd\n",
    "import numpy as np\n",
    "import matplotlib.pyplot as plt\n",
    "import os\n",
    "from os.path import dirname\n",
    "import seaborn as sns\n",
    "import time\n",
    "from sklearn.preprocessing import MinMaxScaler\n",
    "from sklearn.model_selection import train_test_split\n",
    "from sklearn.feature_extraction.text import TfidfVectorizer\n",
    "from sklearn.feature_selection import SelectFromModel\n",
    "from sklearn.svm import LinearSVC\n",
    "from sklearn.pipeline import Pipeline\n",
    "from sklearn.model_selection import GridSearchCV\n",
    "from sklearn.model_selection import cross_val_predict\n",
    "import statsmodels.api as sm\n",
    "from statsmodels.formula.api import ols\n",
    "from statsmodels.stats.anova import anova_lm\n",
    "from sklearn import linear_model\n",
    "\n",
    "notebook_path = os.path.abspath(\"DataAnalyticsKickstarterNotebook_Cedrik.ipynb\")\n",
    "csv_path_features = os.path.join(os.path.dirname(dirname(notebook_path)), \"data/ks-project-edited-regression-features.csv\")\n",
    "csv_path_trueLabels = os.path.join(os.path.dirname(dirname(notebook_path)), \"data/ks-project-edited-regression-target.csv\")"
   ]
  },
  {
   "cell_type": "code",
   "execution_count": 2,
   "id": "a7105e74",
   "metadata": {},
   "outputs": [],
   "source": [
    "df_features = pd.read_csv (csv_path_features, low_memory=False)\n",
    "df_target = pd.read_csv (csv_path_trueLabels, low_memory=False)"
   ]
  },
  {
   "cell_type": "code",
   "execution_count": 3,
   "id": "6b0acfa5",
   "metadata": {
    "scrolled": false
   },
   "outputs": [
    {
     "data": {
      "text/html": [
       "<div>\n",
       "<style scoped>\n",
       "    .dataframe tbody tr th:only-of-type {\n",
       "        vertical-align: middle;\n",
       "    }\n",
       "\n",
       "    .dataframe tbody tr th {\n",
       "        vertical-align: top;\n",
       "    }\n",
       "\n",
       "    .dataframe thead th {\n",
       "        text-align: right;\n",
       "    }\n",
       "</style>\n",
       "<table border=\"1\" class=\"dataframe\">\n",
       "  <thead>\n",
       "    <tr style=\"text-align: right;\">\n",
       "      <th></th>\n",
       "      <th>usd_goal_real</th>\n",
       "      <th>duration</th>\n",
       "      <th>name_length</th>\n",
       "      <th>creator_type</th>\n",
       "      <th>Art</th>\n",
       "      <th>Comics</th>\n",
       "      <th>Crafts</th>\n",
       "      <th>Dance</th>\n",
       "      <th>Design</th>\n",
       "      <th>Fashion</th>\n",
       "      <th>Film &amp; Video</th>\n",
       "      <th>Food</th>\n",
       "      <th>Games</th>\n",
       "      <th>Journalism</th>\n",
       "      <th>Music</th>\n",
       "      <th>Photography</th>\n",
       "      <th>Publishing</th>\n",
       "      <th>Technology</th>\n",
       "      <th>Theater</th>\n",
       "    </tr>\n",
       "  </thead>\n",
       "  <tbody>\n",
       "    <tr>\n",
       "      <th>0</th>\n",
       "      <td>3000.0</td>\n",
       "      <td>20</td>\n",
       "      <td>22</td>\n",
       "      <td>1</td>\n",
       "      <td>0</td>\n",
       "      <td>0</td>\n",
       "      <td>0</td>\n",
       "      <td>0</td>\n",
       "      <td>1</td>\n",
       "      <td>0</td>\n",
       "      <td>0</td>\n",
       "      <td>0</td>\n",
       "      <td>0</td>\n",
       "      <td>0</td>\n",
       "      <td>0</td>\n",
       "      <td>0</td>\n",
       "      <td>0</td>\n",
       "      <td>0</td>\n",
       "      <td>0</td>\n",
       "    </tr>\n",
       "    <tr>\n",
       "      <th>1</th>\n",
       "      <td>5000.0</td>\n",
       "      <td>15</td>\n",
       "      <td>33</td>\n",
       "      <td>1</td>\n",
       "      <td>1</td>\n",
       "      <td>0</td>\n",
       "      <td>0</td>\n",
       "      <td>0</td>\n",
       "      <td>0</td>\n",
       "      <td>0</td>\n",
       "      <td>0</td>\n",
       "      <td>0</td>\n",
       "      <td>0</td>\n",
       "      <td>0</td>\n",
       "      <td>0</td>\n",
       "      <td>0</td>\n",
       "      <td>0</td>\n",
       "      <td>0</td>\n",
       "      <td>0</td>\n",
       "    </tr>\n",
       "    <tr>\n",
       "      <th>2</th>\n",
       "      <td>500.0</td>\n",
       "      <td>14</td>\n",
       "      <td>36</td>\n",
       "      <td>1</td>\n",
       "      <td>0</td>\n",
       "      <td>0</td>\n",
       "      <td>0</td>\n",
       "      <td>0</td>\n",
       "      <td>0</td>\n",
       "      <td>1</td>\n",
       "      <td>0</td>\n",
       "      <td>0</td>\n",
       "      <td>0</td>\n",
       "      <td>0</td>\n",
       "      <td>0</td>\n",
       "      <td>0</td>\n",
       "      <td>0</td>\n",
       "      <td>0</td>\n",
       "      <td>0</td>\n",
       "    </tr>\n",
       "    <tr>\n",
       "      <th>3</th>\n",
       "      <td>50.0</td>\n",
       "      <td>8</td>\n",
       "      <td>16</td>\n",
       "      <td>1</td>\n",
       "      <td>0</td>\n",
       "      <td>0</td>\n",
       "      <td>0</td>\n",
       "      <td>0</td>\n",
       "      <td>0</td>\n",
       "      <td>0</td>\n",
       "      <td>0</td>\n",
       "      <td>0</td>\n",
       "      <td>0</td>\n",
       "      <td>0</td>\n",
       "      <td>0</td>\n",
       "      <td>0</td>\n",
       "      <td>1</td>\n",
       "      <td>0</td>\n",
       "      <td>0</td>\n",
       "    </tr>\n",
       "    <tr>\n",
       "      <th>4</th>\n",
       "      <td>2000.0</td>\n",
       "      <td>81</td>\n",
       "      <td>46</td>\n",
       "      <td>1</td>\n",
       "      <td>0</td>\n",
       "      <td>0</td>\n",
       "      <td>0</td>\n",
       "      <td>0</td>\n",
       "      <td>0</td>\n",
       "      <td>0</td>\n",
       "      <td>0</td>\n",
       "      <td>0</td>\n",
       "      <td>0</td>\n",
       "      <td>0</td>\n",
       "      <td>1</td>\n",
       "      <td>0</td>\n",
       "      <td>0</td>\n",
       "      <td>0</td>\n",
       "      <td>0</td>\n",
       "    </tr>\n",
       "  </tbody>\n",
       "</table>\n",
       "</div>"
      ],
      "text/plain": [
       "   usd_goal_real  duration  name_length  creator_type  Art  Comics  Crafts  \\\n",
       "0         3000.0        20           22             1    0       0       0   \n",
       "1         5000.0        15           33             1    1       0       0   \n",
       "2          500.0        14           36             1    0       0       0   \n",
       "3           50.0         8           16             1    0       0       0   \n",
       "4         2000.0        81           46             1    0       0       0   \n",
       "\n",
       "   Dance  Design  Fashion  Film & Video  Food  Games  Journalism  Music  \\\n",
       "0      0       1        0             0     0      0           0      0   \n",
       "1      0       0        0             0     0      0           0      0   \n",
       "2      0       0        1             0     0      0           0      0   \n",
       "3      0       0        0             0     0      0           0      0   \n",
       "4      0       0        0             0     0      0           0      1   \n",
       "\n",
       "   Photography  Publishing  Technology  Theater  \n",
       "0            0           0           0        0  \n",
       "1            0           0           0        0  \n",
       "2            0           0           0        0  \n",
       "3            0           1           0        0  \n",
       "4            0           0           0        0  "
      ]
     },
     "execution_count": 3,
     "metadata": {},
     "output_type": "execute_result"
    }
   ],
   "source": [
    "df_features.head()"
   ]
  },
  {
   "cell_type": "code",
   "execution_count": 87,
   "id": "c8104e4b",
   "metadata": {},
   "outputs": [],
   "source": [
    "df_new_target = df_features[\"usd_goal_real\"]\n",
    "df_features.drop(columns=\"usd_goal_real\", inplace=True)"
   ]
  },
  {
   "cell_type": "code",
   "execution_count": 27,
   "id": "05018cb4",
   "metadata": {
    "scrolled": true
   },
   "outputs": [
    {
     "data": {
      "text/html": [
       "<div>\n",
       "<style scoped>\n",
       "    .dataframe tbody tr th:only-of-type {\n",
       "        vertical-align: middle;\n",
       "    }\n",
       "\n",
       "    .dataframe tbody tr th {\n",
       "        vertical-align: top;\n",
       "    }\n",
       "\n",
       "    .dataframe thead th {\n",
       "        text-align: right;\n",
       "    }\n",
       "</style>\n",
       "<table border=\"1\" class=\"dataframe\">\n",
       "  <thead>\n",
       "    <tr style=\"text-align: right;\">\n",
       "      <th></th>\n",
       "      <th>usd_pledged_real</th>\n",
       "    </tr>\n",
       "  </thead>\n",
       "  <tbody>\n",
       "    <tr>\n",
       "      <th>0</th>\n",
       "      <td>3222.00</td>\n",
       "    </tr>\n",
       "    <tr>\n",
       "      <th>1</th>\n",
       "      <td>11486.00</td>\n",
       "    </tr>\n",
       "    <tr>\n",
       "      <th>2</th>\n",
       "      <td>16167.71</td>\n",
       "    </tr>\n",
       "    <tr>\n",
       "      <th>3</th>\n",
       "      <td>207.66</td>\n",
       "    </tr>\n",
       "    <tr>\n",
       "      <th>4</th>\n",
       "      <td>8647.79</td>\n",
       "    </tr>\n",
       "  </tbody>\n",
       "</table>\n",
       "</div>"
      ],
      "text/plain": [
       "   usd_pledged_real\n",
       "0           3222.00\n",
       "1          11486.00\n",
       "2          16167.71\n",
       "3            207.66\n",
       "4           8647.79"
      ]
     },
     "execution_count": 27,
     "metadata": {},
     "output_type": "execute_result"
    }
   ],
   "source": [
    "df_target.head()"
   ]
  },
  {
   "cell_type": "code",
   "execution_count": 26,
   "id": "8753598e",
   "metadata": {},
   "outputs": [
    {
     "data": {
      "text/html": [
       "<div>\n",
       "<style scoped>\n",
       "    .dataframe tbody tr th:only-of-type {\n",
       "        vertical-align: middle;\n",
       "    }\n",
       "\n",
       "    .dataframe tbody tr th {\n",
       "        vertical-align: top;\n",
       "    }\n",
       "\n",
       "    .dataframe thead th {\n",
       "        text-align: right;\n",
       "    }\n",
       "</style>\n",
       "<table border=\"1\" class=\"dataframe\">\n",
       "  <thead>\n",
       "    <tr style=\"text-align: right;\">\n",
       "      <th></th>\n",
       "      <th>usd_goal_real</th>\n",
       "      <th>duration</th>\n",
       "      <th>name_length</th>\n",
       "      <th>usd_pledged_real</th>\n",
       "      <th>creator_type</th>\n",
       "      <th>Art</th>\n",
       "      <th>Comics</th>\n",
       "      <th>Crafts</th>\n",
       "      <th>Dance</th>\n",
       "      <th>Design</th>\n",
       "      <th>Fashion</th>\n",
       "      <th>Film &amp; Video</th>\n",
       "      <th>Food</th>\n",
       "      <th>Games</th>\n",
       "      <th>Journalism</th>\n",
       "      <th>Music</th>\n",
       "      <th>Photography</th>\n",
       "      <th>Publishing</th>\n",
       "      <th>Technology</th>\n",
       "      <th>Theater</th>\n",
       "    </tr>\n",
       "  </thead>\n",
       "  <tbody>\n",
       "    <tr>\n",
       "      <th>0</th>\n",
       "      <td>3000.0</td>\n",
       "      <td>20</td>\n",
       "      <td>22</td>\n",
       "      <td>3222.00</td>\n",
       "      <td>1</td>\n",
       "      <td>0</td>\n",
       "      <td>0</td>\n",
       "      <td>0</td>\n",
       "      <td>0</td>\n",
       "      <td>1</td>\n",
       "      <td>0</td>\n",
       "      <td>0</td>\n",
       "      <td>0</td>\n",
       "      <td>0</td>\n",
       "      <td>0</td>\n",
       "      <td>0</td>\n",
       "      <td>0</td>\n",
       "      <td>0</td>\n",
       "      <td>0</td>\n",
       "      <td>0</td>\n",
       "    </tr>\n",
       "    <tr>\n",
       "      <th>1</th>\n",
       "      <td>5000.0</td>\n",
       "      <td>15</td>\n",
       "      <td>33</td>\n",
       "      <td>11486.00</td>\n",
       "      <td>1</td>\n",
       "      <td>1</td>\n",
       "      <td>0</td>\n",
       "      <td>0</td>\n",
       "      <td>0</td>\n",
       "      <td>0</td>\n",
       "      <td>0</td>\n",
       "      <td>0</td>\n",
       "      <td>0</td>\n",
       "      <td>0</td>\n",
       "      <td>0</td>\n",
       "      <td>0</td>\n",
       "      <td>0</td>\n",
       "      <td>0</td>\n",
       "      <td>0</td>\n",
       "      <td>0</td>\n",
       "    </tr>\n",
       "    <tr>\n",
       "      <th>2</th>\n",
       "      <td>500.0</td>\n",
       "      <td>14</td>\n",
       "      <td>36</td>\n",
       "      <td>16167.71</td>\n",
       "      <td>1</td>\n",
       "      <td>0</td>\n",
       "      <td>0</td>\n",
       "      <td>0</td>\n",
       "      <td>0</td>\n",
       "      <td>0</td>\n",
       "      <td>1</td>\n",
       "      <td>0</td>\n",
       "      <td>0</td>\n",
       "      <td>0</td>\n",
       "      <td>0</td>\n",
       "      <td>0</td>\n",
       "      <td>0</td>\n",
       "      <td>0</td>\n",
       "      <td>0</td>\n",
       "      <td>0</td>\n",
       "    </tr>\n",
       "    <tr>\n",
       "      <th>3</th>\n",
       "      <td>50.0</td>\n",
       "      <td>8</td>\n",
       "      <td>16</td>\n",
       "      <td>207.66</td>\n",
       "      <td>1</td>\n",
       "      <td>0</td>\n",
       "      <td>0</td>\n",
       "      <td>0</td>\n",
       "      <td>0</td>\n",
       "      <td>0</td>\n",
       "      <td>0</td>\n",
       "      <td>0</td>\n",
       "      <td>0</td>\n",
       "      <td>0</td>\n",
       "      <td>0</td>\n",
       "      <td>0</td>\n",
       "      <td>0</td>\n",
       "      <td>1</td>\n",
       "      <td>0</td>\n",
       "      <td>0</td>\n",
       "    </tr>\n",
       "    <tr>\n",
       "      <th>4</th>\n",
       "      <td>2000.0</td>\n",
       "      <td>81</td>\n",
       "      <td>46</td>\n",
       "      <td>8647.79</td>\n",
       "      <td>1</td>\n",
       "      <td>0</td>\n",
       "      <td>0</td>\n",
       "      <td>0</td>\n",
       "      <td>0</td>\n",
       "      <td>0</td>\n",
       "      <td>0</td>\n",
       "      <td>0</td>\n",
       "      <td>0</td>\n",
       "      <td>0</td>\n",
       "      <td>0</td>\n",
       "      <td>1</td>\n",
       "      <td>0</td>\n",
       "      <td>0</td>\n",
       "      <td>0</td>\n",
       "      <td>0</td>\n",
       "    </tr>\n",
       "  </tbody>\n",
       "</table>\n",
       "</div>"
      ],
      "text/plain": [
       "   usd_goal_real  duration  name_length  usd_pledged_real  creator_type  Art  \\\n",
       "0         3000.0        20           22           3222.00             1    0   \n",
       "1         5000.0        15           33          11486.00             1    1   \n",
       "2          500.0        14           36          16167.71             1    0   \n",
       "3           50.0         8           16            207.66             1    0   \n",
       "4         2000.0        81           46           8647.79             1    0   \n",
       "\n",
       "   Comics  Crafts  Dance  Design  Fashion  Film & Video  Food  Games  \\\n",
       "0       0       0      0       1        0             0     0      0   \n",
       "1       0       0      0       0        0             0     0      0   \n",
       "2       0       0      0       0        1             0     0      0   \n",
       "3       0       0      0       0        0             0     0      0   \n",
       "4       0       0      0       0        0             0     0      0   \n",
       "\n",
       "   Journalism  Music  Photography  Publishing  Technology  Theater  \n",
       "0           0      0            0           0           0        0  \n",
       "1           0      0            0           0           0        0  \n",
       "2           0      0            0           0           0        0  \n",
       "3           0      0            0           1           0        0  \n",
       "4           0      1            0           0           0        0  "
      ]
     },
     "execution_count": 26,
     "metadata": {},
     "output_type": "execute_result"
    }
   ],
   "source": [
    "df_merged = df_features.copy()\n",
    "df_merged.insert(3, 'usd_pledged_real', df_target)\n",
    "df_merged.head()"
   ]
  },
  {
   "cell_type": "code",
   "execution_count": 4,
   "id": "c6f25f4b",
   "metadata": {},
   "outputs": [
    {
     "name": "stdout",
     "output_type": "stream",
     "text": [
      "      usd_pledged_real\n",
      "count     129580.00000\n",
      "mean       10409.71634\n",
      "std        77752.77396\n",
      "min            0.00000\n",
      "25%           52.00000\n",
      "50%         1195.00000\n",
      "75%         5649.25000\n",
      "max      8596474.58000\n"
     ]
    }
   ],
   "source": [
    "print(df_target.describe().apply(lambda s: s.apply('{0:.5f}'.format)))"
   ]
  },
  {
   "cell_type": "code",
   "execution_count": 14,
   "id": "2a6ccd28",
   "metadata": {
    "scrolled": true
   },
   "outputs": [
    {
     "name": "stdout",
     "output_type": "stream",
     "text": [
      "         usd_goal_real      duration   name_length\n",
      "count     129580.00000  129580.00000  129580.00000\n",
      "mean       50975.36696      32.93627      34.55207\n",
      "std      1342563.25624      11.90823      15.62217\n",
      "min            0.01000       1.00000       1.00000\n",
      "0.5%          18.18740       6.89500       5.00000\n",
      "50%         5000.00000      30.00000      34.00000\n",
      "99%       332884.52570      60.00000      60.00000\n",
      "max    151395869.92000      92.00000      96.00000\n"
     ]
    }
   ],
   "source": [
    "print(df_features.iloc[:,:3].describe(percentiles=[.005,.99]).apply(lambda s: s.apply('{0:.5f}'.format)))"
   ]
  },
  {
   "cell_type": "code",
   "execution_count": 146,
   "id": "711cac05",
   "metadata": {
    "scrolled": true
   },
   "outputs": [
    {
     "name": "stdout",
     "output_type": "stream",
     "text": [
      "<class 'pandas.core.frame.DataFrame'>\n",
      "Int64Index: 124151 entries, 0 to 129579\n",
      "Data columns (total 21 columns):\n",
      " #   Column            Non-Null Count   Dtype  \n",
      "---  ------            --------------   -----  \n",
      " 0   usd_goal_real     124151 non-null  float64\n",
      " 1   duration          124151 non-null  int64  \n",
      " 2   name_length       124151 non-null  int64  \n",
      " 3   usd_pledged_real  124151 non-null  float64\n",
      " 4   creator_type      124151 non-null  int64  \n",
      " 5   Art               124151 non-null  int64  \n",
      " 6   Comics            124151 non-null  int64  \n",
      " 7   Crafts            124151 non-null  int64  \n",
      " 8   Dance             124151 non-null  int64  \n",
      " 9   Design            124151 non-null  int64  \n",
      " 10  Fashion           124151 non-null  int64  \n",
      " 11  Film & Video      124151 non-null  int64  \n",
      " 12  Food              124151 non-null  int64  \n",
      " 13  Games             124151 non-null  int64  \n",
      " 14  Journalism        124151 non-null  int64  \n",
      " 15  Music             124151 non-null  int64  \n",
      " 16  Photography       124151 non-null  int64  \n",
      " 17  Publishing        124151 non-null  int64  \n",
      " 18  Technology        124151 non-null  int64  \n",
      " 19  Theater           124151 non-null  int64  \n",
      " 20  target            124151 non-null  float64\n",
      "dtypes: float64(3), int64(18)\n",
      "memory usage: 20.8 MB\n"
     ]
    }
   ],
   "source": [
    "df_outlier = df_merged[(df_merged[\"usd_goal_real\"]<=150000) & (df_merged[\"usd_goal_real\"] >= 100)\n",
    "                        &(df_merged[\"duration\"] <= 60) & (df_merged[\"name_length\"] <= 60)]\n",
    "df_outlier.info()"
   ]
  },
  {
   "cell_type": "code",
   "execution_count": 47,
   "id": "5ae2146c",
   "metadata": {},
   "outputs": [
    {
     "name": "stdout",
     "output_type": "stream",
     "text": [
      "      usd_goal_real      duration   name_length\n",
      "count  124151.00000  124151.00000  124151.00000\n",
      "mean    12290.02701      32.61933      34.56253\n",
      "std     20541.74278      11.31404      15.53016\n",
      "min       100.00000       1.00000       1.00000\n",
      "0.5%      100.00000       7.00000       5.00000\n",
      "50%      5000.00000      30.00000      34.00000\n",
      "99%    100000.00000      60.00000      60.00000\n",
      "max    150000.00000      60.00000      60.00000\n"
     ]
    }
   ],
   "source": [
    "print(df_outlier.iloc[:,:3].describe(percentiles=[.005,.99]).apply(lambda s: s.apply('{0:.5f}'.format)))"
   ]
  },
  {
   "cell_type": "code",
   "execution_count": 147,
   "id": "83385443",
   "metadata": {},
   "outputs": [
    {
     "name": "stderr",
     "output_type": "stream",
     "text": [
      "C:\\Users\\Cedrik\\AppData\\Local\\Temp/ipykernel_13480/4293239327.py:7: SettingWithCopyWarning: \n",
      "A value is trying to be set on a copy of a slice from a DataFrame.\n",
      "Try using .loc[row_indexer,col_indexer] = value instead\n",
      "\n",
      "See the caveats in the documentation: https://pandas.pydata.org/pandas-docs/stable/user_guide/indexing.html#returning-a-view-versus-a-copy\n",
      "  df_outlier[feature] = scaler.fit_transform(df_outlier[[feature]])\n",
      "C:\\Users\\Cedrik\\AppData\\Local\\Temp/ipykernel_13480/4293239327.py:7: SettingWithCopyWarning: \n",
      "A value is trying to be set on a copy of a slice from a DataFrame.\n",
      "Try using .loc[row_indexer,col_indexer] = value instead\n",
      "\n",
      "See the caveats in the documentation: https://pandas.pydata.org/pandas-docs/stable/user_guide/indexing.html#returning-a-view-versus-a-copy\n",
      "  df_outlier[feature] = scaler.fit_transform(df_outlier[[feature]])\n"
     ]
    }
   ],
   "source": [
    "from sklearn.preprocessing import MinMaxScaler\n",
    "\n",
    "scaler = MinMaxScaler()\n",
    "list_scaler = [\"duration\",\"name_length\"]\n",
    "for feature in list_scaler:\n",
    "    scaler.fit(df_outlier[[feature]])\n",
    "    df_outlier[feature] = scaler.fit_transform(df_outlier[[feature]])"
   ]
  },
  {
   "cell_type": "code",
   "execution_count": 148,
   "id": "c3efe712",
   "metadata": {
    "scrolled": true
   },
   "outputs": [],
   "source": [
    "df_outlier_target = df_outlier[\"usd_goal_real\"]"
   ]
  },
  {
   "cell_type": "code",
   "execution_count": 149,
   "id": "be765701",
   "metadata": {},
   "outputs": [
    {
     "name": "stderr",
     "output_type": "stream",
     "text": [
      "C:\\anaconda3\\envs\\DataAnalyticsProjecktClone\\lib\\site-packages\\pandas\\core\\frame.py:4906: SettingWithCopyWarning: \n",
      "A value is trying to be set on a copy of a slice from a DataFrame\n",
      "\n",
      "See the caveats in the documentation: https://pandas.pydata.org/pandas-docs/stable/user_guide/indexing.html#returning-a-view-versus-a-copy\n",
      "  return super().drop(\n"
     ]
    }
   ],
   "source": [
    "df_outlier.drop(columns=[\"usd_pledged_real\",\"usd_goal_real\"], inplace=True)"
   ]
  },
  {
   "cell_type": "code",
   "execution_count": 53,
   "id": "e7820206",
   "metadata": {},
   "outputs": [],
   "source": [
    "model = sm.OLS(df_target,df_features).fit()"
   ]
  },
  {
   "cell_type": "code",
   "execution_count": 54,
   "id": "979c9aa5",
   "metadata": {
    "scrolled": false
   },
   "outputs": [
    {
     "name": "stdout",
     "output_type": "stream",
     "text": [
      "                            OLS Regression Results                            \n",
      "==============================================================================\n",
      "Dep. Variable:       usd_pledged_real   R-squared:                       0.022\n",
      "Model:                            OLS   Adj. R-squared:                  0.022\n",
      "Method:                 Least Squares   F-statistic:                     164.0\n",
      "Date:                Mon, 13 Dec 2021   Prob (F-statistic):               0.00\n",
      "Time:                        11:37:05   Log-Likelihood:            -1.6416e+06\n",
      "No. Observations:              129580   AIC:                         3.283e+06\n",
      "Df Residuals:                  129561   BIC:                         3.284e+06\n",
      "Df Model:                          18                                         \n",
      "Covariance Type:            nonrobust                                         \n",
      "=================================================================================\n",
      "                    coef    std err          t      P>|t|      [0.025      0.975]\n",
      "---------------------------------------------------------------------------------\n",
      "usd_goal_real     0.0003      0.000      1.722      0.085   -3.78e-05       0.001\n",
      "duration         98.5441     18.014      5.470      0.000      63.237     133.851\n",
      "name_length     204.4584     13.949     14.658      0.000     177.119     231.797\n",
      "creator_type    465.0066    372.788      1.247      0.212    -265.652    1195.665\n",
      "Art           -6697.7771   1015.182     -6.598      0.000   -8687.517   -4708.037\n",
      "Comics         1923.2579   1771.836      1.085      0.278   -1549.509    5396.024\n",
      "Crafts        -8469.2097   1416.461     -5.979      0.000   -1.12e+04   -5692.970\n",
      "Dance         -6025.9987   1515.074     -3.977      0.000   -8995.516   -3056.481\n",
      "Design         -803.4267   1518.749     -0.529      0.597   -3780.147    2173.294\n",
      "Fashion        -118.7920   1303.991     -0.091      0.927   -2674.592    2437.008\n",
      "Film & Video    854.8317    912.843      0.936      0.349    -934.324    2643.988\n",
      "Food          -4542.2157   1057.667     -4.295      0.000   -6615.224   -2469.208\n",
      "Games           1.13e+04   1264.768      8.933      0.000    8819.168    1.38e+04\n",
      "Journalism    -6353.1856   1409.023     -4.509      0.000   -9114.846   -3591.525\n",
      "Music         -5909.3385    962.846     -6.137      0.000   -7796.500   -4022.177\n",
      "Photography   -4525.7148   1231.067     -3.676      0.000   -6938.584   -2112.846\n",
      "Publishing    -4294.8195   1039.696     -4.131      0.000   -6332.606   -2257.033\n",
      "Technology     3.169e+04   1107.348     28.622      0.000    2.95e+04    3.39e+04\n",
      "Theater       -5228.4301   1304.695     -4.007      0.000   -7785.609   -2671.251\n",
      "==============================================================================\n",
      "Omnibus:                   395344.926   Durbin-Watson:                   1.911\n",
      "Prob(Omnibus):                  0.000   Jarque-Bera (JB):      58610268813.834\n",
      "Skew:                          45.917   Prob(JB):                         0.00\n",
      "Kurtosis:                    3296.478   Cond. No.                     2.00e+07\n",
      "==============================================================================\n",
      "\n",
      "Notes:\n",
      "[1] Standard Errors assume that the covariance matrix of the errors is correctly specified.\n",
      "[2] The condition number is large,  2e+07. This might indicate that there are\n",
      "strong multicollinearity or other numerical problems.\n"
     ]
    }
   ],
   "source": [
    "print(model.summary())"
   ]
  },
  {
   "cell_type": "code",
   "execution_count": 57,
   "id": "f74ad6c0",
   "metadata": {},
   "outputs": [],
   "source": [
    "list_features = [\"duration\", \"name_length\"]\n",
    "df_features_updated = df_features[list_features].copy()"
   ]
  },
  {
   "cell_type": "code",
   "execution_count": 58,
   "id": "2e0ecf58",
   "metadata": {
    "scrolled": false
   },
   "outputs": [
    {
     "name": "stdout",
     "output_type": "stream",
     "text": [
      "                                 OLS Regression Results                                \n",
      "=======================================================================================\n",
      "Dep. Variable:       usd_pledged_real   R-squared (uncentered):                   0.021\n",
      "Model:                            OLS   Adj. R-squared (uncentered):              0.020\n",
      "Method:                 Least Squares   F-statistic:                              1356.\n",
      "Date:                Mon, 13 Dec 2021   Prob (F-statistic):                        0.00\n",
      "Time:                        11:46:12   Log-Likelihood:                     -1.6429e+06\n",
      "No. Observations:              129580   AIC:                                  3.286e+06\n",
      "Df Residuals:                  129578   BIC:                                  3.286e+06\n",
      "Df Model:                           2                                                  \n",
      "Covariance Type:            nonrobust                                                  \n",
      "===============================================================================\n",
      "                  coef    std err          t      P>|t|      [0.025      0.975]\n",
      "-------------------------------------------------------------------------------\n",
      "duration       87.2295     11.924      7.315      0.000      63.859     110.600\n",
      "name_length   224.3269     11.013     20.369      0.000     202.741     245.912\n",
      "==============================================================================\n",
      "Omnibus:                   393493.608   Durbin-Watson:                   1.909\n",
      "Prob(Omnibus):                  0.000   Jarque-Bera (JB):      55586473970.284\n",
      "Skew:                          45.330   Prob(JB):                         0.00\n",
      "Kurtosis:                    3210.360   Cond. No.                         3.61\n",
      "==============================================================================\n",
      "\n",
      "Notes:\n",
      "[1] R² is computed without centering (uncentered) since the model does not contain a constant.\n",
      "[2] Standard Errors assume that the covariance matrix of the errors is correctly specified.\n"
     ]
    }
   ],
   "source": [
    "model = sm.OLS(df_target,df_features_updated).fit()\n",
    "print(model.summary())"
   ]
  },
  {
   "cell_type": "code",
   "execution_count": 49,
   "id": "d7984c69",
   "metadata": {
    "scrolled": false
   },
   "outputs": [
    {
     "name": "stdout",
     "output_type": "stream",
     "text": [
      "                            OLS Regression Results                            \n",
      "==============================================================================\n",
      "Dep. Variable:       usd_pledged_real   R-squared:                       0.072\n",
      "Model:                            OLS   Adj. R-squared:                  0.072\n",
      "Method:                 Least Squares   F-statistic:                     536.1\n",
      "Date:                Tue, 14 Dec 2021   Prob (F-statistic):               0.00\n",
      "Time:                        14:15:57   Log-Likelihood:            -1.5247e+06\n",
      "No. Observations:              124151   AIC:                         3.049e+06\n",
      "Df Residuals:                  124132   BIC:                         3.050e+06\n",
      "Df Model:                          18                                         \n",
      "Covariance Type:            nonrobust                                         \n",
      "=================================================================================\n",
      "                    coef    std err          t      P>|t|      [0.025      0.975]\n",
      "---------------------------------------------------------------------------------\n",
      "usd_goal_real     0.5176      0.008     67.881      0.000       0.503       0.533\n",
      "duration        -11.4981     13.258     -0.867      0.386     -37.483      14.487\n",
      "name_length     172.7119      9.733     17.745      0.000     153.636     191.788\n",
      "creator_type   1747.3047    260.121      6.717      0.000    1237.472    2257.137\n",
      "Art           -6201.2320    714.608     -8.678      0.000   -7601.851   -4800.613\n",
      "Comics         1977.1322   1228.027      1.610      0.107    -429.780    4384.045\n",
      "Crafts        -7883.9919    989.666     -7.966      0.000   -9823.721   -5944.262\n",
      "Dance         -5314.7097   1046.737     -5.077      0.000   -7366.296   -3263.123\n",
      "Design        -4127.5967   1073.403     -3.845      0.000   -6231.449   -2023.744\n",
      "Fashion       -2235.8970    911.018     -2.454      0.014   -4021.477    -450.317\n",
      "Film & Video  -4089.1097    647.543     -6.315      0.000   -5358.283   -2819.937\n",
      "Food          -1.019e+04    757.796    -13.449      0.000   -1.17e+04   -8706.199\n",
      "Games         -2117.0738    894.196     -2.368      0.018   -3869.683    -364.465\n",
      "Journalism    -8924.6850    986.367     -9.048      0.000   -1.09e+04   -6991.422\n",
      "Music         -5063.9338    677.591     -7.473      0.000   -6392.001   -3735.867\n",
      "Photography   -5240.3913    861.623     -6.082      0.000   -6929.158   -3551.624\n",
      "Publishing    -3854.0832    731.127     -5.271      0.000   -5287.081   -2421.086\n",
      "Technology     1.963e+04    796.788     24.634      0.000    1.81e+04    2.12e+04\n",
      "Theater       -5946.7877    908.949     -6.542      0.000   -7728.313   -4165.262\n",
      "==============================================================================\n",
      "Omnibus:                   334346.570   Durbin-Watson:                   1.854\n",
      "Prob(Omnibus):                  0.000   Jarque-Bera (JB):      17503932873.963\n",
      "Skew:                          32.867   Prob(JB):                         0.00\n",
      "Kurtosis:                    1841.319   Cond. No.                     3.67e+05\n",
      "==============================================================================\n",
      "\n",
      "Notes:\n",
      "[1] Standard Errors assume that the covariance matrix of the errors is correctly specified.\n",
      "[2] The condition number is large, 3.67e+05. This might indicate that there are\n",
      "strong multicollinearity or other numerical problems.\n"
     ]
    }
   ],
   "source": [
    "model = sm.OLS(df_outlier_target,df_outlier).fit()\n",
    "print(model.summary())"
   ]
  },
  {
   "cell_type": "code",
   "execution_count": 52,
   "id": "00eef4cd",
   "metadata": {
    "scrolled": true
   },
   "outputs": [
    {
     "name": "stderr",
     "output_type": "stream",
     "text": [
      "C:\\anaconda3\\envs\\DataAnalyticsProjecktClone\\lib\\site-packages\\pandas\\core\\frame.py:4906: SettingWithCopyWarning: \n",
      "A value is trying to be set on a copy of a slice from a DataFrame\n",
      "\n",
      "See the caveats in the documentation: https://pandas.pydata.org/pandas-docs/stable/user_guide/indexing.html#returning-a-view-versus-a-copy\n",
      "  return super().drop(\n"
     ]
    }
   ],
   "source": [
    "df_outlier.drop(columns=[\"duration\"], inplace = True)"
   ]
  },
  {
   "cell_type": "code",
   "execution_count": 65,
   "id": "618848eb",
   "metadata": {},
   "outputs": [],
   "source": [
    "df_outlier.drop(columns=[\"usd_pledged_real\"],inplace=True)"
   ]
  },
  {
   "cell_type": "code",
   "execution_count": 66,
   "id": "2835a53d",
   "metadata": {
    "scrolled": false
   },
   "outputs": [
    {
     "name": "stdout",
     "output_type": "stream",
     "text": [
      "                            OLS Regression Results                            \n",
      "==============================================================================\n",
      "Dep. Variable:          usd_goal_real   R-squared:                       0.107\n",
      "Model:                            OLS   Adj. R-squared:                  0.107\n",
      "Method:                 Least Squares   F-statistic:                     876.1\n",
      "Date:                Tue, 14 Dec 2021   Prob (F-statistic):               0.00\n",
      "Time:                        14:38:08   Log-Likelihood:            -1.4020e+06\n",
      "No. Observations:              124151   AIC:                         2.804e+06\n",
      "Df Residuals:                  124133   BIC:                         2.804e+06\n",
      "Df Model:                          17                                         \n",
      "Covariance Type:            nonrobust                                         \n",
      "================================================================================\n",
      "                   coef    std err          t      P>|t|      [0.025      0.975]\n",
      "--------------------------------------------------------------------------------\n",
      "const         2962.6608    203.575     14.553      0.000    2563.657    3361.665\n",
      "duration       240.5327      4.888     49.213      0.000     230.953     250.112\n",
      "name_length     39.3571      3.621     10.869      0.000      32.260      46.455\n",
      "creator_type -1349.7338     96.752    -13.950      0.000   -1539.366   -1160.102\n",
      "Art          -4019.8357    174.601    -23.023      0.000   -4362.050   -3677.621\n",
      "Comics       -3294.1219    387.354     -8.504      0.000   -4053.328   -2534.915\n",
      "Crafts       -4623.2762    296.693    -15.583      0.000   -5204.789   -4041.763\n",
      "Dance        -5101.2974    314.770    -16.206      0.000   -5718.241   -4484.354\n",
      "Design        2031.0218    326.474      6.221      0.000    1391.138    2670.905\n",
      "Fashion       1059.2693    257.603      4.112      0.000     554.372    1564.167\n",
      "Film & Video  3143.4402    150.244     20.922      0.000    2848.964    3437.916\n",
      "Food          7553.2781    187.821     40.215      0.000    7185.152    7921.405\n",
      "Games         4407.1217    257.679     17.103      0.000    3902.075    4912.169\n",
      "Journalism    1152.9087    288.909      3.991      0.000     586.652    1719.165\n",
      "Music        -4912.3463    145.204    -33.831      0.000   -5196.944   -4627.749\n",
      "Photography  -2179.9412    238.230     -9.151      0.000   -2646.868   -1713.015\n",
      "Publishing   -4146.6028    175.494    -23.628      0.000   -4490.568   -3802.638\n",
      "Technology    1.442e+04    188.016     76.692      0.000    1.41e+04    1.48e+04\n",
      "Theater      -2526.2264    258.323     -9.779      0.000   -3032.534   -2019.919\n",
      "==============================================================================\n",
      "Omnibus:                    85529.750   Durbin-Watson:                   1.895\n",
      "Prob(Omnibus):                  0.000   Jarque-Bera (JB):          1218835.809\n",
      "Skew:                           3.229   Prob(JB):                         0.00\n",
      "Kurtosis:                      16.925   Cond. No.                     1.12e+16\n",
      "==============================================================================\n",
      "\n",
      "Notes:\n",
      "[1] Standard Errors assume that the covariance matrix of the errors is correctly specified.\n",
      "[2] The smallest eigenvalue is 2.43e-24. This might indicate that there are\n",
      "strong multicollinearity problems or that the design matrix is singular.\n"
     ]
    }
   ],
   "source": [
    "df_outlier = sm.add_constant(df_outlier)\n",
    "model = sm.OLS(df_outlier_target,df_outlier).fit()\n",
    "print(model.summary())"
   ]
  },
  {
   "cell_type": "code",
   "execution_count": 157,
   "id": "54fd720b",
   "metadata": {
    "scrolled": true
   },
   "outputs": [
    {
     "name": "stderr",
     "output_type": "stream",
     "text": [
      "C:\\anaconda3\\envs\\DataAnalyticsProjecktClone\\lib\\site-packages\\pandas\\core\\frame.py:4906: SettingWithCopyWarning: \n",
      "A value is trying to be set on a copy of a slice from a DataFrame\n",
      "\n",
      "See the caveats in the documentation: https://pandas.pydata.org/pandas-docs/stable/user_guide/indexing.html#returning-a-view-versus-a-copy\n",
      "  return super().drop(\n"
     ]
    }
   ],
   "source": [
    "df_outlier.drop(columns=\"target\", inplace=True)"
   ]
  },
  {
   "cell_type": "code",
   "execution_count": 163,
   "id": "eb451b4d",
   "metadata": {
    "scrolled": true
   },
   "outputs": [
    {
     "data": {
      "text/plain": [
       "0          3000.00\n",
       "1          5000.00\n",
       "2           500.00\n",
       "5         30000.00\n",
       "6          4000.00\n",
       "            ...   \n",
       "129574    10000.00\n",
       "129575     8437.96\n",
       "129577     5000.00\n",
       "129578     2587.10\n",
       "129579     1200.00\n",
       "Name: usd_goal_real, Length: 124151, dtype: float64"
      ]
     },
     "execution_count": 163,
     "metadata": {},
     "output_type": "execute_result"
    }
   ],
   "source": [
    "df_outlier_target"
   ]
  },
  {
   "cell_type": "code",
   "execution_count": 159,
   "id": "8c13446e",
   "metadata": {},
   "outputs": [],
   "source": [
    "X_train, X_test, y_train, y_test = train_test_split(df_outlier, df_outlier_target, random_state=42)"
   ]
  },
  {
   "cell_type": "code",
   "execution_count": 160,
   "id": "0f8c9eb9",
   "metadata": {},
   "outputs": [],
   "source": [
    "clf_Linear = linear_model.LinearRegression()\n",
    "clf_Linear.fit(X_train, y_train)\n",
    "predicted = clf_Linear.predict(X_test)\n",
    "expected = y_test"
   ]
  },
  {
   "cell_type": "code",
   "execution_count": 164,
   "id": "8152d8e5",
   "metadata": {},
   "outputs": [
    {
     "name": "stdout",
     "output_type": "stream",
     "text": [
      "372271890.9718815\n",
      "11361.25918648109\n"
     ]
    }
   ],
   "source": [
    "from sklearn.metrics import mean_squared_error, mean_absolute_error\n",
    "print(mean_squared_error(expected, predicted))\n",
    "print(mean_absolute_error(expected, predicted))"
   ]
  },
  {
   "cell_type": "code",
   "execution_count": 165,
   "id": "1bdf5af1",
   "metadata": {},
   "outputs": [
    {
     "data": {
      "text/plain": [
       "0.10801074522885046"
      ]
     },
     "execution_count": 165,
     "metadata": {},
     "output_type": "execute_result"
    }
   ],
   "source": [
    "from sklearn.metrics import explained_variance_score\n",
    "explained_variance_score(expected,predicted)"
   ]
  }
 ],
 "metadata": {
  "kernelspec": {
   "display_name": "Python 3 (ipykernel)",
   "language": "python",
   "name": "python3"
  },
  "language_info": {
   "codemirror_mode": {
    "name": "ipython",
    "version": 3
   },
   "file_extension": ".py",
   "mimetype": "text/x-python",
   "name": "python",
   "nbconvert_exporter": "python",
   "pygments_lexer": "ipython3",
   "version": "3.8.12"
  }
 },
 "nbformat": 4,
 "nbformat_minor": 5
}
