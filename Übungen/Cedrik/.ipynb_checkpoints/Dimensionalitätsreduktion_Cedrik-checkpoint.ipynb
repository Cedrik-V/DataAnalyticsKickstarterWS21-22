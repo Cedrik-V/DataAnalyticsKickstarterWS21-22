{
 "cells": [
  {
   "cell_type": "code",
   "execution_count": 195,
   "id": "3b7e0566",
   "metadata": {},
   "outputs": [],
   "source": [
    "import pandas as pd\n",
    "import numpy as np\n",
    "import matplotlib.pyplot as plt\n",
    "import os\n",
    "from os.path import dirname\n",
    "import datetime as dt\n",
    "import seaborn as sns\n",
    "import time\n",
    "from sklearn.preprocessing import MinMaxScaler\n",
    "from sklearn.model_selection import train_test_split\n",
    "from sklearn.feature_extraction.text import TfidfVectorizer\n",
    "from sklearn.feature_selection import SelectFromModel\n",
    "from sklearn.svm import LinearSVC\n",
    "from sklearn.pipeline import Pipeline\n",
    "from sklearn.svm import SVC\n",
    "from sklearn.model_selection import GridSearchCV\n",
    "from sklearn.metrics import classification_report, confusion_matrix\n",
    "from sklearn.model_selection import cross_val_predict\n",
    "from xgboost import XGBClassifier\n",
    "from sklearn.neighbors import KNeighborsClassifier\n",
    "from sklearn.ensemble import RandomForestClassifier\n",
    "from sklearn.naive_bayes import GaussianNB\n",
    "from sklearn.feature_selection import VarianceThreshold\n",
    "from sklearn.decomposition import PCA\n",
    "from sklearn.cluster import KMeans\n",
    "\n",
    "notebook_path = os.path.abspath(\"DataAnalyticsKickstarterNotebook_Cedrik.ipynb\")\n",
    "csv_path_features = os.path.join(os.path.dirname(dirname(notebook_path)), \"data/ks-project-edited-klassifikation-features.csv\")\n",
    "csv_path_trueLabels = os.path.join(os.path.dirname(dirname(notebook_path)), \"data/ks-project-edited-klassifikation-target.csv\")"
   ]
  },
  {
   "cell_type": "code",
   "execution_count": 196,
   "id": "a68741d4",
   "metadata": {},
   "outputs": [],
   "source": [
    "df_features = pd.read_csv (csv_path_features, low_memory=False)\n",
    "df_target = pd.read_csv (csv_path_trueLabels, low_memory=False)"
   ]
  },
  {
   "cell_type": "code",
   "execution_count": 197,
   "id": "41ac6936",
   "metadata": {},
   "outputs": [
    {
     "data": {
      "text/html": [
       "<div>\n",
       "<style scoped>\n",
       "    .dataframe tbody tr th:only-of-type {\n",
       "        vertical-align: middle;\n",
       "    }\n",
       "\n",
       "    .dataframe tbody tr th {\n",
       "        vertical-align: top;\n",
       "    }\n",
       "\n",
       "    .dataframe thead th {\n",
       "        text-align: right;\n",
       "    }\n",
       "</style>\n",
       "<table border=\"1\" class=\"dataframe\">\n",
       "  <thead>\n",
       "    <tr style=\"text-align: right;\">\n",
       "      <th></th>\n",
       "      <th>usd_goal_real</th>\n",
       "      <th>duration</th>\n",
       "      <th>name_length</th>\n",
       "      <th>creator_type</th>\n",
       "      <th>Art</th>\n",
       "      <th>Comics</th>\n",
       "      <th>Crafts</th>\n",
       "      <th>Dance</th>\n",
       "      <th>Design</th>\n",
       "      <th>Fashion</th>\n",
       "      <th>Film &amp; Video</th>\n",
       "      <th>Food</th>\n",
       "      <th>Games</th>\n",
       "      <th>Journalism</th>\n",
       "      <th>Music</th>\n",
       "      <th>Photography</th>\n",
       "      <th>Publishing</th>\n",
       "      <th>Technology</th>\n",
       "      <th>Theater</th>\n",
       "    </tr>\n",
       "  </thead>\n",
       "  <tbody>\n",
       "    <tr>\n",
       "      <th>0</th>\n",
       "      <td>1.981553e-05</td>\n",
       "      <td>0.208791</td>\n",
       "      <td>0.221053</td>\n",
       "      <td>1</td>\n",
       "      <td>0</td>\n",
       "      <td>0</td>\n",
       "      <td>0</td>\n",
       "      <td>0</td>\n",
       "      <td>1</td>\n",
       "      <td>0</td>\n",
       "      <td>0</td>\n",
       "      <td>0</td>\n",
       "      <td>0</td>\n",
       "      <td>0</td>\n",
       "      <td>0</td>\n",
       "      <td>0</td>\n",
       "      <td>0</td>\n",
       "      <td>0</td>\n",
       "      <td>0</td>\n",
       "    </tr>\n",
       "    <tr>\n",
       "      <th>1</th>\n",
       "      <td>3.302593e-05</td>\n",
       "      <td>0.153846</td>\n",
       "      <td>0.336842</td>\n",
       "      <td>1</td>\n",
       "      <td>1</td>\n",
       "      <td>0</td>\n",
       "      <td>0</td>\n",
       "      <td>0</td>\n",
       "      <td>0</td>\n",
       "      <td>0</td>\n",
       "      <td>0</td>\n",
       "      <td>0</td>\n",
       "      <td>0</td>\n",
       "      <td>0</td>\n",
       "      <td>0</td>\n",
       "      <td>0</td>\n",
       "      <td>0</td>\n",
       "      <td>0</td>\n",
       "      <td>0</td>\n",
       "    </tr>\n",
       "    <tr>\n",
       "      <th>2</th>\n",
       "      <td>3.302534e-06</td>\n",
       "      <td>0.142857</td>\n",
       "      <td>0.368421</td>\n",
       "      <td>1</td>\n",
       "      <td>0</td>\n",
       "      <td>0</td>\n",
       "      <td>0</td>\n",
       "      <td>0</td>\n",
       "      <td>0</td>\n",
       "      <td>1</td>\n",
       "      <td>0</td>\n",
       "      <td>0</td>\n",
       "      <td>0</td>\n",
       "      <td>0</td>\n",
       "      <td>0</td>\n",
       "      <td>0</td>\n",
       "      <td>0</td>\n",
       "      <td>0</td>\n",
       "      <td>0</td>\n",
       "    </tr>\n",
       "    <tr>\n",
       "      <th>3</th>\n",
       "      <td>3.301939e-07</td>\n",
       "      <td>0.076923</td>\n",
       "      <td>0.157895</td>\n",
       "      <td>1</td>\n",
       "      <td>0</td>\n",
       "      <td>0</td>\n",
       "      <td>0</td>\n",
       "      <td>0</td>\n",
       "      <td>0</td>\n",
       "      <td>0</td>\n",
       "      <td>0</td>\n",
       "      <td>0</td>\n",
       "      <td>0</td>\n",
       "      <td>0</td>\n",
       "      <td>0</td>\n",
       "      <td>0</td>\n",
       "      <td>1</td>\n",
       "      <td>0</td>\n",
       "      <td>0</td>\n",
       "    </tr>\n",
       "    <tr>\n",
       "      <th>4</th>\n",
       "      <td>1.321033e-05</td>\n",
       "      <td>0.879121</td>\n",
       "      <td>0.473684</td>\n",
       "      <td>1</td>\n",
       "      <td>0</td>\n",
       "      <td>0</td>\n",
       "      <td>0</td>\n",
       "      <td>0</td>\n",
       "      <td>0</td>\n",
       "      <td>0</td>\n",
       "      <td>0</td>\n",
       "      <td>0</td>\n",
       "      <td>0</td>\n",
       "      <td>0</td>\n",
       "      <td>1</td>\n",
       "      <td>0</td>\n",
       "      <td>0</td>\n",
       "      <td>0</td>\n",
       "      <td>0</td>\n",
       "    </tr>\n",
       "  </tbody>\n",
       "</table>\n",
       "</div>"
      ],
      "text/plain": [
       "   usd_goal_real  duration  name_length  creator_type  Art  Comics  Crafts  \\\n",
       "0   1.981553e-05  0.208791     0.221053             1    0       0       0   \n",
       "1   3.302593e-05  0.153846     0.336842             1    1       0       0   \n",
       "2   3.302534e-06  0.142857     0.368421             1    0       0       0   \n",
       "3   3.301939e-07  0.076923     0.157895             1    0       0       0   \n",
       "4   1.321033e-05  0.879121     0.473684             1    0       0       0   \n",
       "\n",
       "   Dance  Design  Fashion  Film & Video  Food  Games  Journalism  Music  \\\n",
       "0      0       1        0             0     0      0           0      0   \n",
       "1      0       0        0             0     0      0           0      0   \n",
       "2      0       0        1             0     0      0           0      0   \n",
       "3      0       0        0             0     0      0           0      0   \n",
       "4      0       0        0             0     0      0           0      1   \n",
       "\n",
       "   Photography  Publishing  Technology  Theater  \n",
       "0            0           0           0        0  \n",
       "1            0           0           0        0  \n",
       "2            0           0           0        0  \n",
       "3            0           1           0        0  \n",
       "4            0           0           0        0  "
      ]
     },
     "execution_count": 197,
     "metadata": {},
     "output_type": "execute_result"
    }
   ],
   "source": [
    "df_features.head()"
   ]
  },
  {
   "cell_type": "code",
   "execution_count": 198,
   "id": "d01f44cc",
   "metadata": {
    "scrolled": true
   },
   "outputs": [
    {
     "data": {
      "text/html": [
       "<div>\n",
       "<style scoped>\n",
       "    .dataframe tbody tr th:only-of-type {\n",
       "        vertical-align: middle;\n",
       "    }\n",
       "\n",
       "    .dataframe tbody tr th {\n",
       "        vertical-align: top;\n",
       "    }\n",
       "\n",
       "    .dataframe thead th {\n",
       "        text-align: right;\n",
       "    }\n",
       "</style>\n",
       "<table border=\"1\" class=\"dataframe\">\n",
       "  <thead>\n",
       "    <tr style=\"text-align: right;\">\n",
       "      <th></th>\n",
       "      <th>ID</th>\n",
       "      <th>successful</th>\n",
       "    </tr>\n",
       "  </thead>\n",
       "  <tbody>\n",
       "    <tr>\n",
       "      <th>0</th>\n",
       "      <td>558744194</td>\n",
       "      <td>1</td>\n",
       "    </tr>\n",
       "    <tr>\n",
       "      <th>1</th>\n",
       "      <td>134175247</td>\n",
       "      <td>1</td>\n",
       "    </tr>\n",
       "    <tr>\n",
       "      <th>2</th>\n",
       "      <td>1577455391</td>\n",
       "      <td>1</td>\n",
       "    </tr>\n",
       "    <tr>\n",
       "      <th>3</th>\n",
       "      <td>171893227</td>\n",
       "      <td>1</td>\n",
       "    </tr>\n",
       "    <tr>\n",
       "      <th>4</th>\n",
       "      <td>499552311</td>\n",
       "      <td>1</td>\n",
       "    </tr>\n",
       "  </tbody>\n",
       "</table>\n",
       "</div>"
      ],
      "text/plain": [
       "           ID  successful\n",
       "0   558744194           1\n",
       "1   134175247           1\n",
       "2  1577455391           1\n",
       "3   171893227           1\n",
       "4   499552311           1"
      ]
     },
     "execution_count": 198,
     "metadata": {},
     "output_type": "execute_result"
    }
   ],
   "source": [
    "df_target.head()"
   ]
  },
  {
   "cell_type": "code",
   "execution_count": 199,
   "id": "b97f94b5",
   "metadata": {},
   "outputs": [
    {
     "data": {
      "text/plain": [
       "1    67827\n",
       "0    61753\n",
       "Name: successful, dtype: int64"
      ]
     },
     "execution_count": 199,
     "metadata": {},
     "output_type": "execute_result"
    }
   ],
   "source": [
    "df_target[\"successful\"].value_counts()"
   ]
  },
  {
   "cell_type": "code",
   "execution_count": 200,
   "id": "9a5add2d",
   "metadata": {},
   "outputs": [],
   "source": [
    "X_train, X_dev, y_train, y_dev = train_test_split(df_features, df_target[\"successful\"], random_state=42)"
   ]
  },
  {
   "cell_type": "code",
   "execution_count": 201,
   "id": "7bdb756b",
   "metadata": {},
   "outputs": [],
   "source": [
    "# Klassifizierer wählen\n",
    "classifier = XGBClassifier(base_score=0.5, booster='gbtree', colsample_bylevel=1, colsample_bynode=1,\n",
    "                           colsample_bytree=1, enable_categorical=False, gamma=10, gpu_id=-1, importance_type=None,\n",
    "                               interaction_constraints='', learning_rate=0.300000012, max_delta_step=0,\n",
    "                               max_depth=6, min_child_weight=1, monotone_constraints='()', n_estimators=100,\n",
    "                               n_jobs=8, num_parallel_tree=1, predictor='auto',random_state=0, reg_alpha=0, \n",
    "                               reg_lambda=1, scale_pos_weight=1, subsample=1,tree_method='exact', \n",
    "                               use_label_encoder=False, validate_parameters=1, verbosity=None, eval_metric='logloss')"
   ]
  },
  {
   "cell_type": "markdown",
   "id": "faecf165",
   "metadata": {},
   "source": [
    "## Feature-Auswahl mit VarianceThreshold"
   ]
  },
  {
   "cell_type": "code",
   "execution_count": 202,
   "id": "d1b7f973",
   "metadata": {},
   "outputs": [],
   "source": [
    "variance_list = [0,0.05,0.10,0.15,0.20]\n",
    "list_deletedFeatures = []\n",
    "list_time = []\n",
    "accuracy_list = []\n",
    "for variance in variance_list:\n",
    "    dim_reduction = VarianceThreshold(threshold = variance)\n",
    "    pipeline = Pipeline([('dim_reduction', dim_reduction),\n",
    "                         ('classifier', classifier)])\n",
    "    start = time.time()\n",
    "    pipeline.fit(X_train, y_train)\n",
    "    done = time.time()\n",
    "    elapsed = done - start\n",
    "    concol = [column for column in X_train.columns \n",
    "             if column not in X_train.columns[dim_reduction.get_support()]]\n",
    "\n",
    "    list_deletedFeatures.append(len(concol))\n",
    "    list_time.append(round(elapsed,2))\n",
    "    accuracy_list.append(round(pipeline.score(X_train, y_train),4))"
   ]
  },
  {
   "cell_type": "code",
   "execution_count": 203,
   "id": "6835ee23",
   "metadata": {},
   "outputs": [
    {
     "name": "stdout",
     "output_type": "stream",
     "text": [
      "Variance Retained\tNumber of Components\tTime\t\tAccuracy\n",
      "1\t\t\t19\t\t\t4.53\t\t0.736\n",
      "0.95\t\t\t7\t\t\t2.45\t\t0.6886\n",
      "0.9\t\t\t3\t\t\t1.54\t\t0.6717\n",
      "0.85\t\t\t1\t\t\t0.98\t\t0.6161\n",
      "0.8\t\t\t1\t\t\t0.86\t\t0.6161\n"
     ]
    }
   ],
   "source": [
    "print('Variance Retained\\tNumber of Components\\tTime\\t\\tAccuracy')\n",
    "for i in range(0,5):\n",
    "    results=[(1 - variance_list[i]),(19 - list_deletedFeatures[i]),list_time[i],accuracy_list[i]]\n",
    "    formatter_result = (\"{}\\t\\t\\t{}\\t\\t\\t{}\\t\\t{}\")\n",
    "    print(formatter_result.format(*results))"
   ]
  },
  {
   "cell_type": "code",
   "execution_count": 204,
   "id": "41384216",
   "metadata": {
    "scrolled": false
   },
   "outputs": [
    {
     "name": "stdout",
     "output_type": "stream",
     "text": [
      "usd_goal_real\n",
      "duration\n",
      "name_length\n",
      "Art\n",
      "Comics\n",
      "Crafts\n",
      "Dance\n",
      "Design\n",
      "Fashion\n",
      "Film & Video\n",
      "Food\n",
      "Games\n",
      "Journalism\n",
      "Music\n",
      "Photography\n",
      "Publishing\n",
      "Technology\n",
      "Theater\n"
     ]
    }
   ],
   "source": [
    "concol = [column for column in X_train.columns \n",
    "          if column not in X_train.columns[dim_reduction.get_support()]]\n",
    "\n",
    "\n",
    "for features in concol:\n",
    "    print(features)"
   ]
  },
  {
   "cell_type": "code",
   "execution_count": 205,
   "id": "a04e8ea0",
   "metadata": {},
   "outputs": [],
   "source": [
    "dim_reduction = VarianceThreshold(threshold = 0.05)\n",
    "pipeline_final = Pipeline([('dim_reduction', dim_reduction),\n",
    "                         ('classifier', classifier)])"
   ]
  },
  {
   "cell_type": "code",
   "execution_count": 206,
   "id": "6ddedca6",
   "metadata": {},
   "outputs": [
    {
     "data": {
      "text/plain": [
       "Pipeline(steps=[('dim_reduction', VarianceThreshold(threshold=0.05)),\n",
       "                ('classifier',\n",
       "                 XGBClassifier(base_score=0.5, booster='gbtree',\n",
       "                               colsample_bylevel=1, colsample_bynode=1,\n",
       "                               colsample_bytree=1, enable_categorical=False,\n",
       "                               eval_metric='logloss', gamma=10, gpu_id=-1,\n",
       "                               importance_type=None, interaction_constraints='',\n",
       "                               learning_rate=0.300000012, max_delta_step=0,\n",
       "                               max_depth=6, min_child_weight=1, missing=nan,\n",
       "                               monotone_constraints='()', n_estimators=100,\n",
       "                               n_jobs=8, num_parallel_tree=1, predictor='auto',\n",
       "                               random_state=0, reg_alpha=0, reg_lambda=1,\n",
       "                               scale_pos_weight=1, subsample=1,\n",
       "                               tree_method='exact', use_label_encoder=False,\n",
       "                               validate_parameters=1, verbosity=None))])"
      ]
     },
     "execution_count": 206,
     "metadata": {},
     "output_type": "execute_result"
    }
   ],
   "source": [
    "pipeline_final.fit(X_train, y_train)"
   ]
  },
  {
   "cell_type": "code",
   "execution_count": 207,
   "id": "1b331b51",
   "metadata": {},
   "outputs": [
    {
     "name": "stdout",
     "output_type": "stream",
     "text": [
      "Classification report for Variance Threshhold dimensionality reduction:\n",
      "              precision    recall  f1-score   support\n",
      "\n",
      "           0       0.66      0.70      0.68     15302\n",
      "           1       0.71      0.68      0.69     17093\n",
      "\n",
      "    accuracy                           0.69     32395\n",
      "   macro avg       0.69      0.69      0.69     32395\n",
      "weighted avg       0.69      0.69      0.69     32395\n",
      "\n",
      "\n"
     ]
    }
   ],
   "source": [
    "# Vorhersagen für die Testdaten machen und berichten\n",
    "predicted = pipeline_final.predict(X_dev)\n",
    "\n",
    "print(f\"Classification report for Variance Threshhold dimensionality reduction:\\n\"\n",
    "      f\"{classification_report(y_dev, predicted)}\\n\")"
   ]
  },
  {
   "cell_type": "markdown",
   "id": "4589ffe9",
   "metadata": {},
   "source": [
    "## PCA"
   ]
  },
  {
   "cell_type": "code",
   "execution_count": 208,
   "id": "ce175b84",
   "metadata": {},
   "outputs": [],
   "source": [
    "variance_list = [None,0.95,0.90,0.85,0.80]\n",
    "number_components=[]\n",
    "list_time = []\n",
    "accuracy_list = []\n",
    "for variance in variance_list:\n",
    "    dim_reduction = PCA(n_components=variance)\n",
    "    pipeline = Pipeline([('dim_reduction', dim_reduction),\n",
    "                     ('classifier', classifier)])\n",
    "    start = time.time()\n",
    "    pipeline.fit(X_train, y_train)\n",
    "    done = time.time()\n",
    "    elapsed = done - start\n",
    "    \n",
    "    number_components.append(dim_reduction.n_components_)\n",
    "    list_time.append(round(elapsed,2))\n",
    "    accuracy_list.append(round(pipeline.score(X_train, y_train),4))"
   ]
  },
  {
   "cell_type": "code",
   "execution_count": 209,
   "id": "397c7598",
   "metadata": {
    "scrolled": true
   },
   "outputs": [
    {
     "name": "stdout",
     "output_type": "stream",
     "text": [
      "Variance Retained\tNumber of Components\tTime\t\tAccuracy\n",
      "None\t\t\t19\t\t\t11.01\t\t0.7316\n",
      "0.95\t\t\t14\t\t\t7.27\t\t0.7135\n",
      "0.9\t\t\t12\t\t\t6.92\t\t0.7144\n",
      "0.85\t\t\t10\t\t\t7.14\t\t0.7115\n",
      "0.8\t\t\t9\t\t\t5.98\t\t0.7136\n"
     ]
    }
   ],
   "source": [
    "print('Variance Retained\\tNumber of Components\\tTime\\t\\tAccuracy')\n",
    "for i in range(0,5):\n",
    "    results=[variance_list[i],number_components[i],list_time[i],accuracy_list[i]]\n",
    "    formatter_result = (\"{}\\t\\t\\t{}\\t\\t\\t{}\\t\\t{}\")\n",
    "    print(formatter_result.format(*results))"
   ]
  },
  {
   "cell_type": "markdown",
   "id": "a7660bf8",
   "metadata": {},
   "source": [
    "Mit einer Varianz von 90% werden insgesamt nur 12 Principal Components erzeugt und die Durchlaufzeit von 13.38 Sekunden kann fast halbiert werden auf 7.1 Sekunden. Es ist jedoch zu beachten, dass die Accuracy abnimmt von 73.16% auf 71.44%."
   ]
  },
  {
   "cell_type": "code",
   "execution_count": 210,
   "id": "a578048b",
   "metadata": {},
   "outputs": [],
   "source": [
    "dim_reduction = PCA(n_components=0.90)\n",
    "pipeline_final = Pipeline([('dim_reduction', dim_reduction),\n",
    "                         ('classifier', classifier)])"
   ]
  },
  {
   "cell_type": "code",
   "execution_count": 211,
   "id": "4345ec28",
   "metadata": {},
   "outputs": [
    {
     "data": {
      "text/plain": [
       "Pipeline(steps=[('dim_reduction', PCA(n_components=0.9)),\n",
       "                ('classifier',\n",
       "                 XGBClassifier(base_score=0.5, booster='gbtree',\n",
       "                               colsample_bylevel=1, colsample_bynode=1,\n",
       "                               colsample_bytree=1, enable_categorical=False,\n",
       "                               eval_metric='logloss', gamma=10, gpu_id=-1,\n",
       "                               importance_type=None, interaction_constraints='',\n",
       "                               learning_rate=0.300000012, max_delta_step=0,\n",
       "                               max_depth=6, min_child_weight=1, missing=nan,\n",
       "                               monotone_constraints='()', n_estimators=100,\n",
       "                               n_jobs=8, num_parallel_tree=1, predictor='auto',\n",
       "                               random_state=0, reg_alpha=0, reg_lambda=1,\n",
       "                               scale_pos_weight=1, subsample=1,\n",
       "                               tree_method='exact', use_label_encoder=False,\n",
       "                               validate_parameters=1, verbosity=None))])"
      ]
     },
     "execution_count": 211,
     "metadata": {},
     "output_type": "execute_result"
    }
   ],
   "source": [
    "pipeline_final.fit(X_train, y_train)"
   ]
  },
  {
   "cell_type": "code",
   "execution_count": 212,
   "id": "ed882aa8",
   "metadata": {},
   "outputs": [
    {
     "data": {
      "image/png": "[encoded data removed]",
      "text/plain": [
       "<Figure size 720x432 with 2 Axes>"
      ]
     },
     "metadata": {
      "needs_background": "light"
     },
     "output_type": "display_data"
    }
   ],
   "source": [
    "fig = plt.figure(figsize=(10,6))\n",
    "ax = sns.heatmap(dim_reduction.components_,\n",
    "                 cmap='YlGnBu',\n",
    "                 yticklabels=[ \"PCA\"+str(x) for x in range(1,dim_reduction.n_components_+1)],\n",
    "                 xticklabels=list(df_features.columns),\n",
    "                 cbar_kws={\"orientation\": \"vertical\"})\n",
    "ax.set_aspect(\"equal\")"
   ]
  },
  {
   "cell_type": "code",
   "execution_count": 213,
   "id": "405be838",
   "metadata": {
    "scrolled": false
   },
   "outputs": [
    {
     "name": "stdout",
     "output_type": "stream",
     "text": [
      "Classification report for PCA dimensionality reduction:\n",
      "              precision    recall  f1-score   support\n",
      "\n",
      "           0       0.70      0.69      0.69     15302\n",
      "           1       0.73      0.73      0.73     17093\n",
      "\n",
      "    accuracy                           0.71     32395\n",
      "   macro avg       0.71      0.71      0.71     32395\n",
      "weighted avg       0.71      0.71      0.71     32395\n",
      "\n",
      "\n"
     ]
    }
   ],
   "source": [
    "# Vorhersagen für die Testdaten machen und berichten\n",
    "predicted = pipeline_final.predict(X_dev)\n",
    "\n",
    "print(f\"Classification report for PCA dimensionality reduction:\\n\"\n",
    "      f\"{classification_report(y_dev, predicted)}\\n\")"
   ]
  },
  {
   "cell_type": "markdown",
   "id": "1ae54732",
   "metadata": {},
   "source": [
    "## Clustern"
   ]
  },
  {
   "cell_type": "code",
   "execution_count": 214,
   "id": "4b77a417",
   "metadata": {},
   "outputs": [],
   "source": [
    "cluster_list = [2,3,4,5,6,7,8,9,10]\n",
    "list_time = []\n",
    "accuracy_list = []\n",
    "for cluster in cluster_list:\n",
    "    dim_reduction = KMeans(n_clusters=cluster)\n",
    "    pipeline_cluster = Pipeline([('dim_reduction', dim_reduction),\n",
    "                                 ('classifier', classifier)])\n",
    "    start = time.time()\n",
    "    pipeline_cluster.fit(X_train, y_train)\n",
    "    done = time.time()\n",
    "    elapsed = done - start\n",
    "   \n",
    "    list_time.append(round(elapsed,2))\n",
    "    accuracy_list.append(round(pipeline_cluster.score(X_train, y_train),4))"
   ]
  },
  {
   "cell_type": "code",
   "execution_count": 215,
   "id": "5e346736",
   "metadata": {},
   "outputs": [
    {
     "name": "stdout",
     "output_type": "stream",
     "text": [
      "Number of Clusters\tTime\t\tAccuracy\n",
      "2\t\t\t4.4\t\t0.695\n",
      "3\t\t\t4.41\t\t0.7035\n",
      "4\t\t\t4.18\t\t0.7107\n",
      "5\t\t\t3.92\t\t0.7112\n",
      "6\t\t\t4.62\t\t0.7106\n",
      "7\t\t\t4.95\t\t0.7122\n",
      "8\t\t\t5.02\t\t0.7144\n",
      "9\t\t\t6.49\t\t0.7137\n",
      "10\t\t\t7.15\t\t0.7134\n"
     ]
    }
   ],
   "source": [
    "print('Number of Clusters\\tTime\\t\\tAccuracy')\n",
    "for i in range(0,9):\n",
    "    results=[cluster_list[i],list_time[i],accuracy_list[i]]\n",
    "    formatter_result = (\"{}\\t\\t\\t{}\\t\\t{}\")\n",
    "    print(formatter_result.format(*results))"
   ]
  },
  {
   "cell_type": "code",
   "execution_count": 216,
   "id": "2dcde2bb",
   "metadata": {},
   "outputs": [],
   "source": [
    "dim_reduction = KMeans(n_clusters=8)\n",
    "pipeline_final = Pipeline([('dim_reduction', dim_reduction),\n",
    "                           ('classifier', classifier)])"
   ]
  },
  {
   "cell_type": "code",
   "execution_count": 217,
   "id": "0c77c38a",
   "metadata": {},
   "outputs": [
    {
     "data": {
      "text/plain": [
       "Pipeline(steps=[('dim_reduction', KMeans()),\n",
       "                ('classifier',\n",
       "                 XGBClassifier(base_score=0.5, booster='gbtree',\n",
       "                               colsample_bylevel=1, colsample_bynode=1,\n",
       "                               colsample_bytree=1, enable_categorical=False,\n",
       "                               eval_metric='logloss', gamma=10, gpu_id=-1,\n",
       "                               importance_type=None, interaction_constraints='',\n",
       "                               learning_rate=0.300000012, max_delta_step=0,\n",
       "                               max_depth=6, min_child_weight=1, missing=nan,\n",
       "                               monotone_constraints='()', n_estimators=100,\n",
       "                               n_jobs=8, num_parallel_tree=1, predictor='auto',\n",
       "                               random_state=0, reg_alpha=0, reg_lambda=1,\n",
       "                               scale_pos_weight=1, subsample=1,\n",
       "                               tree_method='exact', use_label_encoder=False,\n",
       "                               validate_parameters=1, verbosity=None))])"
      ]
     },
     "execution_count": 217,
     "metadata": {},
     "output_type": "execute_result"
    }
   ],
   "source": [
    "pipeline_final.fit(X_train, y_train)"
   ]
  },
  {
   "cell_type": "code",
   "execution_count": 218,
   "id": "ccd5b82e",
   "metadata": {},
   "outputs": [
    {
     "name": "stdout",
     "output_type": "stream",
     "text": [
      "Classification report for Cluster dimensionality reduction:\n",
      "              precision    recall  f1-score   support\n",
      "\n",
      "           0       0.69      0.70      0.69     15302\n",
      "           1       0.73      0.73      0.73     17093\n",
      "\n",
      "    accuracy                           0.71     32395\n",
      "   macro avg       0.71      0.71      0.71     32395\n",
      "weighted avg       0.71      0.71      0.71     32395\n",
      "\n",
      "\n"
     ]
    }
   ],
   "source": [
    "# Vorhersagen für die Testdaten machen und berichten\n",
    "predicted = pipeline_final.predict(X_dev)\n",
    "\n",
    "print(f\"Classification report for Cluster dimensionality reduction:\\n\"\n",
    "      f\"{classification_report(y_dev, predicted)}\\n\")"
   ]
  }
 ],
 "metadata": {
  "kernelspec": {
   "display_name": "Python 3 (ipykernel)",
   "language": "python",
   "name": "python3"
  },
  "language_info": {
   "codemirror_mode": {
    "name": "ipython",
    "version": 3
   },
   "file_extension": ".py",
   "mimetype": "text/x-python",
   "name": "python",
   "nbconvert_exporter": "python",
   "pygments_lexer": "ipython3",
   "version": "3.8.12"
  }
 },
 "nbformat": 4,
 "nbformat_minor": 5
}
