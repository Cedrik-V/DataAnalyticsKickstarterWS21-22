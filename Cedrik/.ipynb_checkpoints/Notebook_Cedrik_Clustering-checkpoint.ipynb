{
 "cells": [
  {
   "cell_type": "code",
   "execution_count": 180,
   "id": "f3122583",
   "metadata": {},
   "outputs": [],
   "source": [
    "import pandas as pd\n",
    "import numpy as np\n",
    "import matplotlib.pyplot as plt\n",
    "import seaborn as sns\n",
    "import os\n",
    "from os.path import dirname\n",
    "from random import randint\n",
    "from sklearn import cluster, datasets\n",
    "from sklearn import metrics\n",
    "from sklearn.cluster import KMeans\n",
    "from sklearn.preprocessing import MinMaxScaler\n",
    "from random import randint\n",
    "\n",
    "notebook_path = os.path.abspath(\"Notebook_Cedrik_FeatureEngineering.ipynb\")\n",
    "csv_path = os.path.join(os.path.dirname(dirname(notebook_path)), \"data/ks-project-edited-features.csv\")\n",
    "csv_path_original = os.path.join(os.path.dirname(dirname(notebook_path)), \"data/ks-project-edited-numpy-pandas.csv\")"
   ]
  },
  {
   "cell_type": "code",
   "execution_count": 181,
   "id": "f2c6426a",
   "metadata": {
    "scrolled": false
   },
   "outputs": [
    {
     "data": {
      "text/html": [
       "<div>\n",
       "<style scoped>\n",
       "    .dataframe tbody tr th:only-of-type {\n",
       "        vertical-align: middle;\n",
       "    }\n",
       "\n",
       "    .dataframe tbody tr th {\n",
       "        vertical-align: top;\n",
       "    }\n",
       "\n",
       "    .dataframe thead th {\n",
       "        text-align: right;\n",
       "    }\n",
       "</style>\n",
       "<table border=\"1\" class=\"dataframe\">\n",
       "  <thead>\n",
       "    <tr style=\"text-align: right;\">\n",
       "      <th></th>\n",
       "      <th>ID</th>\n",
       "      <th>name</th>\n",
       "      <th>deadline</th>\n",
       "      <th>launched</th>\n",
       "      <th>backers</th>\n",
       "      <th>duration</th>\n",
       "      <th>year</th>\n",
       "      <th>canceled</th>\n",
       "      <th>failed</th>\n",
       "      <th>successful</th>\n",
       "      <th>...</th>\n",
       "      <th>NZ</th>\n",
       "      <th>SE</th>\n",
       "      <th>SG</th>\n",
       "      <th>US</th>\n",
       "      <th>usd_pledged_real_scaled</th>\n",
       "      <th>usd_goal_real_scaled</th>\n",
       "      <th>hour</th>\n",
       "      <th>weekday_launched</th>\n",
       "      <th>weekday_deadline</th>\n",
       "      <th>name_length</th>\n",
       "    </tr>\n",
       "  </thead>\n",
       "  <tbody>\n",
       "    <tr>\n",
       "      <th>0</th>\n",
       "      <td>1000002330</td>\n",
       "      <td>The Songs of Adelaide &amp; Abullah</td>\n",
       "      <td>2015-10-09 00:00:00</td>\n",
       "      <td>2015-08-11 12:12:28</td>\n",
       "      <td>0</td>\n",
       "      <td>59</td>\n",
       "      <td>2015</td>\n",
       "      <td>0</td>\n",
       "      <td>1</td>\n",
       "      <td>0</td>\n",
       "      <td>...</td>\n",
       "      <td>0</td>\n",
       "      <td>0</td>\n",
       "      <td>0</td>\n",
       "      <td>0</td>\n",
       "      <td>0.000000e+00</td>\n",
       "      <td>0.000009</td>\n",
       "      <td>12</td>\n",
       "      <td>Tuesday</td>\n",
       "      <td>Friday</td>\n",
       "      <td>31.0</td>\n",
       "    </tr>\n",
       "    <tr>\n",
       "      <th>1</th>\n",
       "      <td>1000003930</td>\n",
       "      <td>Greeting From Earth: ZGAC Arts Capsule For ET</td>\n",
       "      <td>2017-11-01 00:00:00</td>\n",
       "      <td>2017-09-02 04:43:57</td>\n",
       "      <td>15</td>\n",
       "      <td>60</td>\n",
       "      <td>2017</td>\n",
       "      <td>0</td>\n",
       "      <td>1</td>\n",
       "      <td>0</td>\n",
       "      <td>...</td>\n",
       "      <td>0</td>\n",
       "      <td>0</td>\n",
       "      <td>0</td>\n",
       "      <td>1</td>\n",
       "      <td>1.190325e-04</td>\n",
       "      <td>0.000180</td>\n",
       "      <td>4</td>\n",
       "      <td>Saturday</td>\n",
       "      <td>Wednesday</td>\n",
       "      <td>45.0</td>\n",
       "    </tr>\n",
       "    <tr>\n",
       "      <th>2</th>\n",
       "      <td>1000004038</td>\n",
       "      <td>Where is Hank?</td>\n",
       "      <td>2013-02-26 00:00:00</td>\n",
       "      <td>2013-01-12 00:20:50</td>\n",
       "      <td>3</td>\n",
       "      <td>45</td>\n",
       "      <td>2013</td>\n",
       "      <td>0</td>\n",
       "      <td>1</td>\n",
       "      <td>0</td>\n",
       "      <td>...</td>\n",
       "      <td>0</td>\n",
       "      <td>0</td>\n",
       "      <td>0</td>\n",
       "      <td>1</td>\n",
       "      <td>1.081666e-05</td>\n",
       "      <td>0.000270</td>\n",
       "      <td>0</td>\n",
       "      <td>Saturday</td>\n",
       "      <td>Tuesday</td>\n",
       "      <td>14.0</td>\n",
       "    </tr>\n",
       "    <tr>\n",
       "      <th>3</th>\n",
       "      <td>1000007540</td>\n",
       "      <td>ToshiCapital Rekordz Needs Help to Complete Album</td>\n",
       "      <td>2012-04-16 00:00:00</td>\n",
       "      <td>2012-03-17 03:24:11</td>\n",
       "      <td>1</td>\n",
       "      <td>30</td>\n",
       "      <td>2012</td>\n",
       "      <td>0</td>\n",
       "      <td>1</td>\n",
       "      <td>0</td>\n",
       "      <td>...</td>\n",
       "      <td>0</td>\n",
       "      <td>0</td>\n",
       "      <td>0</td>\n",
       "      <td>1</td>\n",
       "      <td>4.916666e-08</td>\n",
       "      <td>0.000030</td>\n",
       "      <td>3</td>\n",
       "      <td>Saturday</td>\n",
       "      <td>Monday</td>\n",
       "      <td>49.0</td>\n",
       "    </tr>\n",
       "    <tr>\n",
       "      <th>4</th>\n",
       "      <td>1000011046</td>\n",
       "      <td>Community Film Project: The Art of Neighborhoo...</td>\n",
       "      <td>2015-08-29 00:00:00</td>\n",
       "      <td>2015-07-04 08:35:03</td>\n",
       "      <td>14</td>\n",
       "      <td>56</td>\n",
       "      <td>2015</td>\n",
       "      <td>1</td>\n",
       "      <td>0</td>\n",
       "      <td>0</td>\n",
       "      <td>...</td>\n",
       "      <td>0</td>\n",
       "      <td>0</td>\n",
       "      <td>0</td>\n",
       "      <td>1</td>\n",
       "      <td>6.308082e-05</td>\n",
       "      <td>0.000117</td>\n",
       "      <td>8</td>\n",
       "      <td>Saturday</td>\n",
       "      <td>Saturday</td>\n",
       "      <td>58.0</td>\n",
       "    </tr>\n",
       "  </tbody>\n",
       "</table>\n",
       "<p>5 rows × 226 columns</p>\n",
       "</div>"
      ],
      "text/plain": [
       "           ID                                               name  \\\n",
       "0  1000002330                    The Songs of Adelaide & Abullah   \n",
       "1  1000003930      Greeting From Earth: ZGAC Arts Capsule For ET   \n",
       "2  1000004038                                     Where is Hank?   \n",
       "3  1000007540  ToshiCapital Rekordz Needs Help to Complete Album   \n",
       "4  1000011046  Community Film Project: The Art of Neighborhoo...   \n",
       "\n",
       "              deadline             launched  backers  duration  year  \\\n",
       "0  2015-10-09 00:00:00  2015-08-11 12:12:28        0        59  2015   \n",
       "1  2017-11-01 00:00:00  2017-09-02 04:43:57       15        60  2017   \n",
       "2  2013-02-26 00:00:00  2013-01-12 00:20:50        3        45  2013   \n",
       "3  2012-04-16 00:00:00  2012-03-17 03:24:11        1        30  2012   \n",
       "4  2015-08-29 00:00:00  2015-07-04 08:35:03       14        56  2015   \n",
       "\n",
       "   canceled  failed  successful  ...  NZ  SE  SG  US  usd_pledged_real_scaled  \\\n",
       "0         0       1           0  ...   0   0   0   0             0.000000e+00   \n",
       "1         0       1           0  ...   0   0   0   1             1.190325e-04   \n",
       "2         0       1           0  ...   0   0   0   1             1.081666e-05   \n",
       "3         0       1           0  ...   0   0   0   1             4.916666e-08   \n",
       "4         1       0           0  ...   0   0   0   1             6.308082e-05   \n",
       "\n",
       "   usd_goal_real_scaled  hour  weekday_launched  weekday_deadline  name_length  \n",
       "0              0.000009    12           Tuesday            Friday         31.0  \n",
       "1              0.000180     4          Saturday         Wednesday         45.0  \n",
       "2              0.000270     0          Saturday           Tuesday         14.0  \n",
       "3              0.000030     3          Saturday            Monday         49.0  \n",
       "4              0.000117     8          Saturday          Saturday         58.0  \n",
       "\n",
       "[5 rows x 226 columns]"
      ]
     },
     "execution_count": 181,
     "metadata": {},
     "output_type": "execute_result"
    }
   ],
   "source": [
    "df = pd.read_csv (csv_path, low_memory=False)\n",
    "df_original = pd.read_csv (csv_path_original, low_memory=False)\n",
    "df.head()"
   ]
  },
  {
   "cell_type": "code",
   "execution_count": 182,
   "id": "9be630d8",
   "metadata": {
    "scrolled": false
   },
   "outputs": [
    {
     "data": {
      "text/html": [
       "<div>\n",
       "<style scoped>\n",
       "    .dataframe tbody tr th:only-of-type {\n",
       "        vertical-align: middle;\n",
       "    }\n",
       "\n",
       "    .dataframe tbody tr th {\n",
       "        vertical-align: top;\n",
       "    }\n",
       "\n",
       "    .dataframe thead th {\n",
       "        text-align: right;\n",
       "    }\n",
       "</style>\n",
       "<table border=\"1\" class=\"dataframe\">\n",
       "  <thead>\n",
       "    <tr style=\"text-align: right;\">\n",
       "      <th></th>\n",
       "      <th>backers</th>\n",
       "      <th>duration</th>\n",
       "      <th>usd_pledged_real_scaled</th>\n",
       "      <th>usd_goal_real_scaled</th>\n",
       "      <th>name_length</th>\n",
       "    </tr>\n",
       "  </thead>\n",
       "  <tbody>\n",
       "    <tr>\n",
       "      <th>0</th>\n",
       "      <td>0</td>\n",
       "      <td>59</td>\n",
       "      <td>0.000000e+00</td>\n",
       "      <td>0.000009</td>\n",
       "      <td>31.0</td>\n",
       "    </tr>\n",
       "    <tr>\n",
       "      <th>1</th>\n",
       "      <td>15</td>\n",
       "      <td>60</td>\n",
       "      <td>1.190325e-04</td>\n",
       "      <td>0.000180</td>\n",
       "      <td>45.0</td>\n",
       "    </tr>\n",
       "    <tr>\n",
       "      <th>2</th>\n",
       "      <td>3</td>\n",
       "      <td>45</td>\n",
       "      <td>1.081666e-05</td>\n",
       "      <td>0.000270</td>\n",
       "      <td>14.0</td>\n",
       "    </tr>\n",
       "    <tr>\n",
       "      <th>3</th>\n",
       "      <td>1</td>\n",
       "      <td>30</td>\n",
       "      <td>4.916666e-08</td>\n",
       "      <td>0.000030</td>\n",
       "      <td>49.0</td>\n",
       "    </tr>\n",
       "    <tr>\n",
       "      <th>4</th>\n",
       "      <td>14</td>\n",
       "      <td>56</td>\n",
       "      <td>6.308082e-05</td>\n",
       "      <td>0.000117</td>\n",
       "      <td>58.0</td>\n",
       "    </tr>\n",
       "  </tbody>\n",
       "</table>\n",
       "</div>"
      ],
      "text/plain": [
       "   backers  duration  usd_pledged_real_scaled  usd_goal_real_scaled  \\\n",
       "0        0        59             0.000000e+00              0.000009   \n",
       "1       15        60             1.190325e-04              0.000180   \n",
       "2        3        45             1.081666e-05              0.000270   \n",
       "3        1        30             4.916666e-08              0.000030   \n",
       "4       14        56             6.308082e-05              0.000117   \n",
       "\n",
       "   name_length  \n",
       "0         31.0  \n",
       "1         45.0  \n",
       "2         14.0  \n",
       "3         49.0  \n",
       "4         58.0  "
      ]
     },
     "execution_count": 182,
     "metadata": {},
     "output_type": "execute_result"
    }
   ],
   "source": [
    "list_features = [\"backers\",\"duration\",\"usd_pledged_real_scaled\",\"usd_goal_real_scaled\", \"hour\",\"name_length\"]\n",
    "df_features = df[list_features].copy()\n",
    "df_features.head()"
   ]
  },
  {
   "cell_type": "code",
   "execution_count": 184,
   "id": "21472115",
   "metadata": {},
   "outputs": [],
   "source": [
    "df_features[\"name_length\"].fillna(df_features[\"name_length\"].agg(\"mean\"), inplace=True)"
   ]
  },
  {
   "cell_type": "code",
   "execution_count": 185,
   "id": "f78d54b9",
   "metadata": {},
   "outputs": [
    {
     "data": {
      "text/html": [
       "<div>\n",
       "<style scoped>\n",
       "    .dataframe tbody tr th:only-of-type {\n",
       "        vertical-align: middle;\n",
       "    }\n",
       "\n",
       "    .dataframe tbody tr th {\n",
       "        vertical-align: top;\n",
       "    }\n",
       "\n",
       "    .dataframe thead th {\n",
       "        text-align: right;\n",
       "    }\n",
       "</style>\n",
       "<table border=\"1\" class=\"dataframe\">\n",
       "  <thead>\n",
       "    <tr style=\"text-align: right;\">\n",
       "      <th></th>\n",
       "      <th>backers</th>\n",
       "      <th>duration</th>\n",
       "      <th>usd_pledged_real_scaled</th>\n",
       "      <th>usd_goal_real_scaled</th>\n",
       "      <th>name_length</th>\n",
       "    </tr>\n",
       "  </thead>\n",
       "  <tbody>\n",
       "  </tbody>\n",
       "</table>\n",
       "</div>"
      ],
      "text/plain": [
       "Empty DataFrame\n",
       "Columns: [backers, duration, usd_pledged_real_scaled, usd_goal_real_scaled, name_length]\n",
       "Index: []"
      ]
     },
     "execution_count": 185,
     "metadata": {},
     "output_type": "execute_result"
    }
   ],
   "source": [
    "df_features[\"name_length\"].agg(\"mean\")\n",
    "df_features[df_features_cluster.isna().any(axis=1)]"
   ]
  },
  {
   "cell_type": "markdown",
   "id": "81586c61",
   "metadata": {},
   "source": [
    "#### Normaliseren von den restlichen Features"
   ]
  },
  {
   "cell_type": "code",
   "execution_count": 186,
   "id": "c614f20b",
   "metadata": {},
   "outputs": [],
   "source": [
    "scaler = MinMaxScaler()\n",
    "\n",
    "df_features[list(df_features.columns)] = scaler.fit_transform(df_features[list_features])"
   ]
  },
  {
   "cell_type": "code",
   "execution_count": 187,
   "id": "9d04a8a2",
   "metadata": {},
   "outputs": [
    {
     "data": {
      "text/html": [
       "<div>\n",
       "<style scoped>\n",
       "    .dataframe tbody tr th:only-of-type {\n",
       "        vertical-align: middle;\n",
       "    }\n",
       "\n",
       "    .dataframe tbody tr th {\n",
       "        vertical-align: top;\n",
       "    }\n",
       "\n",
       "    .dataframe thead th {\n",
       "        text-align: right;\n",
       "    }\n",
       "</style>\n",
       "<table border=\"1\" class=\"dataframe\">\n",
       "  <thead>\n",
       "    <tr style=\"text-align: right;\">\n",
       "      <th></th>\n",
       "      <th>backers</th>\n",
       "      <th>duration</th>\n",
       "      <th>usd_pledged_real_scaled</th>\n",
       "      <th>usd_goal_real_scaled</th>\n",
       "      <th>name_length</th>\n",
       "    </tr>\n",
       "  </thead>\n",
       "  <tbody>\n",
       "    <tr>\n",
       "      <th>0</th>\n",
       "      <td>0.000000</td>\n",
       "      <td>0.637363</td>\n",
       "      <td>0.000000e+00</td>\n",
       "      <td>0.000009</td>\n",
       "      <td>0.315789</td>\n",
       "    </tr>\n",
       "    <tr>\n",
       "      <th>1</th>\n",
       "      <td>0.000068</td>\n",
       "      <td>0.648352</td>\n",
       "      <td>1.190325e-04</td>\n",
       "      <td>0.000180</td>\n",
       "      <td>0.463158</td>\n",
       "    </tr>\n",
       "    <tr>\n",
       "      <th>2</th>\n",
       "      <td>0.000014</td>\n",
       "      <td>0.483516</td>\n",
       "      <td>1.081666e-05</td>\n",
       "      <td>0.000270</td>\n",
       "      <td>0.136842</td>\n",
       "    </tr>\n",
       "    <tr>\n",
       "      <th>3</th>\n",
       "      <td>0.000005</td>\n",
       "      <td>0.318681</td>\n",
       "      <td>4.916666e-08</td>\n",
       "      <td>0.000030</td>\n",
       "      <td>0.505263</td>\n",
       "    </tr>\n",
       "    <tr>\n",
       "      <th>4</th>\n",
       "      <td>0.000064</td>\n",
       "      <td>0.604396</td>\n",
       "      <td>6.308082e-05</td>\n",
       "      <td>0.000117</td>\n",
       "      <td>0.600000</td>\n",
       "    </tr>\n",
       "  </tbody>\n",
       "</table>\n",
       "</div>"
      ],
      "text/plain": [
       "    backers  duration  usd_pledged_real_scaled  usd_goal_real_scaled  \\\n",
       "0  0.000000  0.637363             0.000000e+00              0.000009   \n",
       "1  0.000068  0.648352             1.190325e-04              0.000180   \n",
       "2  0.000014  0.483516             1.081666e-05              0.000270   \n",
       "3  0.000005  0.318681             4.916666e-08              0.000030   \n",
       "4  0.000064  0.604396             6.308082e-05              0.000117   \n",
       "\n",
       "   name_length  \n",
       "0     0.315789  \n",
       "1     0.463158  \n",
       "2     0.136842  \n",
       "3     0.505263  \n",
       "4     0.600000  "
      ]
     },
     "execution_count": 187,
     "metadata": {},
     "output_type": "execute_result"
    }
   ],
   "source": [
    "df_features.head()"
   ]
  },
  {
   "cell_type": "code",
   "execution_count": 188,
   "id": "356317a0",
   "metadata": {},
   "outputs": [],
   "source": [
    "inertia = []\n",
    "silhouette_coefficients = []\n",
    "cluster_range = range(1,10)\n",
    "for k in cluster_range:\n",
    "    kmeans_elbow = cluster.KMeans(n_clusters=k).fit(df_features)\n",
    "    inertia.append(kmeans_elbow.inertia_)\n",
    "    if k >= 2:\n",
    "        silhouette_coefficient = metrics.silhouette_score(df_features,kmeans_elbow.labels_, metric='euclidean', sample_size=50000,random_state=42)\n",
    "        silhouette_coefficients.append(silhouette_coefficient)\n",
    "        "
   ]
  },
  {
   "cell_type": "code",
   "execution_count": 189,
   "id": "7a18fd83",
   "metadata": {
    "scrolled": false
   },
   "outputs": [
    {
     "data": {
      "text/plain": [
       "Text(0.5, 1.0, 'Elbogendiagramm')"
      ]
     },
     "execution_count": 189,
     "metadata": {},
     "output_type": "execute_result"
    },
    {
     "data": {
      "image/png": "[encoded data removed]",
      "text/plain": [
       "<Figure size 720x432 with 1 Axes>"
      ]
     },
     "metadata": {
      "needs_background": "light"
     },
     "output_type": "display_data"
    }
   ],
   "source": [
    "# deutlicher Knick bei 2 Clustern. Das zeigt, dass hier die optimale Wahl für die Anzahl der Cluster liegt, \n",
    "# da dort die größte Verbesserung der Abstände zu den Clusterschwerpunkten ist\n",
    "fig, ax = plt.subplots(figsize=(10,6))\n",
    "sns.lineplot(x = cluster_range,y = inertia, marker='X', markerfacecolor='red', markersize=10, markevery=[1])\n",
    "plt.xlabel('Anzahl der Cluster')\n",
    "plt.ylabel('Inertia')\n",
    "plt.title(\"Elbogendiagramm\", pad = 20, fontweight=\"bold\")"
   ]
  },
  {
   "cell_type": "code",
   "execution_count": 198,
   "id": "7dda1b30",
   "metadata": {},
   "outputs": [
    {
     "data": {
      "text/plain": [
       "Text(0.5, 1.0, 'Vergleich der Silhouetten Koeffizienten')"
      ]
     },
     "execution_count": 198,
     "metadata": {},
     "output_type": "execute_result"
    },
    {
     "data": {
      "image/png": "[encoded data removed]",
      "text/plain": [
       "<Figure size 720x432 with 1 Axes>"
      ]
     },
     "metadata": {
      "needs_background": "light"
     },
     "output_type": "display_data"
    }
   ],
   "source": [
    "# Höchster Wert bei 2 Clustern\n",
    "fig, ax = plt.subplots(figsize=(10,6))\n",
    "sns.lineplot(x = range(2,10),y = silhouette_coefficients, marker='X', markerfacecolor='red', markersize=10,markevery=[0])\n",
    "plt.xlabel('Anzahl der Cluster')\n",
    "plt.ylabel('Silhouette Coefficient')\n",
    "plt.title(\"Vergleich der Silhouetten Koeffizienten\", pad = 20, fontweight=\"bold\")"
   ]
  },
  {
   "cell_type": "code",
   "execution_count": 190,
   "id": "23d346d8",
   "metadata": {
    "scrolled": true
   },
   "outputs": [
    {
     "name": "stdout",
     "output_type": "stream",
     "text": [
      "Random:  8\n",
      "Name: 0 Größe:  194703\n",
      "Name: 1 Größe:  175511\n",
      "Random:  91\n",
      "Name: 0 Größe:  176005\n",
      "Name: 1 Größe:  194209\n",
      "Random:  46\n",
      "Name: 0 Größe:  175511\n",
      "Name: 1 Größe:  194703\n",
      "Random:  55\n",
      "Name: 0 Größe:  194703\n",
      "Name: 1 Größe:  175511\n",
      "Random:  85\n",
      "Name: 0 Größe:  175511\n",
      "Name: 1 Größe:  194703\n"
     ]
    }
   ],
   "source": [
    "# Verteilung gleich unabhängig von random_states\n",
    "for j in range(5):\n",
    "    rs = randint(0, 100)\n",
    "    kmeans_rs = cluster.KMeans(n_clusters=2, random_state=rs).fit(df_features)\n",
    "    print(\"Random: \", rs)\n",
    "    for i in range(2):\n",
    "        print(\"Name:\", i, \"Größe: \", list(kmeans_rs.labels_).count(i))"
   ]
  },
  {
   "cell_type": "code",
   "execution_count": 191,
   "id": "c85acdfd",
   "metadata": {},
   "outputs": [],
   "source": [
    "# Die Evaluation mit der Zielklasse gibt nicht das gewünschte Ergebniss aus beim Einsetzen von df[\"successful\"] oder\n",
    "# df[\"failed\"] als Zielklasse, obwohl die Verteilung der beiden Cluster ungefähr diesen entsprechen. Daher \n",
    "def bench_k_means(kmeans, name, data, labels):\n",
    "    \"\"\"Benchmark to evaluate the KMeans initialization methods.\n",
    "\n",
    "    Parameters\n",
    "    ----------\n",
    "    kmeans : KMeans instance\n",
    "        A :class:`~sklearn.cluster.KMeans` instance that has already been trained\n",
    "    name : str\n",
    "        Name given to the strategy. It will be used to show the results in a\n",
    "        table.\n",
    "    data : ndarray of shape (n_samples, n_features)\n",
    "        The data whose clusters should be evaluated.\n",
    "    labels : ndarray of shape (n_samples,)\n",
    "        The labels used to compute the supervised clustering metrics.\n",
    "    \"\"\"\n",
    "    \n",
    "    # Inertia\n",
    "    results = [name, kmeans.inertia_]\n",
    "\n",
    "    # The silhouette score requires the full dataset\n",
    "    results += [\n",
    "        metrics.silhouette_score(data, kmeans.labels_,\n",
    "                                 metric=\"euclidean\", sample_size=20000)\n",
    "    ]\n",
    "    \n",
    "    # Supervised metrics which require the true labels and cluster\n",
    "    # labels\n",
    "    clustering_metrics = [\n",
    "        metrics.homogeneity_score,\n",
    "        metrics.completeness_score,\n",
    "        metrics.v_measure_score,\n",
    "        metrics.fowlkes_mallows_score,\n",
    "        metrics.rand_score,\n",
    "    ]\n",
    "    results += [m(labels, kmeans.labels_) for m in clustering_metrics]\n",
    "\n",
    "    # Show the results\n",
    "    formatter_result = (\"{:9s}\\t{:.0f}\\t{:.3f}\\t{:.3f}\\t{:.3f}\\t{:.3f}\\t{:.3f}\\t{:.3f}\")\n",
    "    print(formatter_result.format(*results))"
   ]
  },
  {
   "cell_type": "code",
   "execution_count": 203,
   "id": "0909a96b",
   "metadata": {},
   "outputs": [
    {
     "name": "stdout",
     "output_type": "stream",
     "text": [
      "__________________________________________________________________________________\n",
      "init\t\tinertia\tsil\thom\tcom\tv-meas\trand\tfowlkes\n",
      "k-means_0\t157386751906\t0.996\t0.000\t0.101\t0.000\t0.734\t0.538\n",
      "k-means_42\t157386751906\t0.998\t0.000\t0.101\t0.000\t0.734\t0.538\n",
      "k-means_opti\t157386751906\t0.998\t0.000\t0.101\t0.000\t0.734\t0.538\n",
      "random   \t157386751906\t0.997\t0.000\t0.101\t0.000\t0.734\t0.538\n",
      "k-means++\t157386751906\t0.995\t0.000\t0.101\t0.000\t0.734\t0.538\n",
      "__________________________________________________________________________________\n"
     ]
    }
   ],
   "source": [
    "# Aufrufen der Benchmark mit unserem trainierten kmeans und einer zufälligen Zuweisung (zum Vergleich)\n",
    "# Fügen Sie hier auch Ihren günstigeren random_state von oben ein!\n",
    "\n",
    "print(82 * '_')\n",
    "print('init\\t\\tinertia\\tsil\\thom\\tcom\\tv-meas\\trand\\tfowlkes')\n",
    "\n",
    "# unser kmeans-Modell (zur Sicherheit neu trainieren)\n",
    "kmeans = cluster.KMeans(n_clusters=2, random_state=0).fit(df_features)\n",
    "bench_k_means(kmeans=kmeans, name=\"k-means_0\", data=df_features, labels=df[\"successful\"])\n",
    "\n",
    "# unser kmeans-Modell (random_state 42)\n",
    "kmeans = cluster.KMeans(n_clusters=2, random_state=42).fit(df_features)\n",
    "bench_k_means(kmeans=kmeans, name=\"k-means_42\", data=df_features, labels=df[\"successful\"])\n",
    "\n",
    "# unser kmeans-Modell (10x trainiert; das Modell mit der besten inertia gewinnt)\n",
    "kmeans = cluster.KMeans(n_clusters=2, n_init=10).fit(df_features)\n",
    "bench_k_means(kmeans=kmeans, name=\"k-means_opti\", data=df_features, labels=df[\"successful\"])\n",
    "\n",
    "# zufällige Cluster-Zuordnung erzeugen\n",
    "kmeans_rand = cluster.KMeans(init=\"random\", n_clusters=2, random_state=0).fit(df_features)\n",
    "bench_k_means(kmeans=kmeans_rand, name=\"random\", data=df_features, labels=df[\"successful\"])\n",
    "\n",
    "# Cluster-Zuordnung mit k-means++\n",
    "kmeans_kplus = cluster.KMeans(init=\"k-means++\", n_clusters=2, random_state=0).fit(df_features)\n",
    "bench_k_means(kmeans=kmeans_kplus, name=\"k-means++\", data=df_features, labels=df[\"successful\"])\n",
    "\n",
    "print(82 * '_')"
   ]
  },
  {
   "cell_type": "code",
   "execution_count": 207,
   "id": "df1a11eb",
   "metadata": {
    "scrolled": true
   },
   "outputs": [],
   "source": [
    "kmeans = KMeans(init=\"k-means++\", n_clusters=2, random_state=42).fit(df_features)\n",
    "clustergroessen = []\n",
    "clustergroessen.append(list(kmeans.labels_).count(0))\n",
    "clustergroessen.append(list(kmeans.labels_).count(1))"
   ]
  },
  {
   "cell_type": "code",
   "execution_count": 208,
   "id": "1e682394",
   "metadata": {},
   "outputs": [
    {
     "data": {
      "text/plain": [
       "[370171, 43]"
      ]
     },
     "execution_count": 208,
     "metadata": {},
     "output_type": "execute_result"
    }
   ],
   "source": [
    "clustergroessen"
   ]
  },
  {
   "cell_type": "code",
   "execution_count": 210,
   "id": "8a6351d0",
   "metadata": {
    "scrolled": false
   },
   "outputs": [
    {
     "data": {
      "image/png": "[encoded data removed]",
      "text/plain": [
       "<Figure size 1080x1080 with 2 Axes>"
      ]
     },
     "metadata": {},
     "output_type": "display_data"
    }
   ],
   "source": [
    "# Hier ist gut erkennbar dass die beiden Cluster wahrscheinlich danach geordnet sind, ob ein Projekt fehlgschlagen ist \n",
    "# oder nicht. Es wäre wahrscheinlich noch sinnvoll die Daten mit dem state (canceled, undefined, live und suspended)\n",
    "# zu entfernen aus dem Datensatz\n",
    "fig, ax = plt.subplots(figsize=(15,15), ncols=2)\n",
    "colors = sns.color_palette('pastel')[0:6]\n",
    "\n",
    "def my_autopct(pct):\n",
    "    return ('%.2f%%' % pct) if pct >= 10 else ''\n",
    "#create pie chart\n",
    "ax[0].pie(clustergroessen, labels= [\"Cluster 1\",\"Cluster 2\"],colors = colors, autopct=my_autopct)\n",
    "ax[0].set_title(\"Größenvergleich der beiden Cluster\", fontweight=\"bold\", fontsize=12, pad=20)\n",
    "ax[1].pie(df_original['state'].value_counts(), labels= df_original['state'].value_counts().index.tolist(),colors = colors, autopct=my_autopct)\n",
    "ax[1].set_title(\"Erfolg oder Misserfolg der Projekte\", fontweight=\"bold\", fontsize=12, pad=20)\n",
    "plt.show()"
   ]
  },
  {
   "cell_type": "code",
   "execution_count": 196,
   "id": "55bec579",
   "metadata": {},
   "outputs": [
    {
     "data": {
      "text/html": [
       "<div>\n",
       "<style scoped>\n",
       "    .dataframe tbody tr th:only-of-type {\n",
       "        vertical-align: middle;\n",
       "    }\n",
       "\n",
       "    .dataframe tbody tr th {\n",
       "        vertical-align: top;\n",
       "    }\n",
       "\n",
       "    .dataframe thead th {\n",
       "        text-align: right;\n",
       "    }\n",
       "</style>\n",
       "<table border=\"1\" class=\"dataframe\">\n",
       "  <thead>\n",
       "    <tr style=\"text-align: right;\">\n",
       "      <th></th>\n",
       "      <th>backers</th>\n",
       "      <th>duration</th>\n",
       "      <th>usd_pledged_real_scaled</th>\n",
       "      <th>usd_goal_real_scaled</th>\n",
       "      <th>name_length</th>\n",
       "      <th>cluster</th>\n",
       "    </tr>\n",
       "  </thead>\n",
       "  <tbody>\n",
       "    <tr>\n",
       "      <th>0</th>\n",
       "      <td>0.0</td>\n",
       "      <td>59.0</td>\n",
       "      <td>0.000000e+00</td>\n",
       "      <td>0.000009</td>\n",
       "      <td>31.0</td>\n",
       "      <td>1</td>\n",
       "    </tr>\n",
       "    <tr>\n",
       "      <th>1</th>\n",
       "      <td>15.0</td>\n",
       "      <td>60.0</td>\n",
       "      <td>1.190325e-04</td>\n",
       "      <td>0.000180</td>\n",
       "      <td>45.0</td>\n",
       "      <td>0</td>\n",
       "    </tr>\n",
       "    <tr>\n",
       "      <th>2</th>\n",
       "      <td>3.0</td>\n",
       "      <td>45.0</td>\n",
       "      <td>1.081666e-05</td>\n",
       "      <td>0.000270</td>\n",
       "      <td>14.0</td>\n",
       "      <td>1</td>\n",
       "    </tr>\n",
       "    <tr>\n",
       "      <th>3</th>\n",
       "      <td>1.0</td>\n",
       "      <td>30.0</td>\n",
       "      <td>4.916666e-08</td>\n",
       "      <td>0.000030</td>\n",
       "      <td>49.0</td>\n",
       "      <td>0</td>\n",
       "    </tr>\n",
       "    <tr>\n",
       "      <th>4</th>\n",
       "      <td>14.0</td>\n",
       "      <td>56.0</td>\n",
       "      <td>6.308082e-05</td>\n",
       "      <td>0.000117</td>\n",
       "      <td>58.0</td>\n",
       "      <td>0</td>\n",
       "    </tr>\n",
       "  </tbody>\n",
       "</table>\n",
       "</div>"
      ],
      "text/plain": [
       "   backers  duration  usd_pledged_real_scaled  usd_goal_real_scaled  \\\n",
       "0      0.0      59.0             0.000000e+00              0.000009   \n",
       "1     15.0      60.0             1.190325e-04              0.000180   \n",
       "2      3.0      45.0             1.081666e-05              0.000270   \n",
       "3      1.0      30.0             4.916666e-08              0.000030   \n",
       "4     14.0      56.0             6.308082e-05              0.000117   \n",
       "\n",
       "   name_length  cluster  \n",
       "0         31.0        1  \n",
       "1         45.0        0  \n",
       "2         14.0        1  \n",
       "3         49.0        0  \n",
       "4         58.0        0  "
      ]
     },
     "execution_count": 196,
     "metadata": {},
     "output_type": "execute_result"
    }
   ],
   "source": [
    "df_features_cluster = df_features\n",
    "df_features_cluster[list(df_features_cluster.columns)] = scaler.inverse_transform(df_features_cluster[list_features])\n",
    "df_features_cluster[\"cluster\"] = kmeans.labels_\n",
    "df_features_cluster.head()"
   ]
  },
  {
   "cell_type": "code",
   "execution_count": 197,
   "id": "71659bc8",
   "metadata": {
    "scrolled": false
   },
   "outputs": [
    {
     "data": {
      "text/html": [
       "<div>\n",
       "<style scoped>\n",
       "    .dataframe tbody tr th:only-of-type {\n",
       "        vertical-align: middle;\n",
       "    }\n",
       "\n",
       "    .dataframe tbody tr th {\n",
       "        vertical-align: top;\n",
       "    }\n",
       "\n",
       "    .dataframe thead th {\n",
       "        text-align: right;\n",
       "    }\n",
       "</style>\n",
       "<table border=\"1\" class=\"dataframe\">\n",
       "  <thead>\n",
       "    <tr style=\"text-align: right;\">\n",
       "      <th></th>\n",
       "      <th>backers</th>\n",
       "      <th>duration</th>\n",
       "      <th>usd_pledged_real_scaled</th>\n",
       "      <th>usd_goal_real_scaled</th>\n",
       "      <th>name_length</th>\n",
       "    </tr>\n",
       "    <tr>\n",
       "      <th>cluster</th>\n",
       "      <th></th>\n",
       "      <th></th>\n",
       "      <th></th>\n",
       "      <th></th>\n",
       "      <th></th>\n",
       "    </tr>\n",
       "  </thead>\n",
       "  <tbody>\n",
       "    <tr>\n",
       "      <th>0</th>\n",
       "      <td>126.199275</td>\n",
       "      <td>34.328823</td>\n",
       "      <td>0.000582</td>\n",
       "      <td>0.000237</td>\n",
       "      <td>49.328817</td>\n",
       "    </tr>\n",
       "    <tr>\n",
       "      <th>1</th>\n",
       "      <td>89.671238</td>\n",
       "      <td>34.024807</td>\n",
       "      <td>0.000330</td>\n",
       "      <td>0.000302</td>\n",
       "      <td>21.778321</td>\n",
       "    </tr>\n",
       "  </tbody>\n",
       "</table>\n",
       "</div>"
      ],
      "text/plain": [
       "            backers   duration  usd_pledged_real_scaled  usd_goal_real_scaled  \\\n",
       "cluster                                                                         \n",
       "0        126.199275  34.328823                 0.000582              0.000237   \n",
       "1         89.671238  34.024807                 0.000330              0.000302   \n",
       "\n",
       "         name_length  \n",
       "cluster               \n",
       "0          49.328817  \n",
       "1          21.778321  "
      ]
     },
     "execution_count": 197,
     "metadata": {},
     "output_type": "execute_result"
    }
   ],
   "source": [
    "df_features_cluster.groupby('cluster').mean()"
   ]
  },
  {
   "cell_type": "markdown",
   "id": "a1a9a0e9",
   "metadata": {},
   "source": [
    "Bei der Betrachtung dieser Werte, wird deutlich warum wir so schlechte Werte für die Homogenität, die Vollständigkeit und das V-Maß erhalten. Es ist erkennbar, dass die Projekte in beiden Clustern im Durchschnitt einen höheren Betrag eingebracht haben als die durchschnittlichen Zielbeträge. Davon lässt sich ableiten, dass in beiden Clustern genügend erfolgreiche Projekte vorhanden sind damit ein solcher Wert erreicht werden kann. Somit wurden die Cluster doch nicht wie im ersten Schritt angenommen nach \"successful\" und \"failed\" getrennt.\n",
    "Bei der weiteren Betrachtung ist erkennbar, dass sich vor allem die durschnittliche Anzahl der \"backers\" und die \"hour\" unterscheiden. Durch die betrachtlich höhere Anzahl von Backern in Cluster 1, liegt der Wert für die erzielten Beträge auch deutlich höher als bei Cluster 2. Des Weiteren haben wir zuvor bei der näheren Betrachtung unseres Datensatzes festgestellt, dass um 18 Uhr die meisten Projekte erstellt werden. Dies würde auch erklären, warum das Cluster 1, daher ca. 25% größer sein könnte als Cluster 0. \n",
    "Die Cluster wurden daher vermutlich so aufgeteilt zu den Hotspots nach der Erstellung und der Anzahl der backers.\n"
   ]
  },
  {
   "cell_type": "markdown",
   "id": "96872243",
   "metadata": {},
   "source": [
    "Eine Möglichkeit könnte es nun sein das Feature \"hour\" zu entfernen und dann zu schauen in wie weit sich die Clusteraufteilung verändert."
   ]
  }
 ],
 "metadata": {
  "kernelspec": {
   "display_name": "Python 3 (ipykernel)",
   "language": "python",
   "name": "python3"
  },
  "language_info": {
   "codemirror_mode": {
    "name": "ipython",
    "version": 3
   },
   "file_extension": ".py",
   "mimetype": "text/x-python",
   "name": "python",
   "nbconvert_exporter": "python",
   "pygments_lexer": "ipython3",
   "version": "3.8.12"
  }
 },
 "nbformat": 4,
 "nbformat_minor": 5
}
