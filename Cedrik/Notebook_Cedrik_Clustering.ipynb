{
 "cells": [
  {
   "cell_type": "code",
   "execution_count": 417,
   "id": "f3122583",
   "metadata": {},
   "outputs": [],
   "source": [
    "import pandas as pd\n",
    "import numpy as np\n",
    "import matplotlib.pyplot as plt\n",
    "import seaborn as sns\n",
    "import os\n",
    "from os.path import dirname\n",
    "from random import randint\n",
    "from sklearn import cluster, datasets\n",
    "from sklearn import metrics\n",
    "from sklearn.cluster import KMeans\n",
    "from sklearn.preprocessing import MinMaxScaler\n",
    "from random import randint\n",
    "\n",
    "notebook_path = os.path.abspath(\"Notebook_Cedrik_FeatureEngineering.ipynb\")\n",
    "csv_path = os.path.join(os.path.dirname(dirname(notebook_path)), \"data/ks-project-edited-features.csv\")\n",
    "csv_path_original = os.path.join(os.path.dirname(dirname(notebook_path)), \"data/ks-project-edited-numpy-pandas.csv\")"
   ]
  },
  {
   "cell_type": "code",
   "execution_count": 418,
   "id": "f2c6426a",
   "metadata": {
    "scrolled": false
   },
   "outputs": [
    {
     "data": {
      "text/html": [
       "<div>\n",
       "<style scoped>\n",
       "    .dataframe tbody tr th:only-of-type {\n",
       "        vertical-align: middle;\n",
       "    }\n",
       "\n",
       "    .dataframe tbody tr th {\n",
       "        vertical-align: top;\n",
       "    }\n",
       "\n",
       "    .dataframe thead th {\n",
       "        text-align: right;\n",
       "    }\n",
       "</style>\n",
       "<table border=\"1\" class=\"dataframe\">\n",
       "  <thead>\n",
       "    <tr style=\"text-align: right;\">\n",
       "      <th></th>\n",
       "      <th>ID</th>\n",
       "      <th>name</th>\n",
       "      <th>deadline</th>\n",
       "      <th>launched</th>\n",
       "      <th>backers</th>\n",
       "      <th>duration</th>\n",
       "      <th>year</th>\n",
       "      <th>canceled</th>\n",
       "      <th>failed</th>\n",
       "      <th>successful</th>\n",
       "      <th>...</th>\n",
       "      <th>NZ</th>\n",
       "      <th>SE</th>\n",
       "      <th>SG</th>\n",
       "      <th>US</th>\n",
       "      <th>usd_pledged_real_scaled</th>\n",
       "      <th>usd_goal_real_scaled</th>\n",
       "      <th>hour</th>\n",
       "      <th>weekday_launched</th>\n",
       "      <th>weekday_deadline</th>\n",
       "      <th>name_length</th>\n",
       "    </tr>\n",
       "  </thead>\n",
       "  <tbody>\n",
       "    <tr>\n",
       "      <th>0</th>\n",
       "      <td>1000002330</td>\n",
       "      <td>The Songs of Adelaide &amp; Abullah</td>\n",
       "      <td>2015-10-09 00:00:00</td>\n",
       "      <td>2015-08-11 12:12:28</td>\n",
       "      <td>0</td>\n",
       "      <td>59</td>\n",
       "      <td>2015</td>\n",
       "      <td>0</td>\n",
       "      <td>1</td>\n",
       "      <td>0</td>\n",
       "      <td>...</td>\n",
       "      <td>0</td>\n",
       "      <td>0</td>\n",
       "      <td>0</td>\n",
       "      <td>0</td>\n",
       "      <td>0.000000e+00</td>\n",
       "      <td>0.000009</td>\n",
       "      <td>12</td>\n",
       "      <td>Tuesday</td>\n",
       "      <td>Friday</td>\n",
       "      <td>31.0</td>\n",
       "    </tr>\n",
       "    <tr>\n",
       "      <th>1</th>\n",
       "      <td>1000003930</td>\n",
       "      <td>Greeting From Earth: ZGAC Arts Capsule For ET</td>\n",
       "      <td>2017-11-01 00:00:00</td>\n",
       "      <td>2017-09-02 04:43:57</td>\n",
       "      <td>15</td>\n",
       "      <td>60</td>\n",
       "      <td>2017</td>\n",
       "      <td>0</td>\n",
       "      <td>1</td>\n",
       "      <td>0</td>\n",
       "      <td>...</td>\n",
       "      <td>0</td>\n",
       "      <td>0</td>\n",
       "      <td>0</td>\n",
       "      <td>1</td>\n",
       "      <td>1.190325e-04</td>\n",
       "      <td>0.000180</td>\n",
       "      <td>4</td>\n",
       "      <td>Saturday</td>\n",
       "      <td>Wednesday</td>\n",
       "      <td>45.0</td>\n",
       "    </tr>\n",
       "    <tr>\n",
       "      <th>2</th>\n",
       "      <td>1000004038</td>\n",
       "      <td>Where is Hank?</td>\n",
       "      <td>2013-02-26 00:00:00</td>\n",
       "      <td>2013-01-12 00:20:50</td>\n",
       "      <td>3</td>\n",
       "      <td>45</td>\n",
       "      <td>2013</td>\n",
       "      <td>0</td>\n",
       "      <td>1</td>\n",
       "      <td>0</td>\n",
       "      <td>...</td>\n",
       "      <td>0</td>\n",
       "      <td>0</td>\n",
       "      <td>0</td>\n",
       "      <td>1</td>\n",
       "      <td>1.081666e-05</td>\n",
       "      <td>0.000270</td>\n",
       "      <td>0</td>\n",
       "      <td>Saturday</td>\n",
       "      <td>Tuesday</td>\n",
       "      <td>14.0</td>\n",
       "    </tr>\n",
       "    <tr>\n",
       "      <th>3</th>\n",
       "      <td>1000007540</td>\n",
       "      <td>ToshiCapital Rekordz Needs Help to Complete Album</td>\n",
       "      <td>2012-04-16 00:00:00</td>\n",
       "      <td>2012-03-17 03:24:11</td>\n",
       "      <td>1</td>\n",
       "      <td>30</td>\n",
       "      <td>2012</td>\n",
       "      <td>0</td>\n",
       "      <td>1</td>\n",
       "      <td>0</td>\n",
       "      <td>...</td>\n",
       "      <td>0</td>\n",
       "      <td>0</td>\n",
       "      <td>0</td>\n",
       "      <td>1</td>\n",
       "      <td>4.916666e-08</td>\n",
       "      <td>0.000030</td>\n",
       "      <td>3</td>\n",
       "      <td>Saturday</td>\n",
       "      <td>Monday</td>\n",
       "      <td>49.0</td>\n",
       "    </tr>\n",
       "    <tr>\n",
       "      <th>4</th>\n",
       "      <td>1000011046</td>\n",
       "      <td>Community Film Project: The Art of Neighborhoo...</td>\n",
       "      <td>2015-08-29 00:00:00</td>\n",
       "      <td>2015-07-04 08:35:03</td>\n",
       "      <td>14</td>\n",
       "      <td>56</td>\n",
       "      <td>2015</td>\n",
       "      <td>1</td>\n",
       "      <td>0</td>\n",
       "      <td>0</td>\n",
       "      <td>...</td>\n",
       "      <td>0</td>\n",
       "      <td>0</td>\n",
       "      <td>0</td>\n",
       "      <td>1</td>\n",
       "      <td>6.308082e-05</td>\n",
       "      <td>0.000117</td>\n",
       "      <td>8</td>\n",
       "      <td>Saturday</td>\n",
       "      <td>Saturday</td>\n",
       "      <td>58.0</td>\n",
       "    </tr>\n",
       "  </tbody>\n",
       "</table>\n",
       "<p>5 rows × 226 columns</p>\n",
       "</div>"
      ],
      "text/plain": [
       "           ID                                               name  \\\n",
       "0  1000002330                    The Songs of Adelaide & Abullah   \n",
       "1  1000003930      Greeting From Earth: ZGAC Arts Capsule For ET   \n",
       "2  1000004038                                     Where is Hank?   \n",
       "3  1000007540  ToshiCapital Rekordz Needs Help to Complete Album   \n",
       "4  1000011046  Community Film Project: The Art of Neighborhoo...   \n",
       "\n",
       "              deadline             launched  backers  duration  year  \\\n",
       "0  2015-10-09 00:00:00  2015-08-11 12:12:28        0        59  2015   \n",
       "1  2017-11-01 00:00:00  2017-09-02 04:43:57       15        60  2017   \n",
       "2  2013-02-26 00:00:00  2013-01-12 00:20:50        3        45  2013   \n",
       "3  2012-04-16 00:00:00  2012-03-17 03:24:11        1        30  2012   \n",
       "4  2015-08-29 00:00:00  2015-07-04 08:35:03       14        56  2015   \n",
       "\n",
       "   canceled  failed  successful  ...  NZ  SE  SG  US  usd_pledged_real_scaled  \\\n",
       "0         0       1           0  ...   0   0   0   0             0.000000e+00   \n",
       "1         0       1           0  ...   0   0   0   1             1.190325e-04   \n",
       "2         0       1           0  ...   0   0   0   1             1.081666e-05   \n",
       "3         0       1           0  ...   0   0   0   1             4.916666e-08   \n",
       "4         1       0           0  ...   0   0   0   1             6.308082e-05   \n",
       "\n",
       "   usd_goal_real_scaled  hour  weekday_launched  weekday_deadline  name_length  \n",
       "0              0.000009    12           Tuesday            Friday         31.0  \n",
       "1              0.000180     4          Saturday         Wednesday         45.0  \n",
       "2              0.000270     0          Saturday           Tuesday         14.0  \n",
       "3              0.000030     3          Saturday            Monday         49.0  \n",
       "4              0.000117     8          Saturday          Saturday         58.0  \n",
       "\n",
       "[5 rows x 226 columns]"
      ]
     },
     "execution_count": 418,
     "metadata": {},
     "output_type": "execute_result"
    }
   ],
   "source": [
    "df = pd.read_csv (csv_path, low_memory=False)\n",
    "df_original = pd.read_csv (csv_path_original, low_memory=False)\n",
    "df.head()"
   ]
  },
  {
   "cell_type": "code",
   "execution_count": 419,
   "id": "9be630d8",
   "metadata": {
    "scrolled": false
   },
   "outputs": [
    {
     "data": {
      "text/html": [
       "<div>\n",
       "<style scoped>\n",
       "    .dataframe tbody tr th:only-of-type {\n",
       "        vertical-align: middle;\n",
       "    }\n",
       "\n",
       "    .dataframe tbody tr th {\n",
       "        vertical-align: top;\n",
       "    }\n",
       "\n",
       "    .dataframe thead th {\n",
       "        text-align: right;\n",
       "    }\n",
       "</style>\n",
       "<table border=\"1\" class=\"dataframe\">\n",
       "  <thead>\n",
       "    <tr style=\"text-align: right;\">\n",
       "      <th></th>\n",
       "      <th>backers</th>\n",
       "      <th>duration</th>\n",
       "      <th>usd_pledged_real_scaled</th>\n",
       "      <th>usd_goal_real_scaled</th>\n",
       "      <th>hour</th>\n",
       "      <th>name_length</th>\n",
       "    </tr>\n",
       "  </thead>\n",
       "  <tbody>\n",
       "    <tr>\n",
       "      <th>0</th>\n",
       "      <td>0</td>\n",
       "      <td>59</td>\n",
       "      <td>0.000000e+00</td>\n",
       "      <td>0.000009</td>\n",
       "      <td>12</td>\n",
       "      <td>31.0</td>\n",
       "    </tr>\n",
       "    <tr>\n",
       "      <th>1</th>\n",
       "      <td>15</td>\n",
       "      <td>60</td>\n",
       "      <td>1.190325e-04</td>\n",
       "      <td>0.000180</td>\n",
       "      <td>4</td>\n",
       "      <td>45.0</td>\n",
       "    </tr>\n",
       "    <tr>\n",
       "      <th>2</th>\n",
       "      <td>3</td>\n",
       "      <td>45</td>\n",
       "      <td>1.081666e-05</td>\n",
       "      <td>0.000270</td>\n",
       "      <td>0</td>\n",
       "      <td>14.0</td>\n",
       "    </tr>\n",
       "    <tr>\n",
       "      <th>3</th>\n",
       "      <td>1</td>\n",
       "      <td>30</td>\n",
       "      <td>4.916666e-08</td>\n",
       "      <td>0.000030</td>\n",
       "      <td>3</td>\n",
       "      <td>49.0</td>\n",
       "    </tr>\n",
       "    <tr>\n",
       "      <th>4</th>\n",
       "      <td>14</td>\n",
       "      <td>56</td>\n",
       "      <td>6.308082e-05</td>\n",
       "      <td>0.000117</td>\n",
       "      <td>8</td>\n",
       "      <td>58.0</td>\n",
       "    </tr>\n",
       "  </tbody>\n",
       "</table>\n",
       "</div>"
      ],
      "text/plain": [
       "   backers  duration  usd_pledged_real_scaled  usd_goal_real_scaled  hour  \\\n",
       "0        0        59             0.000000e+00              0.000009    12   \n",
       "1       15        60             1.190325e-04              0.000180     4   \n",
       "2        3        45             1.081666e-05              0.000270     0   \n",
       "3        1        30             4.916666e-08              0.000030     3   \n",
       "4       14        56             6.308082e-05              0.000117     8   \n",
       "\n",
       "   name_length  \n",
       "0         31.0  \n",
       "1         45.0  \n",
       "2         14.0  \n",
       "3         49.0  \n",
       "4         58.0  "
      ]
     },
     "execution_count": 419,
     "metadata": {},
     "output_type": "execute_result"
    }
   ],
   "source": [
    "list_features = [\"backers\",\"duration\",\"usd_pledged_real_scaled\",\"usd_goal_real_scaled\", \"hour\",\"name_length\"]\n",
    "df_features = df[list_features].copy()\n",
    "df_features.head()"
   ]
  },
  {
   "cell_type": "code",
   "execution_count": 420,
   "id": "21472115",
   "metadata": {},
   "outputs": [],
   "source": [
    "df_features[\"name_length\"].fillna(df_features[\"name_length\"].agg(\"mean\"), inplace=True)"
   ]
  },
  {
   "cell_type": "code",
   "execution_count": 421,
   "id": "f78d54b9",
   "metadata": {},
   "outputs": [
    {
     "data": {
      "text/html": [
       "<div>\n",
       "<style scoped>\n",
       "    .dataframe tbody tr th:only-of-type {\n",
       "        vertical-align: middle;\n",
       "    }\n",
       "\n",
       "    .dataframe tbody tr th {\n",
       "        vertical-align: top;\n",
       "    }\n",
       "\n",
       "    .dataframe thead th {\n",
       "        text-align: right;\n",
       "    }\n",
       "</style>\n",
       "<table border=\"1\" class=\"dataframe\">\n",
       "  <thead>\n",
       "    <tr style=\"text-align: right;\">\n",
       "      <th></th>\n",
       "      <th>backers</th>\n",
       "      <th>duration</th>\n",
       "      <th>usd_pledged_real_scaled</th>\n",
       "      <th>usd_goal_real_scaled</th>\n",
       "      <th>hour</th>\n",
       "      <th>name_length</th>\n",
       "    </tr>\n",
       "  </thead>\n",
       "  <tbody>\n",
       "  </tbody>\n",
       "</table>\n",
       "</div>"
      ],
      "text/plain": [
       "Empty DataFrame\n",
       "Columns: [backers, duration, usd_pledged_real_scaled, usd_goal_real_scaled, hour, name_length]\n",
       "Index: []"
      ]
     },
     "execution_count": 421,
     "metadata": {},
     "output_type": "execute_result"
    }
   ],
   "source": [
    "df_features[\"name_length\"].agg(\"mean\")\n",
    "df_features[df_features_cluster.isna().any(axis=1)]"
   ]
  },
  {
   "cell_type": "markdown",
   "id": "81586c61",
   "metadata": {},
   "source": [
    "#### Normaliseren von den restlichen Features"
   ]
  },
  {
   "cell_type": "code",
   "execution_count": 422,
   "id": "c614f20b",
   "metadata": {},
   "outputs": [],
   "source": [
    "scaler = MinMaxScaler()\n",
    "\n",
    "df_features[list(df_features.columns)] = scaler.fit_transform(df_features[list_features])"
   ]
  },
  {
   "cell_type": "code",
   "execution_count": 423,
   "id": "9d04a8a2",
   "metadata": {},
   "outputs": [
    {
     "data": {
      "text/html": [
       "<div>\n",
       "<style scoped>\n",
       "    .dataframe tbody tr th:only-of-type {\n",
       "        vertical-align: middle;\n",
       "    }\n",
       "\n",
       "    .dataframe tbody tr th {\n",
       "        vertical-align: top;\n",
       "    }\n",
       "\n",
       "    .dataframe thead th {\n",
       "        text-align: right;\n",
       "    }\n",
       "</style>\n",
       "<table border=\"1\" class=\"dataframe\">\n",
       "  <thead>\n",
       "    <tr style=\"text-align: right;\">\n",
       "      <th></th>\n",
       "      <th>backers</th>\n",
       "      <th>duration</th>\n",
       "      <th>usd_pledged_real_scaled</th>\n",
       "      <th>usd_goal_real_scaled</th>\n",
       "      <th>hour</th>\n",
       "      <th>name_length</th>\n",
       "    </tr>\n",
       "  </thead>\n",
       "  <tbody>\n",
       "    <tr>\n",
       "      <th>0</th>\n",
       "      <td>0.000000</td>\n",
       "      <td>0.637363</td>\n",
       "      <td>0.000000e+00</td>\n",
       "      <td>0.000009</td>\n",
       "      <td>0.521739</td>\n",
       "      <td>0.315789</td>\n",
       "    </tr>\n",
       "    <tr>\n",
       "      <th>1</th>\n",
       "      <td>0.000068</td>\n",
       "      <td>0.648352</td>\n",
       "      <td>1.190325e-04</td>\n",
       "      <td>0.000180</td>\n",
       "      <td>0.173913</td>\n",
       "      <td>0.463158</td>\n",
       "    </tr>\n",
       "    <tr>\n",
       "      <th>2</th>\n",
       "      <td>0.000014</td>\n",
       "      <td>0.483516</td>\n",
       "      <td>1.081666e-05</td>\n",
       "      <td>0.000270</td>\n",
       "      <td>0.000000</td>\n",
       "      <td>0.136842</td>\n",
       "    </tr>\n",
       "    <tr>\n",
       "      <th>3</th>\n",
       "      <td>0.000005</td>\n",
       "      <td>0.318681</td>\n",
       "      <td>4.916666e-08</td>\n",
       "      <td>0.000030</td>\n",
       "      <td>0.130435</td>\n",
       "      <td>0.505263</td>\n",
       "    </tr>\n",
       "    <tr>\n",
       "      <th>4</th>\n",
       "      <td>0.000064</td>\n",
       "      <td>0.604396</td>\n",
       "      <td>6.308082e-05</td>\n",
       "      <td>0.000117</td>\n",
       "      <td>0.347826</td>\n",
       "      <td>0.600000</td>\n",
       "    </tr>\n",
       "  </tbody>\n",
       "</table>\n",
       "</div>"
      ],
      "text/plain": [
       "    backers  duration  usd_pledged_real_scaled  usd_goal_real_scaled  \\\n",
       "0  0.000000  0.637363             0.000000e+00              0.000009   \n",
       "1  0.000068  0.648352             1.190325e-04              0.000180   \n",
       "2  0.000014  0.483516             1.081666e-05              0.000270   \n",
       "3  0.000005  0.318681             4.916666e-08              0.000030   \n",
       "4  0.000064  0.604396             6.308082e-05              0.000117   \n",
       "\n",
       "       hour  name_length  \n",
       "0  0.521739     0.315789  \n",
       "1  0.173913     0.463158  \n",
       "2  0.000000     0.136842  \n",
       "3  0.130435     0.505263  \n",
       "4  0.347826     0.600000  "
      ]
     },
     "execution_count": 423,
     "metadata": {},
     "output_type": "execute_result"
    }
   ],
   "source": [
    "df_features.head()"
   ]
  },
  {
   "cell_type": "code",
   "execution_count": 424,
   "id": "356317a0",
   "metadata": {},
   "outputs": [],
   "source": [
    "inertia = []\n",
    "silhouette_coefficients = []\n",
    "cluster_range = range(1,10)\n",
    "for k in cluster_range:\n",
    "    kmeans_elbow = cluster.KMeans(n_clusters=k).fit(df_features)\n",
    "    inertia.append(kmeans_elbow.inertia_)\n",
    "    if k >= 2:\n",
    "        silhouette_coefficient = metrics.silhouette_score(df_features,kmeans_elbow.labels_, metric='euclidean', sample_size=50000,random_state=42)\n",
    "        silhouette_coefficients.append(silhouette_coefficient)\n",
    "        "
   ]
  },
  {
   "cell_type": "code",
   "execution_count": 425,
   "id": "7a18fd83",
   "metadata": {
    "scrolled": false
   },
   "outputs": [
    {
     "data": {
      "text/plain": [
       "Text(0.5, 1.0, 'Elbogendiagramm')"
      ]
     },
     "execution_count": 425,
     "metadata": {},
     "output_type": "execute_result"
    },
    {
     "data": {
      "image/png": "[encoded data removed]",
      "text/plain": [
       "<Figure size 720x432 with 1 Axes>"
      ]
     },
     "metadata": {
      "needs_background": "light"
     },
     "output_type": "display_data"
    }
   ],
   "source": [
    "# deutlicher Knick bei 2 Clustern. Das zeigt, dass hier die optimale Wahl für die Anzahl der Cluster liegt, \n",
    "# da dort die größte Verbesserung der Abstände zu den Clusterschwerpunkten ist\n",
    "fig, ax = plt.subplots(figsize=(10,6))\n",
    "sns.lineplot(x = cluster_range,y = inertia, marker='X', markerfacecolor='red', markersize=10, markevery=[1])\n",
    "plt.xlabel('Anzahl der Cluster')\n",
    "plt.ylabel('Inertia')\n",
    "plt.title(\"Elbogendiagramm\", pad = 20, fontweight=\"bold\")"
   ]
  },
  {
   "cell_type": "code",
   "execution_count": 426,
   "id": "7dda1b30",
   "metadata": {},
   "outputs": [
    {
     "data": {
      "text/plain": [
       "Text(0.5, 1.0, 'Vergleich der Silhouetten Koeffizienten')"
      ]
     },
     "execution_count": 426,
     "metadata": {},
     "output_type": "execute_result"
    },
    {
     "data": {
      "image/png": "[encoded data removed]",
      "text/plain": [
       "<Figure size 720x432 with 1 Axes>"
      ]
     },
     "metadata": {
      "needs_background": "light"
     },
     "output_type": "display_data"
    }
   ],
   "source": [
    "# Höchster Wert bei 2 Clustern\n",
    "fig, ax = plt.subplots(figsize=(10,6))\n",
    "sns.lineplot(x = range(2,10),y = silhouette_coefficients, marker='X', markerfacecolor='red', markersize=10,markevery=[0])\n",
    "plt.xlabel('Anzahl der Cluster')\n",
    "plt.ylabel('Silhouette Coefficient')\n",
    "plt.title(\"Vergleich der Silhouetten Koeffizienten\", pad = 20, fontweight=\"bold\")"
   ]
  },
  {
   "cell_type": "code",
   "execution_count": 427,
   "id": "23d346d8",
   "metadata": {
    "scrolled": true
   },
   "outputs": [
    {
     "name": "stdout",
     "output_type": "stream",
     "text": [
      "Random:  80\n",
      "Name: 0 Größe:  230547\n",
      "Name: 1 Größe:  139667\n",
      "Random:  56\n",
      "Name: 0 Größe:  139667\n",
      "Name: 1 Größe:  230547\n",
      "Random:  87\n",
      "Name: 0 Größe:  230547\n",
      "Name: 1 Größe:  139667\n",
      "Random:  7\n",
      "Name: 0 Größe:  139667\n",
      "Name: 1 Größe:  230547\n",
      "Random:  44\n",
      "Name: 0 Größe:  230547\n",
      "Name: 1 Größe:  139667\n"
     ]
    }
   ],
   "source": [
    "# Verteilung gleich unabhängig von random_states\n",
    "for j in range(5):\n",
    "    rs = randint(0, 100)\n",
    "    kmeans_rs = cluster.KMeans(n_clusters=2, random_state=rs).fit(df_features)\n",
    "    print(\"Random: \", rs)\n",
    "    for i in range(2):\n",
    "        print(\"Name:\", i, \"Größe: \", list(kmeans_rs.labels_).count(i))"
   ]
  },
  {
   "cell_type": "code",
   "execution_count": 478,
   "id": "c85acdfd",
   "metadata": {},
   "outputs": [],
   "source": [
    "# Die Evaluation mit der Zielklasse gibt nicht das gewünschte Ergebniss aus beim Einsetzen von df[\"successful\"] oder\n",
    "# df[\"failed\"] als Zielklasse, obwohl die Verteilung der beiden Cluster ungefähr diesen entsprechen. Daher \n",
    "def bench_k_means(kmeans, name, data, labels):\n",
    "    \"\"\"Benchmark to evaluate the KMeans initialization methods.\n",
    "\n",
    "    Parameters\n",
    "    ----------\n",
    "    kmeans : KMeans instance\n",
    "        A :class:`~sklearn.cluster.KMeans` instance that has already been trained\n",
    "    name : str\n",
    "        Name given to the strategy. It will be used to show the results in a\n",
    "        table.\n",
    "    data : ndarray of shape (n_samples, n_features)\n",
    "        The data whose clusters should be evaluated.\n",
    "    labels : ndarray of shape (n_samples,)\n",
    "        The labels used to compute the supervised clustering metrics.\n",
    "    \"\"\"\n",
    "    \n",
    "    # Inertia\n",
    "    results = [name, kmeans.inertia_]\n",
    "\n",
    "    # The silhouette score requires the full dataset\n",
    "    results += [\n",
    "        metrics.silhouette_score(data, kmeans.labels_,\n",
    "                                 metric=\"euclidean\", sample_size=25000)\n",
    "    ]\n",
    "    \n",
    "    # Supervised metrics which require the true labels and cluster\n",
    "    # labels\n",
    "    clustering_metrics = [\n",
    "        metrics.homogeneity_score,\n",
    "        metrics.completeness_score,\n",
    "        metrics.v_measure_score,\n",
    "        metrics.fowlkes_mallows_score,\n",
    "        metrics.rand_score,\n",
    "    ]\n",
    "    results += [m(labels, kmeans.labels_) for m in clustering_metrics]\n",
    "\n",
    "    # Show the results\n",
    "    formatter_result = (\"{:9s}\\t{:.0f}\\t{:.3f}\\t{:.3f}\\t{:.3f}\\t{:.3f}\\t{:.3f}\\t{:.3f}\")\n",
    "    print(formatter_result.format(*results))"
   ]
  },
  {
   "cell_type": "code",
   "execution_count": 429,
   "id": "0909a96b",
   "metadata": {},
   "outputs": [
    {
     "name": "stdout",
     "output_type": "stream",
     "text": [
      "__________________________________________________________________________________\n",
      "init\t\tinertia\tsil\thom\tcom\tv-meas\trand\tfowlkes\n",
      "k-means_0\t24417\t0.513\t0.000\t0.000\t0.000\t0.533\t0.501\n",
      "k-means_42\t24417\t0.516\t0.000\t0.000\t0.000\t0.533\t0.501\n",
      "k-means_opti\t24417\t0.515\t0.000\t0.000\t0.000\t0.533\t0.501\n",
      "random   \t24417\t0.514\t0.000\t0.000\t0.000\t0.533\t0.501\n",
      "k-means++\t24417\t0.513\t0.000\t0.000\t0.000\t0.533\t0.501\n",
      "__________________________________________________________________________________\n"
     ]
    }
   ],
   "source": [
    "# Aufrufen der Benchmark mit unserem trainierten kmeans und einer zufälligen Zuweisung (zum Vergleich)\n",
    "# Fügen Sie hier auch Ihren günstigeren random_state von oben ein!\n",
    "\n",
    "print(82 * '_')\n",
    "print('init\\t\\tinertia\\tsil\\thom\\tcom\\tv-meas\\trand\\tfowlkes')\n",
    "\n",
    "# unser kmeans-Modell (zur Sicherheit neu trainieren)\n",
    "kmeans = cluster.KMeans(n_clusters=2, random_state=0).fit(df_features)\n",
    "bench_k_means(kmeans=kmeans, name=\"k-means_0\", data=df_features, labels=df[\"successful\"])\n",
    "\n",
    "# unser kmeans-Modell (random_state 42)\n",
    "kmeans = cluster.KMeans(n_clusters=2, random_state=42).fit(df_features)\n",
    "bench_k_means(kmeans=kmeans, name=\"k-means_42\", data=df_features, labels=df[\"successful\"])\n",
    "\n",
    "# unser kmeans-Modell (10x trainiert; das Modell mit der besten inertia gewinnt)\n",
    "kmeans = cluster.KMeans(n_clusters=2, n_init=10).fit(df_features)\n",
    "bench_k_means(kmeans=kmeans, name=\"k-means_opti\", data=df_features, labels=df[\"successful\"])\n",
    "\n",
    "# zufällige Cluster-Zuordnung erzeugen\n",
    "kmeans_rand = cluster.KMeans(init=\"random\", n_clusters=2, random_state=0).fit(df_features)\n",
    "bench_k_means(kmeans=kmeans_rand, name=\"random\", data=df_features, labels=df[\"successful\"])\n",
    "\n",
    "# Cluster-Zuordnung mit k-means++\n",
    "kmeans_kplus = cluster.KMeans(init=\"k-means++\", n_clusters=2, random_state=0).fit(df_features)\n",
    "bench_k_means(kmeans=kmeans_kplus, name=\"k-means++\", data=df_features, labels=df[\"successful\"])\n",
    "\n",
    "print(82 * '_')"
   ]
  },
  {
   "cell_type": "code",
   "execution_count": 430,
   "id": "df1a11eb",
   "metadata": {
    "scrolled": true
   },
   "outputs": [],
   "source": [
    "kmeans = KMeans(init=\"k-means++\", n_clusters=2, random_state=42).fit(df_features)\n",
    "clustergroessen = []\n",
    "clustergroessen.append(list(kmeans.labels_).count(0))\n",
    "clustergroessen.append(list(kmeans.labels_).count(1))"
   ]
  },
  {
   "cell_type": "code",
   "execution_count": 431,
   "id": "1e682394",
   "metadata": {},
   "outputs": [
    {
     "data": {
      "text/plain": [
       "[139667, 230547]"
      ]
     },
     "execution_count": 431,
     "metadata": {},
     "output_type": "execute_result"
    }
   ],
   "source": [
    "clustergroessen"
   ]
  },
  {
   "cell_type": "code",
   "execution_count": 432,
   "id": "8a6351d0",
   "metadata": {
    "scrolled": false
   },
   "outputs": [
    {
     "data": {
      "image/png": "[encoded data removed]",
      "text/plain": [
       "<Figure size 1080x1080 with 2 Axes>"
      ]
     },
     "metadata": {},
     "output_type": "display_data"
    }
   ],
   "source": [
    "# Hier ist gut erkennbar dass die beiden Cluster wahrscheinlich danach geordnet sind, ob ein Projekt fehlgschlagen ist \n",
    "# oder nicht. Es wäre wahrscheinlich noch sinnvoll die Daten mit dem state (canceled, undefined, live und suspended)\n",
    "# zu entfernen aus dem Datensatz\n",
    "fig, ax = plt.subplots(figsize=(15,15), ncols=2)\n",
    "colors = sns.color_palette('pastel')[0:6]\n",
    "\n",
    "def my_autopct(pct):\n",
    "    return ('%.2f%%' % pct) if pct >= 10 else ''\n",
    "#create pie chart\n",
    "ax[0].pie(clustergroessen, labels= [\"Cluster 1\",\"Cluster 2\"],colors = colors, autopct=my_autopct)\n",
    "ax[0].set_title(\"Größenvergleich der beiden Cluster\", fontweight=\"bold\", fontsize=12, pad=20)\n",
    "ax[1].pie(df_original['state'].value_counts(), labels= df_original['state'].value_counts().index.tolist(),colors = colors, autopct=my_autopct)\n",
    "ax[1].set_title(\"Erfolg oder Misserfolg der Projekte\", fontweight=\"bold\", fontsize=12, pad=20)\n",
    "plt.show()"
   ]
  },
  {
   "cell_type": "code",
   "execution_count": 433,
   "id": "55bec579",
   "metadata": {},
   "outputs": [
    {
     "data": {
      "text/html": [
       "<div>\n",
       "<style scoped>\n",
       "    .dataframe tbody tr th:only-of-type {\n",
       "        vertical-align: middle;\n",
       "    }\n",
       "\n",
       "    .dataframe tbody tr th {\n",
       "        vertical-align: top;\n",
       "    }\n",
       "\n",
       "    .dataframe thead th {\n",
       "        text-align: right;\n",
       "    }\n",
       "</style>\n",
       "<table border=\"1\" class=\"dataframe\">\n",
       "  <thead>\n",
       "    <tr style=\"text-align: right;\">\n",
       "      <th></th>\n",
       "      <th>backers</th>\n",
       "      <th>duration</th>\n",
       "      <th>usd_pledged_real_scaled</th>\n",
       "      <th>usd_goal_real_scaled</th>\n",
       "      <th>hour</th>\n",
       "      <th>name_length</th>\n",
       "      <th>cluster</th>\n",
       "    </tr>\n",
       "  </thead>\n",
       "  <tbody>\n",
       "    <tr>\n",
       "      <th>0</th>\n",
       "      <td>0.000000</td>\n",
       "      <td>0.637363</td>\n",
       "      <td>0.000000e+00</td>\n",
       "      <td>0.000009</td>\n",
       "      <td>0.521739</td>\n",
       "      <td>0.315789</td>\n",
       "      <td>1</td>\n",
       "    </tr>\n",
       "    <tr>\n",
       "      <th>1</th>\n",
       "      <td>0.000068</td>\n",
       "      <td>0.648352</td>\n",
       "      <td>1.190325e-04</td>\n",
       "      <td>0.000180</td>\n",
       "      <td>0.173913</td>\n",
       "      <td>0.463158</td>\n",
       "      <td>0</td>\n",
       "    </tr>\n",
       "    <tr>\n",
       "      <th>2</th>\n",
       "      <td>0.000014</td>\n",
       "      <td>0.483516</td>\n",
       "      <td>1.081666e-05</td>\n",
       "      <td>0.000270</td>\n",
       "      <td>0.000000</td>\n",
       "      <td>0.136842</td>\n",
       "      <td>0</td>\n",
       "    </tr>\n",
       "    <tr>\n",
       "      <th>3</th>\n",
       "      <td>0.000005</td>\n",
       "      <td>0.318681</td>\n",
       "      <td>4.916666e-08</td>\n",
       "      <td>0.000030</td>\n",
       "      <td>0.130435</td>\n",
       "      <td>0.505263</td>\n",
       "      <td>0</td>\n",
       "    </tr>\n",
       "    <tr>\n",
       "      <th>4</th>\n",
       "      <td>0.000064</td>\n",
       "      <td>0.604396</td>\n",
       "      <td>6.308082e-05</td>\n",
       "      <td>0.000117</td>\n",
       "      <td>0.347826</td>\n",
       "      <td>0.600000</td>\n",
       "      <td>0</td>\n",
       "    </tr>\n",
       "  </tbody>\n",
       "</table>\n",
       "</div>"
      ],
      "text/plain": [
       "    backers  duration  usd_pledged_real_scaled  usd_goal_real_scaled  \\\n",
       "0  0.000000  0.637363             0.000000e+00              0.000009   \n",
       "1  0.000068  0.648352             1.190325e-04              0.000180   \n",
       "2  0.000014  0.483516             1.081666e-05              0.000270   \n",
       "3  0.000005  0.318681             4.916666e-08              0.000030   \n",
       "4  0.000064  0.604396             6.308082e-05              0.000117   \n",
       "\n",
       "       hour  name_length  cluster  \n",
       "0  0.521739     0.315789        1  \n",
       "1  0.173913     0.463158        0  \n",
       "2  0.000000     0.136842        0  \n",
       "3  0.130435     0.505263        0  \n",
       "4  0.347826     0.600000        0  "
      ]
     },
     "execution_count": 433,
     "metadata": {},
     "output_type": "execute_result"
    }
   ],
   "source": [
    "df_features_cluster = df_features\n",
    "#df_features_cluster[list(df_features_cluster.columns)] = scaler.inverse_transform(df_features_cluster[list_features])\n",
    "df_features_cluster[\"cluster\"] = kmeans.labels_\n",
    "df_features_cluster.head()"
   ]
  },
  {
   "cell_type": "code",
   "execution_count": 434,
   "id": "71659bc8",
   "metadata": {
    "scrolled": true
   },
   "outputs": [
    {
     "data": {
      "text/html": [
       "<div>\n",
       "<style scoped>\n",
       "    .dataframe tbody tr th:only-of-type {\n",
       "        vertical-align: middle;\n",
       "    }\n",
       "\n",
       "    .dataframe tbody tr th {\n",
       "        vertical-align: top;\n",
       "    }\n",
       "\n",
       "    .dataframe thead th {\n",
       "        text-align: right;\n",
       "    }\n",
       "</style>\n",
       "<table border=\"1\" class=\"dataframe\">\n",
       "  <thead>\n",
       "    <tr style=\"text-align: right;\">\n",
       "      <th></th>\n",
       "      <th>backers</th>\n",
       "      <th>duration</th>\n",
       "      <th>usd_pledged_real_scaled</th>\n",
       "      <th>usd_goal_real_scaled</th>\n",
       "      <th>hour</th>\n",
       "      <th>name_length</th>\n",
       "    </tr>\n",
       "    <tr>\n",
       "      <th>cluster</th>\n",
       "      <th></th>\n",
       "      <th></th>\n",
       "      <th></th>\n",
       "      <th></th>\n",
       "      <th></th>\n",
       "      <th></th>\n",
       "    </tr>\n",
       "  </thead>\n",
       "  <tbody>\n",
       "    <tr>\n",
       "      <th>0</th>\n",
       "      <td>0.000365</td>\n",
       "      <td>0.369315</td>\n",
       "      <td>0.000334</td>\n",
       "      <td>0.000257</td>\n",
       "      <td>0.174451</td>\n",
       "      <td>0.355333</td>\n",
       "    </tr>\n",
       "    <tr>\n",
       "      <th>1</th>\n",
       "      <td>0.000562</td>\n",
       "      <td>0.361573</td>\n",
       "      <td>0.000520</td>\n",
       "      <td>0.000279</td>\n",
       "      <td>0.808455</td>\n",
       "      <td>0.356733</td>\n",
       "    </tr>\n",
       "  </tbody>\n",
       "</table>\n",
       "</div>"
      ],
      "text/plain": [
       "          backers  duration  usd_pledged_real_scaled  usd_goal_real_scaled  \\\n",
       "cluster                                                                      \n",
       "0        0.000365  0.369315                 0.000334              0.000257   \n",
       "1        0.000562  0.361573                 0.000520              0.000279   \n",
       "\n",
       "             hour  name_length  \n",
       "cluster                         \n",
       "0        0.174451     0.355333  \n",
       "1        0.808455     0.356733  "
      ]
     },
     "execution_count": 434,
     "metadata": {},
     "output_type": "execute_result"
    }
   ],
   "source": [
    "df_features_cluster.groupby('cluster').mean()"
   ]
  },
  {
   "cell_type": "code",
   "execution_count": 435,
   "id": "5d002e8e",
   "metadata": {},
   "outputs": [
    {
     "data": {
      "image/png": "[encoded data removed]",
      "text/plain": [
       "<Figure size 576x576 with 1 Axes>"
      ]
     },
     "metadata": {
      "needs_background": "light"
     },
     "output_type": "display_data"
    }
   ],
   "source": [
    "fig = plt.figure(figsize=(8, 8))\n",
    "sns.scatterplot(data=df_features, x=\"hour\", y=\"usd_pledged_real_scaled\", hue=\"cluster\", palette='Set2_r')\n",
    "sns.scatterplot(x=kmeans.cluster_centers_[:,4], y=kmeans.cluster_centers_[:,2], color='blue',marker='*',\n",
    "                label='centroid', s=150)\n",
    "plt.legend(bbox_to_anchor=(1.05, 1), loc=2, borderaxespad=0.)\n",
    "plt.title('Anzeige der unterschiedlichen Cluster')\n",
    "plt.show()"
   ]
  },
  {
   "cell_type": "code",
   "execution_count": 436,
   "id": "3c9a186f",
   "metadata": {},
   "outputs": [
    {
     "data": {
      "image/png": "[encoded data removed]",
      "text/plain": [
       "<Figure size 576x576 with 1 Axes>"
      ]
     },
     "metadata": {
      "needs_background": "light"
     },
     "output_type": "display_data"
    }
   ],
   "source": [
    "fig = plt.figure(figsize=(8, 8))\n",
    "sns.scatterplot(data=df_features, x=\"name_length\", y=\"usd_pledged_real_scaled\", hue=\"cluster\", palette='Set2_r')\n",
    "sns.scatterplot(x=kmeans.cluster_centers_[:,5], y=kmeans.cluster_centers_[:,2], color='blue',marker='*',\n",
    "                label='centroid', s=150)\n",
    "plt.legend(bbox_to_anchor=(1.05, 1), loc=2, borderaxespad=0.)\n",
    "plt.title('Anzeige der unterschiedlichen Cluster')\n",
    "plt.show()"
   ]
  },
  {
   "cell_type": "markdown",
   "id": "a1a9a0e9",
   "metadata": {},
   "source": [
    "Bei der Betrachtung dieser Werte, wird deutlich warum wir so schlechte Werte für die Homogenität, die Vollständigkeit und das V-Maß erhalten. Es ist erkennbar, dass die Projekte in beiden Clustern im Durchschnitt einen höheren Betrag eingebracht haben als die durchschnittlichen Zielbeträge. Davon lässt sich ableiten, dass in beiden Clustern genügend erfolgreiche Projekte vorhanden sind damit ein solcher Wert erreicht werden kann. Somit wurden die Cluster doch nicht wie im ersten Schritt angenommen nach \"successful\" und \"failed\" getrennt.\n",
    "Bei der weiteren Betrachtung ist erkennbar, dass sich vor allem die durschnittliche Anzahl der \"backers\" und die \"hour\" unterscheiden. Durch die betrachtlich höhere Anzahl von Backern in Cluster 1, liegt der Wert für die erzielten Beträge auch deutlich höher als bei Cluster 2. Des Weiteren haben wir zuvor bei der näheren Betrachtung unseres Datensatzes festgestellt, dass um 18 Uhr die meisten Projekte erstellt werden. Dies würde auch erklären, warum das Cluster 1, daher ca. 25% größer sein könnte als Cluster 0. \n",
    "Die Cluster wurden daher vermutlich so aufgeteilt zu den Hotspots nach der Erstellung und der Anzahl der backers.\n"
   ]
  },
  {
   "cell_type": "markdown",
   "id": "96872243",
   "metadata": {},
   "source": [
    "Eine Möglichkeit könnte es nun sein das Feature \"hour\" zu entfernen und dann zu schauen in wie weit sich die Clusteraufteilung verändert."
   ]
  },
  {
   "cell_type": "markdown",
   "id": "8acfaa43",
   "metadata": {},
   "source": [
    "## Kmeans ohne das Feature hour"
   ]
  },
  {
   "cell_type": "code",
   "execution_count": 437,
   "id": "6671b8fe",
   "metadata": {},
   "outputs": [],
   "source": [
    "df_without_hour = df_features.drop(columns=[\"hour\",\"cluster\"])"
   ]
  },
  {
   "cell_type": "code",
   "execution_count": 444,
   "id": "cc302247",
   "metadata": {
    "scrolled": true
   },
   "outputs": [
    {
     "data": {
      "text/html": [
       "<div>\n",
       "<style scoped>\n",
       "    .dataframe tbody tr th:only-of-type {\n",
       "        vertical-align: middle;\n",
       "    }\n",
       "\n",
       "    .dataframe tbody tr th {\n",
       "        vertical-align: top;\n",
       "    }\n",
       "\n",
       "    .dataframe thead th {\n",
       "        text-align: right;\n",
       "    }\n",
       "</style>\n",
       "<table border=\"1\" class=\"dataframe\">\n",
       "  <thead>\n",
       "    <tr style=\"text-align: right;\">\n",
       "      <th></th>\n",
       "      <th>backers</th>\n",
       "      <th>duration</th>\n",
       "      <th>usd_pledged_real_scaled</th>\n",
       "      <th>usd_goal_real_scaled</th>\n",
       "      <th>name_length</th>\n",
       "    </tr>\n",
       "  </thead>\n",
       "  <tbody>\n",
       "    <tr>\n",
       "      <th>0</th>\n",
       "      <td>0.000000</td>\n",
       "      <td>0.637363</td>\n",
       "      <td>0.000000e+00</td>\n",
       "      <td>0.000009</td>\n",
       "      <td>0.315789</td>\n",
       "    </tr>\n",
       "    <tr>\n",
       "      <th>1</th>\n",
       "      <td>0.000068</td>\n",
       "      <td>0.648352</td>\n",
       "      <td>1.190325e-04</td>\n",
       "      <td>0.000180</td>\n",
       "      <td>0.463158</td>\n",
       "    </tr>\n",
       "    <tr>\n",
       "      <th>2</th>\n",
       "      <td>0.000014</td>\n",
       "      <td>0.483516</td>\n",
       "      <td>1.081666e-05</td>\n",
       "      <td>0.000270</td>\n",
       "      <td>0.136842</td>\n",
       "    </tr>\n",
       "    <tr>\n",
       "      <th>3</th>\n",
       "      <td>0.000005</td>\n",
       "      <td>0.318681</td>\n",
       "      <td>4.916666e-08</td>\n",
       "      <td>0.000030</td>\n",
       "      <td>0.505263</td>\n",
       "    </tr>\n",
       "    <tr>\n",
       "      <th>4</th>\n",
       "      <td>0.000064</td>\n",
       "      <td>0.604396</td>\n",
       "      <td>6.308082e-05</td>\n",
       "      <td>0.000117</td>\n",
       "      <td>0.600000</td>\n",
       "    </tr>\n",
       "  </tbody>\n",
       "</table>\n",
       "</div>"
      ],
      "text/plain": [
       "    backers  duration  usd_pledged_real_scaled  usd_goal_real_scaled  \\\n",
       "0  0.000000  0.637363             0.000000e+00              0.000009   \n",
       "1  0.000068  0.648352             1.190325e-04              0.000180   \n",
       "2  0.000014  0.483516             1.081666e-05              0.000270   \n",
       "3  0.000005  0.318681             4.916666e-08              0.000030   \n",
       "4  0.000064  0.604396             6.308082e-05              0.000117   \n",
       "\n",
       "   name_length  \n",
       "0     0.315789  \n",
       "1     0.463158  \n",
       "2     0.136842  \n",
       "3     0.505263  \n",
       "4     0.600000  "
      ]
     },
     "execution_count": 444,
     "metadata": {},
     "output_type": "execute_result"
    }
   ],
   "source": [
    "df_without_hour.head()"
   ]
  },
  {
   "cell_type": "code",
   "execution_count": 477,
   "id": "90d9939d",
   "metadata": {},
   "outputs": [],
   "source": [
    "inertia_wh = []\n",
    "silhouette_coefficients_wh = []\n",
    "cluster_range_wh = range(1,10)\n",
    "for k in cluster_range_wh:\n",
    "    kmeans_elbow_wh = cluster.KMeans(n_clusters=k).fit(df_without_hour)\n",
    "    inertia_wh.append(kmeans_elbow_wh.inertia_)\n",
    "    if k >= 2:\n",
    "        silhouette_coefficient_wh = metrics.silhouette_score(df_without_hour,kmeans_elbow_wh.labels_, metric='euclidean', sample_size=25000,random_state=42)\n",
    "        silhouette_coefficients_wh.append(silhouette_coefficient_wh)"
   ]
  },
  {
   "cell_type": "code",
   "execution_count": 446,
   "id": "3e9eb5ec",
   "metadata": {
    "scrolled": false
   },
   "outputs": [
    {
     "data": {
      "text/plain": [
       "Text(0.5, 1.0, 'Elbogendiagramm')"
      ]
     },
     "execution_count": 446,
     "metadata": {},
     "output_type": "execute_result"
    },
    {
     "data": {
      "image/png": "[encoded data removed]",
      "text/plain": [
       "<Figure size 720x432 with 1 Axes>"
      ]
     },
     "metadata": {
      "needs_background": "light"
     },
     "output_type": "display_data"
    }
   ],
   "source": [
    "# deutlicher Knick bei 2 Clustern. Das zeigt, dass hier die optimale Wahl für die Anzahl der Cluster liegt, \n",
    "# da dort die größte Verbesserung der Abstände zu den Clusterschwerpunkten ist\n",
    "fig, ax = plt.subplots(figsize=(10,6))\n",
    "sns.lineplot(x = cluster_range_wh,y = inertia_wh, marker='X', markerfacecolor='red', markersize=10, markevery=[2])\n",
    "plt.xlabel('Anzahl der Cluster')\n",
    "plt.ylabel('Inertia')\n",
    "plt.title(\"Elbogendiagramm\", pad = 20, fontweight=\"bold\")"
   ]
  },
  {
   "cell_type": "code",
   "execution_count": 479,
   "id": "5b81e04f",
   "metadata": {
    "scrolled": false
   },
   "outputs": [
    {
     "data": {
      "text/plain": [
       "Text(0.5, 1.0, 'Vergleich der Silhouetten Koeffizienten')"
      ]
     },
     "execution_count": 479,
     "metadata": {},
     "output_type": "execute_result"
    },
    {
     "data": {
      "image/png": "[encoded data removed]",
      "text/plain": [
       "<Figure size 720x432 with 1 Axes>"
      ]
     },
     "metadata": {
      "needs_background": "light"
     },
     "output_type": "display_data"
    }
   ],
   "source": [
    "# Höchster Wert bei 2 Clustern\n",
    "fig, ax = plt.subplots(figsize=(10,6))\n",
    "sns.lineplot(x = range(2,10),y = silhouette_coefficients_wh, marker='X', markerfacecolor='red', markersize=10,markevery=[1])\n",
    "plt.xlabel('Anzahl der Cluster')\n",
    "plt.ylabel('Silhouette Coefficient')\n",
    "plt.title(\"Vergleich der Silhouetten Koeffizienten\", pad = 20, fontweight=\"bold\")"
   ]
  },
  {
   "cell_type": "code",
   "execution_count": 448,
   "id": "a2e4965b",
   "metadata": {
    "scrolled": true
   },
   "outputs": [
    {
     "name": "stdout",
     "output_type": "stream",
     "text": [
      "Random:  15\n",
      "Name: 0 Größe:  55659\n",
      "Name: 1 Größe:  150560\n",
      "Name: 2 Größe:  163995\n",
      "Random:  73\n",
      "Name: 0 Größe:  163995\n",
      "Name: 1 Größe:  150560\n",
      "Name: 2 Größe:  55659\n",
      "Random:  19\n",
      "Name: 0 Größe:  55659\n",
      "Name: 1 Größe:  163995\n",
      "Name: 2 Größe:  150560\n",
      "Random:  16\n",
      "Name: 0 Größe:  55659\n",
      "Name: 1 Größe:  150560\n",
      "Name: 2 Größe:  163995\n",
      "Random:  56\n",
      "Name: 0 Größe:  163995\n",
      "Name: 1 Größe:  55659\n",
      "Name: 2 Größe:  150560\n"
     ]
    }
   ],
   "source": [
    "# Verteilung gleich unabhängig von random_states\n",
    "for j in range(5):\n",
    "    rs = randint(0, 100)\n",
    "    kmeans_rs = cluster.KMeans(n_clusters=3, random_state=rs).fit(df_without_hour)\n",
    "    print(\"Random: \", rs)\n",
    "    for i in range(3):\n",
    "        print(\"Name:\", i, \"Größe: \", list(kmeans_rs.labels_).count(i))"
   ]
  },
  {
   "cell_type": "code",
   "execution_count": null,
   "id": "4da81301",
   "metadata": {},
   "outputs": [],
   "source": [
    "kmeans_test = cluster.KMeans(n_clusters=3).fit(df_without_hour)\n",
    "metrics.silhouette_score(df_without_hour,kmeans_test.labels_, metric='euclidean', sample_size=25000,random_state=42)"
   ]
  },
  {
   "cell_type": "code",
   "execution_count": 482,
   "id": "062fd511",
   "metadata": {
    "scrolled": false
   },
   "outputs": [
    {
     "name": "stdout",
     "output_type": "stream",
     "text": [
      "__________________________________________________________________________________\n",
      "init\t\tinertia\tsil\thom\tcom\tv-meas\trand\tfowlkes\n",
      "k-means_0\t6124\t0.856\t0.010\t0.007\t0.008\t0.453\t0.489\n",
      "k-means_42\t6124\t0.855\t0.010\t0.007\t0.008\t0.453\t0.489\n",
      "k-means_opti\t6124\t0.856\t0.010\t0.007\t0.008\t0.453\t0.489\n",
      "random   \t6124\t0.856\t0.010\t0.007\t0.008\t0.453\t0.489\n",
      "k-means++\t6124\t0.855\t0.010\t0.007\t0.008\t0.453\t0.489\n",
      "__________________________________________________________________________________\n"
     ]
    }
   ],
   "source": [
    "# Aufrufen der Benchmark mit unserem trainierten kmeans und einer zufälligen Zuweisung (zum Vergleich)\n",
    "# Fügen Sie hier auch Ihren günstigeren random_state von oben ein!\n",
    "\n",
    "print(82 * '_')\n",
    "print('init\\t\\tinertia\\tsil\\thom\\tcom\\tv-meas\\trand\\tfowlkes')\n",
    "\n",
    "# unser kmeans-Modell (zur Sicherheit neu trainieren)\n",
    "kmeans_wh = cluster.KMeans(n_clusters=3, random_state=0).fit(df_without_hour)\n",
    "bench_k_means(kmeans=kmeans_wh, name=\"k-means_0\", data=df_without_hour, labels=df[\"successful\"])\n",
    "\n",
    "# unser kmeans-Modell (random_state 42)\n",
    "kmeans_wh = cluster.KMeans(n_clusters=3, random_state=42).fit(df_without_hour)\n",
    "bench_k_means(kmeans=kmeans_wh, name=\"k-means_42\", data=df_without_hour, labels=df[\"successful\"])\n",
    "\n",
    "# unser kmeans-Modell (10x trainiert; das Modell mit der besten inertia gewinnt)\n",
    "kmeans_wh = cluster.KMeans(n_clusters=3, n_init=10).fit(df_without_hour)\n",
    "bench_k_means(kmeans=kmeans_wh, name=\"k-means_opti\", data=df_without_hour, labels=df[\"successful\"])\n",
    "\n",
    "# zufällige Cluster-Zuordnung erzeugen\n",
    "kmeans_rand_wh = cluster.KMeans(init=\"random\", n_clusters=3, random_state=0).fit(df_without_hour)\n",
    "bench_k_means(kmeans=kmeans_rand_wh, name=\"random\", data=df_without_hour, labels=df[\"successful\"])\n",
    "\n",
    "# Cluster-Zuordnung mit k-means++\n",
    "kmeans_kplus_wh = cluster.KMeans(init=\"k-means++\", n_clusters=3, random_state=0).fit(df_without_hour)\n",
    "bench_k_means(kmeans=kmeans_kplus_wh, name=\"k-means++\", data=df_without_hour, labels=df[\"successful\"])\n",
    "\n",
    "print(82 * '_')"
   ]
  },
  {
   "cell_type": "code",
   "execution_count": 485,
   "id": "1f94c91d",
   "metadata": {},
   "outputs": [],
   "source": [
    "kmeans_wh = KMeans(init=\"k-means++\", n_clusters=3, random_state=0).fit(df_without_hour)\n",
    "clustergroessen_wh = []\n",
    "clustergroessen_wh.append(list(kmeans_wh.labels_).count(0))\n",
    "clustergroessen_wh.append(list(kmeans_wh.labels_).count(1))\n",
    "clustergroessen_wh.append(list(kmeans_wh.labels_).count(2))"
   ]
  },
  {
   "cell_type": "code",
   "execution_count": 486,
   "id": "1aff8978",
   "metadata": {},
   "outputs": [
    {
     "data": {
      "text/plain": [
       "[55659, 150560, 163995]"
      ]
     },
     "execution_count": 486,
     "metadata": {},
     "output_type": "execute_result"
    }
   ],
   "source": [
    "clustergroessen_wh"
   ]
  },
  {
   "cell_type": "code",
   "execution_count": 487,
   "id": "143e724f",
   "metadata": {
    "scrolled": false
   },
   "outputs": [
    {
     "data": {
      "text/html": [
       "<div>\n",
       "<style scoped>\n",
       "    .dataframe tbody tr th:only-of-type {\n",
       "        vertical-align: middle;\n",
       "    }\n",
       "\n",
       "    .dataframe tbody tr th {\n",
       "        vertical-align: top;\n",
       "    }\n",
       "\n",
       "    .dataframe thead th {\n",
       "        text-align: right;\n",
       "    }\n",
       "</style>\n",
       "<table border=\"1\" class=\"dataframe\">\n",
       "  <thead>\n",
       "    <tr style=\"text-align: right;\">\n",
       "      <th></th>\n",
       "      <th>backers</th>\n",
       "      <th>duration</th>\n",
       "      <th>usd_pledged_real_scaled</th>\n",
       "      <th>usd_goal_real_scaled</th>\n",
       "      <th>name_length</th>\n",
       "      <th>cluster</th>\n",
       "    </tr>\n",
       "  </thead>\n",
       "  <tbody>\n",
       "    <tr>\n",
       "      <th>0</th>\n",
       "      <td>0.000000</td>\n",
       "      <td>0.637363</td>\n",
       "      <td>0.000000e+00</td>\n",
       "      <td>0.000009</td>\n",
       "      <td>0.315789</td>\n",
       "      <td>0</td>\n",
       "    </tr>\n",
       "    <tr>\n",
       "      <th>1</th>\n",
       "      <td>0.000068</td>\n",
       "      <td>0.648352</td>\n",
       "      <td>1.190325e-04</td>\n",
       "      <td>0.000180</td>\n",
       "      <td>0.463158</td>\n",
       "      <td>0</td>\n",
       "    </tr>\n",
       "    <tr>\n",
       "      <th>2</th>\n",
       "      <td>0.000014</td>\n",
       "      <td>0.483516</td>\n",
       "      <td>1.081666e-05</td>\n",
       "      <td>0.000270</td>\n",
       "      <td>0.136842</td>\n",
       "      <td>2</td>\n",
       "    </tr>\n",
       "    <tr>\n",
       "      <th>3</th>\n",
       "      <td>0.000005</td>\n",
       "      <td>0.318681</td>\n",
       "      <td>4.916666e-08</td>\n",
       "      <td>0.000030</td>\n",
       "      <td>0.505263</td>\n",
       "      <td>1</td>\n",
       "    </tr>\n",
       "    <tr>\n",
       "      <th>4</th>\n",
       "      <td>0.000064</td>\n",
       "      <td>0.604396</td>\n",
       "      <td>6.308082e-05</td>\n",
       "      <td>0.000117</td>\n",
       "      <td>0.600000</td>\n",
       "      <td>0</td>\n",
       "    </tr>\n",
       "  </tbody>\n",
       "</table>\n",
       "</div>"
      ],
      "text/plain": [
       "    backers  duration  usd_pledged_real_scaled  usd_goal_real_scaled  \\\n",
       "0  0.000000  0.637363             0.000000e+00              0.000009   \n",
       "1  0.000068  0.648352             1.190325e-04              0.000180   \n",
       "2  0.000014  0.483516             1.081666e-05              0.000270   \n",
       "3  0.000005  0.318681             4.916666e-08              0.000030   \n",
       "4  0.000064  0.604396             6.308082e-05              0.000117   \n",
       "\n",
       "   name_length  cluster  \n",
       "0     0.315789        0  \n",
       "1     0.463158        0  \n",
       "2     0.136842        2  \n",
       "3     0.505263        1  \n",
       "4     0.600000        0  "
      ]
     },
     "execution_count": 487,
     "metadata": {},
     "output_type": "execute_result"
    }
   ],
   "source": [
    "df_without_hour_cluster = df_without_hour\n",
    "#df_features_cluster[list(df_features_cluster.columns)] = scaler.inverse_transform(df_features_cluster[list_features])\n",
    "df_without_hour_cluster[\"cluster\"] = kmeans_wh.labels_\n",
    "df_without_hour_cluster.head()"
   ]
  },
  {
   "cell_type": "code",
   "execution_count": 495,
   "id": "f73e7bac",
   "metadata": {},
   "outputs": [
    {
     "data": {
      "text/html": [
       "<div>\n",
       "<style scoped>\n",
       "    .dataframe tbody tr th:only-of-type {\n",
       "        vertical-align: middle;\n",
       "    }\n",
       "\n",
       "    .dataframe tbody tr th {\n",
       "        vertical-align: top;\n",
       "    }\n",
       "\n",
       "    .dataframe thead th {\n",
       "        text-align: right;\n",
       "    }\n",
       "</style>\n",
       "<table border=\"1\" class=\"dataframe\">\n",
       "  <thead>\n",
       "    <tr style=\"text-align: right;\">\n",
       "      <th></th>\n",
       "      <th>backers</th>\n",
       "      <th>duration</th>\n",
       "      <th>usd_pledged_real_scaled</th>\n",
       "      <th>usd_goal_real_scaled</th>\n",
       "      <th>hour</th>\n",
       "      <th>name_length</th>\n",
       "    </tr>\n",
       "    <tr>\n",
       "      <th>cluster</th>\n",
       "      <th></th>\n",
       "      <th></th>\n",
       "      <th></th>\n",
       "      <th></th>\n",
       "      <th></th>\n",
       "      <th></th>\n",
       "    </tr>\n",
       "  </thead>\n",
       "  <tbody>\n",
       "    <tr>\n",
       "      <th>0</th>\n",
       "      <td>0.000365</td>\n",
       "      <td>0.369315</td>\n",
       "      <td>0.000334</td>\n",
       "      <td>0.000257</td>\n",
       "      <td>0.174451</td>\n",
       "      <td>0.355333</td>\n",
       "    </tr>\n",
       "    <tr>\n",
       "      <th>1</th>\n",
       "      <td>0.000562</td>\n",
       "      <td>0.361573</td>\n",
       "      <td>0.000520</td>\n",
       "      <td>0.000279</td>\n",
       "      <td>0.808455</td>\n",
       "      <td>0.356733</td>\n",
       "    </tr>\n",
       "  </tbody>\n",
       "</table>\n",
       "</div>"
      ],
      "text/plain": [
       "          backers  duration  usd_pledged_real_scaled  usd_goal_real_scaled  \\\n",
       "cluster                                                                      \n",
       "0        0.000365  0.369315                 0.000334              0.000257   \n",
       "1        0.000562  0.361573                 0.000520              0.000279   \n",
       "\n",
       "             hour  name_length  \n",
       "cluster                         \n",
       "0        0.174451     0.355333  \n",
       "1        0.808455     0.356733  "
      ]
     },
     "execution_count": 495,
     "metadata": {},
     "output_type": "execute_result"
    }
   ],
   "source": [
    "df_features_cluster.groupby('cluster').mean()"
   ]
  },
  {
   "cell_type": "code",
   "execution_count": 489,
   "id": "9fedd539",
   "metadata": {
    "scrolled": false
   },
   "outputs": [
    {
     "data": {
      "text/html": [
       "<div>\n",
       "<style scoped>\n",
       "    .dataframe tbody tr th:only-of-type {\n",
       "        vertical-align: middle;\n",
       "    }\n",
       "\n",
       "    .dataframe tbody tr th {\n",
       "        vertical-align: top;\n",
       "    }\n",
       "\n",
       "    .dataframe thead th {\n",
       "        text-align: right;\n",
       "    }\n",
       "</style>\n",
       "<table border=\"1\" class=\"dataframe\">\n",
       "  <thead>\n",
       "    <tr style=\"text-align: right;\">\n",
       "      <th></th>\n",
       "      <th>backers</th>\n",
       "      <th>duration</th>\n",
       "      <th>usd_pledged_real_scaled</th>\n",
       "      <th>usd_goal_real_scaled</th>\n",
       "      <th>name_length</th>\n",
       "    </tr>\n",
       "    <tr>\n",
       "      <th>cluster</th>\n",
       "      <th></th>\n",
       "      <th></th>\n",
       "      <th></th>\n",
       "      <th></th>\n",
       "      <th></th>\n",
       "    </tr>\n",
       "  </thead>\n",
       "  <tbody>\n",
       "    <tr>\n",
       "      <th>0</th>\n",
       "      <td>0.000352</td>\n",
       "      <td>0.634721</td>\n",
       "      <td>0.000381</td>\n",
       "      <td>0.000707</td>\n",
       "      <td>0.346972</td>\n",
       "    </tr>\n",
       "    <tr>\n",
       "      <th>1</th>\n",
       "      <td>0.000595</td>\n",
       "      <td>0.321850</td>\n",
       "      <td>0.000589</td>\n",
       "      <td>0.000178</td>\n",
       "      <td>0.511780</td>\n",
       "    </tr>\n",
       "    <tr>\n",
       "      <th>2</th>\n",
       "      <td>0.000436</td>\n",
       "      <td>0.311931</td>\n",
       "      <td>0.000345</td>\n",
       "      <td>0.000209</td>\n",
       "      <td>0.216509</td>\n",
       "    </tr>\n",
       "  </tbody>\n",
       "</table>\n",
       "</div>"
      ],
      "text/plain": [
       "          backers  duration  usd_pledged_real_scaled  usd_goal_real_scaled  \\\n",
       "cluster                                                                      \n",
       "0        0.000352  0.634721                 0.000381              0.000707   \n",
       "1        0.000595  0.321850                 0.000589              0.000178   \n",
       "2        0.000436  0.311931                 0.000345              0.000209   \n",
       "\n",
       "         name_length  \n",
       "cluster               \n",
       "0           0.346972  \n",
       "1           0.511780  \n",
       "2           0.216509  "
      ]
     },
     "execution_count": 489,
     "metadata": {},
     "output_type": "execute_result"
    }
   ],
   "source": [
    "df_without_hour_cluster.groupby('cluster').mean()"
   ]
  },
  {
   "cell_type": "markdown",
   "id": "68f81fe1",
   "metadata": {},
   "source": [
    "Bei der Ausführung des K-Means Algorithmus ohne das Feature hour erhalten wir das beste Ergebnis für 3 Cluster. Auch diese 3 Cluster sind nicht auf unsere gewünschte Zielklasse anwendbar, ob ein Projekt erfolgreich war oder fehlschlug. Die 3 Cluster unterscheiden sich von den vorherigen zwei in der Hinsicht, dass nun auch das die Features name_length und duration sich für die verschiedenen Cluster im Durchschnitt unterscheiden. \n",
    "Bei der Betrachtung des kleinsten Clusters 0 mit insgesamt 55659 Datenpunkten fällt auf, dass dieses die wenigsten Backer hat und der erreichte Betrag geringer ist als der Zielbetrag. Daraus lässt sich schließen, dass in diesem Cluster vermutlich die unerfolgreichsten Projekte enthalten sind. Außerdem"
   ]
  },
  {
   "cell_type": "code",
   "execution_count": 492,
   "id": "54f9bf08",
   "metadata": {
    "scrolled": false
   },
   "outputs": [
    {
     "data": {
      "image/png": "[encoded data removed]",
      "text/plain": [
       "<Figure size 576x576 with 1 Axes>"
      ]
     },
     "metadata": {
      "needs_background": "light"
     },
     "output_type": "display_data"
    }
   ],
   "source": [
    "fig = plt.figure(figsize=(8, 8))\n",
    "sns.scatterplot(data=df_without_hour_cluster, x=\"name_length\", y=\"usd_pledged_real_scaled\", hue=\"cluster\", palette='Set2_r')\n",
    "sns.scatterplot(x=kmeans_wh.cluster_centers_[:,4], y=kmeans_wh.cluster_centers_[:,2], color='blue',marker='*',\n",
    "                label='centroid', s=150)\n",
    "plt.legend(bbox_to_anchor=(1.05, 1), loc=2, borderaxespad=0.)\n",
    "plt.title('Anzeige der unterschiedlichen Cluster')\n",
    "plt.show()"
   ]
  }
 ],
 "metadata": {
  "kernelspec": {
   "display_name": "Python 3 (ipykernel)",
   "language": "python",
   "name": "python3"
  },
  "language_info": {
   "codemirror_mode": {
    "name": "ipython",
    "version": 3
   },
   "file_extension": ".py",
   "mimetype": "text/x-python",
   "name": "python",
   "nbconvert_exporter": "python",
   "pygments_lexer": "ipython3",
   "version": "3.8.12"
  }
 },
 "nbformat": 4,
 "nbformat_minor": 5
}
