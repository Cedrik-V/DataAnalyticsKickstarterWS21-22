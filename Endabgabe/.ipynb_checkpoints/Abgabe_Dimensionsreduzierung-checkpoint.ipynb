{
 "cells": [
  {
   "cell_type": "markdown",
   "metadata": {},
   "source": [
    "# Anforderungen an Projektumsetzung: Dimensionsreduktion"
   ]
  },
  {
   "cell_type": "markdown",
   "metadata": {},
   "source": [
    "1.\tDefinieren Sie für Ihren Datensatz ein oder mehrere Ziele, die Sie mit Hilfe von Dimensionsreduktion der Datenerreichen wollen.\n",
    "\n",
    "\n",
    "2.\tFühren Sie mit dem Algorithmus Ihrer Wahl eine Dimensionsreduktion auf Ihren Daten durch.\n",
    "\n",
    "\n",
    "3.\tSetzen Sie ggf. die Parameter des Algorithmus zur Dimensionsreduktion mit Hilfe einer Pipeline.\n",
    "\n",
    "\n",
    "4.\tBeschreiben Sie Ihre Ergebnisse. Haben Sie Ihr(e) Ziel(e) erreicht?\n"
   ]
  },
  {
   "cell_type": "markdown",
   "metadata": {},
   "source": [
    "# Import/Vorverarbeitung der Daten"
   ]
  },
  {
   "cell_type": "code",
   "execution_count": 26,
   "metadata": {},
   "outputs": [],
   "source": [
    "import pandas as pd\n",
    "import numpy as np\n",
    "import matplotlib.pyplot as plt\n",
    "import os\n",
    "from os.path import dirname\n",
    "import datetime as dt\n",
    "import seaborn as sns\n",
    "import time\n",
    "from sklearn.preprocessing import MinMaxScaler\n",
    "from sklearn.model_selection import train_test_split\n",
    "from sklearn.feature_extraction.text import TfidfVectorizer\n",
    "from sklearn.feature_selection import SelectFromModel\n",
    "from sklearn.svm import LinearSVC\n",
    "from sklearn.pipeline import Pipeline\n",
    "from sklearn.svm import SVC\n",
    "from sklearn.model_selection import GridSearchCV\n",
    "from sklearn.metrics import classification_report, confusion_matrix\n",
    "from sklearn.model_selection import cross_val_predict\n",
    "from xgboost import XGBClassifier\n",
    "from sklearn.neighbors import KNeighborsClassifier\n",
    "from sklearn.ensemble import RandomForestClassifier\n",
    "from sklearn.naive_bayes import GaussianNB\n",
    "from sklearn.feature_selection import VarianceThreshold\n",
    "from sklearn.decomposition import PCA\n",
    "from sklearn.cluster import KMeans\n",
    "\n",
    "notebook_path = os.path.abspath(\"DataAnalyticsKickstarterNotebook_Cedrik.ipynb\")\n",
    "csv_path_features = os.path.join(os.path.dirname(dirname(notebook_path)), \"data/ks-project-edited-klassifikation-features.csv\")\n",
    "csv_path_trueLabels = os.path.join(os.path.dirname(dirname(notebook_path)), \"data/ks-project-edited-klassifikation-target.csv\")"
   ]
  },
  {
   "cell_type": "code",
   "execution_count": null,
   "metadata": {},
   "outputs": [],
   "source": [
    "df_features = pd.read_csv (csv_path_features, low_memory=False)\n",
    "df_target = pd.read_csv (csv_path_trueLabels, low_memory=False)"
   ]
  },
  {
   "cell_type": "code",
   "execution_count": null,
   "metadata": {},
   "outputs": [],
   "source": [
    "df_features.head()"
   ]
  },
  {
   "cell_type": "code",
   "execution_count": null,
   "metadata": {},
   "outputs": [],
   "source": [
    "df_target.head()"
   ]
  },
  {
   "cell_type": "code",
   "execution_count": null,
   "metadata": {},
   "outputs": [],
   "source": [
    "X_train, X_dev, y_train, y_dev = train_test_split(df_features, df_target[\"successful\"], random_state=42)"
   ]
  },
  {
   "cell_type": "code",
   "execution_count": null,
   "metadata": {},
   "outputs": [],
   "source": [
    "# Klassifizierer wählen\n",
    "classifier = XGBClassifier(base_score=0.5, booster='gbtree', colsample_bylevel=1, colsample_bynode=1,\n",
    "                           colsample_bytree=1, enable_categorical=False, gamma=10, gpu_id=-1, importance_type=None,\n",
    "                               interaction_constraints='', learning_rate=0.300000012, max_delta_step=0,\n",
    "                               max_depth=6, min_child_weight=1, monotone_constraints='()', n_estimators=100,\n",
    "                               n_jobs=8, num_parallel_tree=1, predictor='auto',random_state=0, reg_alpha=0, \n",
    "                               reg_lambda=1, scale_pos_weight=1, subsample=1,tree_method='exact', \n",
    "                               use_label_encoder=False, validate_parameters=1, verbosity=None, eval_metric='logloss')v"
   ]
  },
  {
   "cell_type": "markdown",
   "metadata": {},
   "source": [
    "#     Definieren Sie für Ihren Datensatz ein oder mehrere Ziele, die Sie mit Hilfe von Dimensionsreduktion der Datenerreichen wollen"
   ]
  },
  {
   "cell_type": "markdown",
   "metadata": {},
   "source": [
    "Um den Datensatz für den späteren Einsatz zur Klassifikation/Regression zu optimieren, wurde im Folgenden das Potenzial einer Dimensionalitätsreduktion analysiert. Die Zielsetzung hierbei lag auf zwei Bereichen:\n",
    "\n",
    "\n",
    "•\tSteigerung der Trainingseffizienz: Aufgrund der Anzahl der Instanzen (129580) des verwendeten Datensatzes ist das Trainieren der Modelle zur Klassifikation eine ressourcenintensive Operation, insbesondere bei rechenintensiven Algorithmen (z.B SVM). Um diesbezüglich den Ressourcenaufwand zu minimieren kann die Dimensionsreduzierung die aussagekräftigsten Features ermitteln, um somit die Feature Anzahl zu reduzieren.\n",
    "\n",
    "\n",
    "•\tDie Identifizierung der relevantesten Features dient zudem dem Zweck, ein Verständnis für die wichtigsten Features zu erlangen und diese auch in verständlicher Form zu visualisieren.\n"
   ]
  },
  {
   "cell_type": "markdown",
   "metadata": {},
   "source": [
    "# Führen Sie mit dem Algorithmus Ihrer Wahl eine Dimensionsreduktion auf Ihren Daten durch."
   ]
  },
  {
   "cell_type": "markdown",
   "metadata": {},
   "source": [
    "Im folgenden wird die Dimensionsreduktion mit Variance Threshold, PCA und Clustering durchgeführt."
   ]
  },
  {
   "cell_type": "markdown",
   "metadata": {},
   "source": [
    "# Feature-Auswahl mit VarianceThreshold"
   ]
  },
  {
   "cell_type": "code",
   "execution_count": 27,
   "metadata": {},
   "outputs": [],
   "source": [
    "variance_list = [0,0.05,0.10,0.15,0.20]\n",
    "list_deletedFeatures = []\n",
    "list_time = []\n",
    "accuracy_list = []\n",
    "for variance in variance_list:\n",
    "    dim_reduction = VarianceThreshold(threshold = variance)\n",
    "    pipeline = Pipeline([('dim_reduction', dim_reduction),\n",
    "                         ('classifier', classifier)])\n",
    "    start = time.time()\n",
    "    pipeline.fit(X_train, y_train)\n",
    "    done = time.time()\n",
    "    elapsed = done - start\n",
    "    concol = [column for column in X_train.columns \n",
    "             if column not in X_train.columns[dim_reduction.get_support()]]\n",
    "\n",
    "    list_deletedFeatures.append(len(concol))\n",
    "    list_time.append(round(elapsed,2))\n",
    "    accuracy_list.append(round(pipeline.score(X_train, y_train),4))"
   ]
  },
  {
   "cell_type": "code",
   "execution_count": 28,
   "metadata": {},
   "outputs": [
    {
     "name": "stdout",
     "output_type": "stream",
     "text": [
      "Variance Retained\tNumber of Components\tTime\t\tAccuracy\n",
      "1\t\t\t19\t\t\t1.72\t\t0.736\n",
      "0.95\t\t\t7\t\t\t0.91\t\t0.6886\n",
      "0.9\t\t\t3\t\t\t0.61\t\t0.6717\n",
      "0.85\t\t\t1\t\t\t0.37\t\t0.6161\n",
      "0.8\t\t\t1\t\t\t0.35\t\t0.6161\n"
     ]
    }
   ],
   "source": [
    "print('Variance Retained\\tNumber of Components\\tTime\\t\\tAccuracy')\n",
    "for i in range(0,5):\n",
    "    results=[(1 - variance_list[i]),(19 - list_deletedFeatures[i]),list_time[i],accuracy_list[i]]\n",
    "    formatter_result = (\"{}\\t\\t\\t{}\\t\\t\\t{}\\t\\t{}\")\n",
    "    print(formatter_result.format(*results))"
   ]
  },
  {
   "cell_type": "code",
   "execution_count": 30,
   "metadata": {},
   "outputs": [],
   "source": [
    "dim_reduction = VarianceThreshold(threshold = 0.05)\n",
    "pipeline_final = Pipeline([('dim_reduction', dim_reduction),\n",
    "                         ('classifier', classifier)])"
   ]
  },
  {
   "cell_type": "markdown",
   "metadata": {},
   "source": [
    "Erstellung der Pipeline und Vorhersage auf Testdaten"
   ]
  },
  {
   "cell_type": "code",
   "execution_count": 31,
   "metadata": {},
   "outputs": [
    {
     "data": {
      "text/plain": [
       "Pipeline(steps=[('dim_reduction', VarianceThreshold(threshold=0.05)),\n",
       "                ('classifier',\n",
       "                 XGBClassifier(base_score=0.5, booster='gbtree',\n",
       "                               colsample_bylevel=1, colsample_bynode=1,\n",
       "                               colsample_bytree=1, enable_categorical=False,\n",
       "                               eval_metric='logloss', gamma=10, gpu_id=-1,\n",
       "                               importance_type=None, interaction_constraints='',\n",
       "                               learning_rate=0.300000012, max_delta_step=0,\n",
       "                               max_depth=6, min_child_weight=1, missing=nan,\n",
       "                               monotone_constraints='()', n_estimators=100,\n",
       "                               n_jobs=8, num_parallel_tree=1, predictor='auto',\n",
       "                               random_state=0, reg_alpha=0, reg_lambda=1,\n",
       "                               scale_pos_weight=1, subsample=1,\n",
       "                               tree_method='exact', use_label_encoder=False,\n",
       "                               validate_parameters=1, verbosity=None))])"
      ]
     },
     "execution_count": 31,
     "metadata": {},
     "output_type": "execute_result"
    }
   ],
   "source": [
    "pipeline_final.fit(X_train, y_train)"
   ]
  },
  {
   "cell_type": "code",
   "execution_count": 32,
   "metadata": {},
   "outputs": [
    {
     "name": "stdout",
     "output_type": "stream",
     "text": [
      "Classification report for Variance Threshhold dimensionality reduction:\n",
      "              precision    recall  f1-score   support\n",
      "\n",
      "           0       0.66      0.70      0.68     15302\n",
      "           1       0.71      0.68      0.69     17093\n",
      "\n",
      "    accuracy                           0.69     32395\n",
      "   macro avg       0.69      0.69      0.69     32395\n",
      "weighted avg       0.69      0.69      0.69     32395\n",
      "\n",
      "\n"
     ]
    }
   ],
   "source": [
    "# Vorhersagen für die Testdaten machen und berichten\n",
    "predicted = pipeline_final.predict(X_dev)\n",
    "\n",
    "print(f\"Classification report for Variance Threshhold dimensionality reduction:\\n\"\n",
    "      f\"{classification_report(y_dev, predicted)}\\n\")"
   ]
  },
  {
   "cell_type": "markdown",
   "metadata": {},
   "source": [
    "# PCA/Hauptkomponentenanalyse"
   ]
  },
  {
   "cell_type": "code",
   "execution_count": 33,
   "metadata": {},
   "outputs": [],
   "source": [
    "variance_list = [None,0.95,0.90,0.85,0.80]\n",
    "number_components=[]\n",
    "list_time = []\n",
    "accuracy_list = []\n",
    "for variance in variance_list:\n",
    "    dim_reduction = PCA(n_components=variance)\n",
    "    pipeline = Pipeline([('dim_reduction', dim_reduction),\n",
    "                     ('classifier', classifier)])\n",
    "    start = time.time()\n",
    "    pipeline.fit(X_train, y_train)\n",
    "    done = time.time()\n",
    "    elapsed = done - start\n",
    "    \n",
    "    number_components.append(dim_reduction.n_components_)\n",
    "    list_time.append(round(elapsed,2))\n",
    "    accuracy_list.append(round(pipeline.score(X_train, y_train),4))"
   ]
  },
  {
   "cell_type": "code",
   "execution_count": 34,
   "metadata": {},
   "outputs": [
    {
     "name": "stdout",
     "output_type": "stream",
     "text": [
      "Variance Retained\tNumber of Components\tTime\t\tAccuracy\n",
      "None\t\t\t19\t\t\t5.15\t\t0.732\n",
      "0.95\t\t\t14\t\t\t4.09\t\t0.7135\n",
      "0.9\t\t\t12\t\t\t3.73\t\t0.7144\n",
      "0.85\t\t\t10\t\t\t3.36\t\t0.7115\n",
      "0.8\t\t\t9\t\t\t3.23\t\t0.7136\n"
     ]
    }
   ],
   "source": [
    "print('Variance Retained\\tNumber of Components\\tTime\\t\\tAccuracy')\n",
    "for i in range(0,5):\n",
    "    results=[variance_list[i],number_components[i],list_time[i],accuracy_list[i]]\n",
    "    formatter_result = (\"{}\\t\\t\\t{}\\t\\t\\t{}\\t\\t{}\")\n",
    "    print(formatter_result.format(*results))"
   ]
  },
  {
   "cell_type": "markdown",
   "metadata": {},
   "source": [
    "Erstellung der Pipeline und Vorhersage auf Testdaten"
   ]
  },
  {
   "cell_type": "code",
   "execution_count": 35,
   "metadata": {},
   "outputs": [],
   "source": [
    "dim_reduction = PCA(n_components=0.90)\n",
    "pipeline_final = Pipeline([('dim_reduction', dim_reduction),\n",
    "                         ('classifier', classifier)])"
   ]
  },
  {
   "cell_type": "code",
   "execution_count": 36,
   "metadata": {},
   "outputs": [
    {
     "data": {
      "text/plain": [
       "Pipeline(steps=[('dim_reduction', PCA(n_components=0.9)),\n",
       "                ('classifier',\n",
       "                 XGBClassifier(base_score=0.5, booster='gbtree',\n",
       "                               colsample_bylevel=1, colsample_bynode=1,\n",
       "                               colsample_bytree=1, enable_categorical=False,\n",
       "                               eval_metric='logloss', gamma=10, gpu_id=-1,\n",
       "                               importance_type=None, interaction_constraints='',\n",
       "                               learning_rate=0.300000012, max_delta_step=0,\n",
       "                               max_depth=6, min_child_weight=1, missing=nan,\n",
       "                               monotone_constraints='()', n_estimators=100,\n",
       "                               n_jobs=8, num_parallel_tree=1, predictor='auto',\n",
       "                               random_state=0, reg_alpha=0, reg_lambda=1,\n",
       "                               scale_pos_weight=1, subsample=1,\n",
       "                               tree_method='exact', use_label_encoder=False,\n",
       "                               validate_parameters=1, verbosity=None))])"
      ]
     },
     "execution_count": 36,
     "metadata": {},
     "output_type": "execute_result"
    }
   ],
   "source": [
    "pipeline_final.fit(X_train, y_train)"
   ]
  },
  {
   "cell_type": "code",
   "execution_count": 37,
   "metadata": {},
   "outputs": [
    {
     "data": {
      "image/png": "[encoded data removed]",
      "text/plain": [
       "<Figure size 720x432 with 2 Axes>"
      ]
     },
     "metadata": {
      "needs_background": "light"
     },
     "output_type": "display_data"
    }
   ],
   "source": [
    "fig = plt.figure(figsize=(10,6))\n",
    "ax = sns.heatmap(dim_reduction.components_,\n",
    "                 cmap='YlGnBu',\n",
    "                 yticklabels=[\"PCA\"+str(x) for x in range(1,dim_reduction.n_components_+1)],\n",
    "                 xticklabels=list(df_features.columns),\n",
    "                 cbar_kws={\"orientation\": \"vertical\"})\n",
    "ax.set_aspect(\"equal\")"
   ]
  },
  {
   "cell_type": "code",
   "execution_count": 38,
   "metadata": {},
   "outputs": [
    {
     "name": "stdout",
     "output_type": "stream",
     "text": [
      "Classification report for PCA dimensionality reduction:\n",
      "              precision    recall  f1-score   support\n",
      "\n",
      "           0       0.70      0.69      0.69     15302\n",
      "           1       0.73      0.73      0.73     17093\n",
      "\n",
      "    accuracy                           0.71     32395\n",
      "   macro avg       0.71      0.71      0.71     32395\n",
      "weighted avg       0.71      0.71      0.71     32395\n",
      "\n",
      "\n"
     ]
    }
   ],
   "source": [
    "# Vorhersagen für die Testdaten machen und berichten\n",
    "predicted = pipeline_final.predict(X_dev)\n",
    "\n",
    "print(f\"Classification report for PCA dimensionality reduction:\\n\"\n",
    "      f\"{classification_report(y_dev, predicted)}\\n\")"
   ]
  },
  {
   "cell_type": "markdown",
   "metadata": {},
   "source": [
    "# Clustern"
   ]
  },
  {
   "cell_type": "code",
   "execution_count": 39,
   "metadata": {},
   "outputs": [],
   "source": [
    "cluster_list = [2,3,4,5,6,7,8,9,10]\n",
    "list_time = []\n",
    "accuracy_list = []\n",
    "for cluster in cluster_list:\n",
    "    dim_reduction = KMeans(n_clusters=cluster)\n",
    "    pipeline_cluster = Pipeline([('dim_reduction', dim_reduction),\n",
    "                                 ('classifier', classifier)])\n",
    "    start = time.time()\n",
    "    pipeline_cluster.fit(X_train, y_train)\n",
    "    done = time.time()\n",
    "    elapsed = done - start\n",
    "   \n",
    "    list_time.append(round(elapsed,2))\n",
    "    accuracy_list.append(round(pipeline_cluster.score(X_train, y_train),4))"
   ]
  },
  {
   "cell_type": "code",
   "execution_count": 40,
   "metadata": {},
   "outputs": [
    {
     "name": "stdout",
     "output_type": "stream",
     "text": [
      "Number of Clusters\tTime\t\tAccuracy\n",
      "2\t\t\t2.07\t\t0.695\n",
      "3\t\t\t2.35\t\t0.7032\n",
      "4\t\t\t2.39\t\t0.7107\n",
      "5\t\t\t2.5\t\t0.7099\n",
      "6\t\t\t2.66\t\t0.7129\n",
      "7\t\t\t2.81\t\t0.7134\n",
      "8\t\t\t2.85\t\t0.7144\n",
      "9\t\t\t3.23\t\t0.7137\n",
      "10\t\t\t3.43\t\t0.7145\n"
     ]
    }
   ],
   "source": [
    "print('Number of Clusters\\tTime\\t\\tAccuracy')\n",
    "for i in range(0,9):\n",
    "    results=[cluster_list[i],list_time[i],accuracy_list[i]]\n",
    "    formatter_result = (\"{}\\t\\t\\t{}\\t\\t{}\")\n",
    "    print(formatter_result.format(*results))"
   ]
  },
  {
   "cell_type": "markdown",
   "metadata": {},
   "source": [
    "Erstellung der Pipeline und Vorhersage auf Testdaten"
   ]
  },
  {
   "cell_type": "code",
   "execution_count": 41,
   "metadata": {},
   "outputs": [],
   "source": [
    "dim_reduction = KMeans(n_clusters=8)\n",
    "pipeline_final = Pipeline([('dim_reduction', dim_reduction),\n",
    "                           ('classifier', classifier)])"
   ]
  },
  {
   "cell_type": "code",
   "execution_count": 42,
   "metadata": {},
   "outputs": [
    {
     "data": {
      "text/plain": [
       "Pipeline(steps=[('dim_reduction', KMeans()),\n",
       "                ('classifier',\n",
       "                 XGBClassifier(base_score=0.5, booster='gbtree',\n",
       "                               colsample_bylevel=1, colsample_bynode=1,\n",
       "                               colsample_bytree=1, enable_categorical=False,\n",
       "                               eval_metric='logloss', gamma=10, gpu_id=-1,\n",
       "                               importance_type=None, interaction_constraints='',\n",
       "                               learning_rate=0.300000012, max_delta_step=0,\n",
       "                               max_depth=6, min_child_weight=1, missing=nan,\n",
       "                               monotone_constraints='()', n_estimators=100,\n",
       "                               n_jobs=8, num_parallel_tree=1, predictor='auto',\n",
       "                               random_state=0, reg_alpha=0, reg_lambda=1,\n",
       "                               scale_pos_weight=1, subsample=1,\n",
       "                               tree_method='exact', use_label_encoder=False,\n",
       "                               validate_parameters=1, verbosity=None))])"
      ]
     },
     "execution_count": 42,
     "metadata": {},
     "output_type": "execute_result"
    }
   ],
   "source": [
    "pipeline_final.fit(X_train, y_train)"
   ]
  },
  {
   "cell_type": "code",
   "execution_count": 43,
   "metadata": {},
   "outputs": [
    {
     "name": "stdout",
     "output_type": "stream",
     "text": [
      "Classification report for Cluster dimensionality reduction:\n",
      "              precision    recall  f1-score   support\n",
      "\n",
      "           0       0.69      0.70      0.69     15302\n",
      "           1       0.73      0.73      0.73     17093\n",
      "\n",
      "    accuracy                           0.71     32395\n",
      "   macro avg       0.71      0.71      0.71     32395\n",
      "weighted avg       0.71      0.71      0.71     32395\n",
      "\n",
      "\n"
     ]
    }
   ],
   "source": [
    "# Vorhersagen für die Testdaten machen und berichten\n",
    "predicted = pipeline_final.predict(X_dev)\n",
    "\n",
    "print(f\"Classification report for Cluster dimensionality reduction:\\n\"\n",
    "      f\"{classification_report(y_dev, predicted)}\\n\")"
   ]
  },
  {
   "cell_type": "markdown",
   "metadata": {},
   "source": [
    "Das Ergebnis der Dimensionsreduktion kann durchaus als erfolgreich gewertet werden. Im Vergleich zur Threshold-Vorgehensweise werden bei der Hauptkomponentenanalyse mit abnehmender Varianz mehr Features beibehalten. Dies spiegelt sich auch in den Genauigkeitswerten wieder, da hier im Vergleich zum Threshold Vorgehen bei gleicher Varianz eine höhere Genauigkeit erreicht werden kann. \n",
    "Mit einer Varianz von 90% wird aus unserer Sicht ein akzeptabler Kompromiss aus Feature Reduzierung und erreichter Genauigkeit erzielt, da hier insgesamt die Anzahl der Features von 19 auf 12 Hauptkomponenten und die Durchlaufzeit reduziert werden kann. Es ist jedoch zu beachten, dass die Genauigkeit von 73.16% auf 71.44% abnimmt. \n",
    "Der Abstrich bezüglich der Genauigkeit lohnt sich spezifisch für unser Modell jedoch nicht, da der verwendete Algorithmus XGBoost eine relativ kurze Trainingszeit aufweist und der Zeitaufwand zum Trainieren des Klasifizierers bei unserem Modell nicht als kritisch zu bewerten ist.\n",
    "Bei der Verwendung einer SVM als Klassifizierer könnte dieser Kompromiss jedoch als sinnvoll erachtet werden, da hier bei großen Datenmengen immense Trainingszeiten benötigt werden. \n"
   ]
  }
 ],
 "metadata": {
  "kernelspec": {
   "display_name": "Python 3 (ipykernel)",
   "language": "python",
   "name": "python3"
  },
  "language_info": {
   "codemirror_mode": {
    "name": "ipython",
    "version": 3
   },
   "file_extension": ".py",
   "mimetype": "text/x-python",
   "name": "python",
   "nbconvert_exporter": "python",
   "pygments_lexer": "ipython3",
   "version": "3.8.12"
  }
 },
 "nbformat": 4,
 "nbformat_minor": 4
}
