{
 "cells": [
  {
   "cell_type": "markdown",
   "metadata": {},
   "source": [
    "# Anforderungen"
   ]
  },
  {
   "cell_type": "markdown",
   "metadata": {},
   "source": [
    "Anforderungen:\n",
    "1.\tEntscheiden Sie, ob Sie mit der linearen Regression modellieren, prädizieren, oder beides erreichen wollen.\n",
    "\n",
    "\n",
    "2.\tFühren Sie die entsprechende(n) Analyse(n) methodisch sauber durch und berichten Sie entsprechend der eingeführten Kriterien und Evaluationsmaße das Ergebnis.\n",
    "\n",
    "\n",
    "3.\tWenn Sie sowohl modellieren als auch prädizieren wollen, führen Sie die Modellierung nur auf den Trainingsdaten durch, um zu vermeiden, dass Sie ungewollt aus Ihren Testdaten lernen. Trainieren Sie das Prädiktionsmodell im zweiten Schritt aufgrund der Erkenntnisse der Modellierung.\n"
   ]
  },
  {
   "cell_type": "markdown",
   "metadata": {},
   "source": [
    "# Import/Vorverarbeitung der Daten"
   ]
  },
  {
   "cell_type": "code",
   "execution_count": 98,
   "metadata": {},
   "outputs": [],
   "source": [
    "import pandas as pd\n",
    "import numpy as np\n",
    "import matplotlib.pyplot as plt\n",
    "import math\n",
    "import os\n",
    "from os.path import dirname\n",
    "import seaborn as sns\n",
    "import time\n",
    "from sklearn.preprocessing import MinMaxScaler\n",
    "from sklearn.model_selection import train_test_split\n",
    "from sklearn.feature_extraction.text import TfidfVectorizer\n",
    "from sklearn.feature_selection import SelectFromModel\n",
    "from sklearn.svm import LinearSVC\n",
    "from sklearn.pipeline import Pipeline\n",
    "from sklearn.model_selection import GridSearchCV\n",
    "from sklearn.model_selection import cross_val_predict\n",
    "import statsmodels.api as sm\n",
    "from statsmodels.formula.api import ols\n",
    "from statsmodels.stats.anova import anova_lm\n",
    "from sklearn import linear_model, svm\n",
    "from sklearn.tree import DecisionTreeRegressor\n",
    "from sklearn.ensemble import RandomForestRegressor\n",
    "from xgboost import XGBRegressor\n",
    "from sklearn.metrics import mean_squared_error, mean_absolute_error\n",
    "\n",
    "\n",
    "notebook_path = os.path.abspath(\"DataAnalyticsKickstarterNotebook_Cedrik.ipynb\")\n",
    "csv_path_features = os.path.join(os.path.dirname(dirname(notebook_path)), \"data/ks-project-edited-regression-features.csv\")\n",
    "csv_path_trueLabels = os.path.join(os.path.dirname(dirname(notebook_path)), \"data/ks-project-edited-regression-target.csv\")\n",
    "\n"
   ]
  },
  {
   "cell_type": "code",
   "execution_count": 77,
   "metadata": {},
   "outputs": [],
   "source": [
    "df_features = pd.read_csv (csv_path_features, low_memory=False)\n",
    "df_target = pd.read_csv (csv_path_trueLabels, low_memory=False)"
   ]
  },
  {
   "cell_type": "code",
   "execution_count": 78,
   "metadata": {},
   "outputs": [
    {
     "data": {
      "text/html": [
       "<div>\n",
       "<style scoped>\n",
       "    .dataframe tbody tr th:only-of-type {\n",
       "        vertical-align: middle;\n",
       "    }\n",
       "\n",
       "    .dataframe tbody tr th {\n",
       "        vertical-align: top;\n",
       "    }\n",
       "\n",
       "    .dataframe thead th {\n",
       "        text-align: right;\n",
       "    }\n",
       "</style>\n",
       "<table border=\"1\" class=\"dataframe\">\n",
       "  <thead>\n",
       "    <tr style=\"text-align: right;\">\n",
       "      <th></th>\n",
       "      <th>usd_goal_real</th>\n",
       "      <th>duration</th>\n",
       "      <th>name_length</th>\n",
       "      <th>creator_type</th>\n",
       "      <th>Art</th>\n",
       "      <th>Comics</th>\n",
       "      <th>Crafts</th>\n",
       "      <th>Dance</th>\n",
       "      <th>Design</th>\n",
       "      <th>Fashion</th>\n",
       "      <th>Film &amp; Video</th>\n",
       "      <th>Food</th>\n",
       "      <th>Games</th>\n",
       "      <th>Journalism</th>\n",
       "      <th>Music</th>\n",
       "      <th>Photography</th>\n",
       "      <th>Publishing</th>\n",
       "      <th>Technology</th>\n",
       "      <th>Theater</th>\n",
       "    </tr>\n",
       "  </thead>\n",
       "  <tbody>\n",
       "    <tr>\n",
       "      <th>0</th>\n",
       "      <td>3000.0</td>\n",
       "      <td>20</td>\n",
       "      <td>22</td>\n",
       "      <td>1</td>\n",
       "      <td>0</td>\n",
       "      <td>0</td>\n",
       "      <td>0</td>\n",
       "      <td>0</td>\n",
       "      <td>1</td>\n",
       "      <td>0</td>\n",
       "      <td>0</td>\n",
       "      <td>0</td>\n",
       "      <td>0</td>\n",
       "      <td>0</td>\n",
       "      <td>0</td>\n",
       "      <td>0</td>\n",
       "      <td>0</td>\n",
       "      <td>0</td>\n",
       "      <td>0</td>\n",
       "    </tr>\n",
       "    <tr>\n",
       "      <th>1</th>\n",
       "      <td>5000.0</td>\n",
       "      <td>15</td>\n",
       "      <td>33</td>\n",
       "      <td>1</td>\n",
       "      <td>1</td>\n",
       "      <td>0</td>\n",
       "      <td>0</td>\n",
       "      <td>0</td>\n",
       "      <td>0</td>\n",
       "      <td>0</td>\n",
       "      <td>0</td>\n",
       "      <td>0</td>\n",
       "      <td>0</td>\n",
       "      <td>0</td>\n",
       "      <td>0</td>\n",
       "      <td>0</td>\n",
       "      <td>0</td>\n",
       "      <td>0</td>\n",
       "      <td>0</td>\n",
       "    </tr>\n",
       "    <tr>\n",
       "      <th>2</th>\n",
       "      <td>500.0</td>\n",
       "      <td>14</td>\n",
       "      <td>36</td>\n",
       "      <td>1</td>\n",
       "      <td>0</td>\n",
       "      <td>0</td>\n",
       "      <td>0</td>\n",
       "      <td>0</td>\n",
       "      <td>0</td>\n",
       "      <td>1</td>\n",
       "      <td>0</td>\n",
       "      <td>0</td>\n",
       "      <td>0</td>\n",
       "      <td>0</td>\n",
       "      <td>0</td>\n",
       "      <td>0</td>\n",
       "      <td>0</td>\n",
       "      <td>0</td>\n",
       "      <td>0</td>\n",
       "    </tr>\n",
       "    <tr>\n",
       "      <th>3</th>\n",
       "      <td>50.0</td>\n",
       "      <td>8</td>\n",
       "      <td>16</td>\n",
       "      <td>1</td>\n",
       "      <td>0</td>\n",
       "      <td>0</td>\n",
       "      <td>0</td>\n",
       "      <td>0</td>\n",
       "      <td>0</td>\n",
       "      <td>0</td>\n",
       "      <td>0</td>\n",
       "      <td>0</td>\n",
       "      <td>0</td>\n",
       "      <td>0</td>\n",
       "      <td>0</td>\n",
       "      <td>0</td>\n",
       "      <td>1</td>\n",
       "      <td>0</td>\n",
       "      <td>0</td>\n",
       "    </tr>\n",
       "    <tr>\n",
       "      <th>4</th>\n",
       "      <td>2000.0</td>\n",
       "      <td>81</td>\n",
       "      <td>46</td>\n",
       "      <td>1</td>\n",
       "      <td>0</td>\n",
       "      <td>0</td>\n",
       "      <td>0</td>\n",
       "      <td>0</td>\n",
       "      <td>0</td>\n",
       "      <td>0</td>\n",
       "      <td>0</td>\n",
       "      <td>0</td>\n",
       "      <td>0</td>\n",
       "      <td>0</td>\n",
       "      <td>1</td>\n",
       "      <td>0</td>\n",
       "      <td>0</td>\n",
       "      <td>0</td>\n",
       "      <td>0</td>\n",
       "    </tr>\n",
       "  </tbody>\n",
       "</table>\n",
       "</div>"
      ],
      "text/plain": [
       "   usd_goal_real  duration  name_length  creator_type  Art  Comics  Crafts  \\\n",
       "0         3000.0        20           22             1    0       0       0   \n",
       "1         5000.0        15           33             1    1       0       0   \n",
       "2          500.0        14           36             1    0       0       0   \n",
       "3           50.0         8           16             1    0       0       0   \n",
       "4         2000.0        81           46             1    0       0       0   \n",
       "\n",
       "   Dance  Design  Fashion  Film & Video  Food  Games  Journalism  Music  \\\n",
       "0      0       1        0             0     0      0           0      0   \n",
       "1      0       0        0             0     0      0           0      0   \n",
       "2      0       0        1             0     0      0           0      0   \n",
       "3      0       0        0             0     0      0           0      0   \n",
       "4      0       0        0             0     0      0           0      1   \n",
       "\n",
       "   Photography  Publishing  Technology  Theater  \n",
       "0            0           0           0        0  \n",
       "1            0           0           0        0  \n",
       "2            0           0           0        0  \n",
       "3            0           1           0        0  \n",
       "4            0           0           0        0  "
      ]
     },
     "execution_count": 78,
     "metadata": {},
     "output_type": "execute_result"
    }
   ],
   "source": [
    "df_features.head()"
   ]
  },
  {
   "cell_type": "code",
   "execution_count": 79,
   "metadata": {
    "scrolled": true
   },
   "outputs": [
    {
     "data": {
      "text/html": [
       "<div>\n",
       "<style scoped>\n",
       "    .dataframe tbody tr th:only-of-type {\n",
       "        vertical-align: middle;\n",
       "    }\n",
       "\n",
       "    .dataframe tbody tr th {\n",
       "        vertical-align: top;\n",
       "    }\n",
       "\n",
       "    .dataframe thead th {\n",
       "        text-align: right;\n",
       "    }\n",
       "</style>\n",
       "<table border=\"1\" class=\"dataframe\">\n",
       "  <thead>\n",
       "    <tr style=\"text-align: right;\">\n",
       "      <th></th>\n",
       "      <th>usd_pledged_real</th>\n",
       "    </tr>\n",
       "  </thead>\n",
       "  <tbody>\n",
       "    <tr>\n",
       "      <th>0</th>\n",
       "      <td>3222.00</td>\n",
       "    </tr>\n",
       "    <tr>\n",
       "      <th>1</th>\n",
       "      <td>11486.00</td>\n",
       "    </tr>\n",
       "    <tr>\n",
       "      <th>2</th>\n",
       "      <td>16167.71</td>\n",
       "    </tr>\n",
       "    <tr>\n",
       "      <th>3</th>\n",
       "      <td>207.66</td>\n",
       "    </tr>\n",
       "    <tr>\n",
       "      <th>4</th>\n",
       "      <td>8647.79</td>\n",
       "    </tr>\n",
       "  </tbody>\n",
       "</table>\n",
       "</div>"
      ],
      "text/plain": [
       "   usd_pledged_real\n",
       "0           3222.00\n",
       "1          11486.00\n",
       "2          16167.71\n",
       "3            207.66\n",
       "4           8647.79"
      ]
     },
     "execution_count": 79,
     "metadata": {},
     "output_type": "execute_result"
    }
   ],
   "source": [
    "df_target.head()"
   ]
  },
  {
   "cell_type": "code",
   "execution_count": 80,
   "metadata": {},
   "outputs": [
    {
     "data": {
      "text/html": [
       "<div>\n",
       "<style scoped>\n",
       "    .dataframe tbody tr th:only-of-type {\n",
       "        vertical-align: middle;\n",
       "    }\n",
       "\n",
       "    .dataframe tbody tr th {\n",
       "        vertical-align: top;\n",
       "    }\n",
       "\n",
       "    .dataframe thead th {\n",
       "        text-align: right;\n",
       "    }\n",
       "</style>\n",
       "<table border=\"1\" class=\"dataframe\">\n",
       "  <thead>\n",
       "    <tr style=\"text-align: right;\">\n",
       "      <th></th>\n",
       "      <th>usd_goal_real</th>\n",
       "      <th>duration</th>\n",
       "      <th>name_length</th>\n",
       "      <th>usd_pledged_real</th>\n",
       "      <th>creator_type</th>\n",
       "      <th>Art</th>\n",
       "      <th>Comics</th>\n",
       "      <th>Crafts</th>\n",
       "      <th>Dance</th>\n",
       "      <th>Design</th>\n",
       "      <th>Fashion</th>\n",
       "      <th>Film &amp; Video</th>\n",
       "      <th>Food</th>\n",
       "      <th>Games</th>\n",
       "      <th>Journalism</th>\n",
       "      <th>Music</th>\n",
       "      <th>Photography</th>\n",
       "      <th>Publishing</th>\n",
       "      <th>Technology</th>\n",
       "      <th>Theater</th>\n",
       "    </tr>\n",
       "  </thead>\n",
       "  <tbody>\n",
       "    <tr>\n",
       "      <th>0</th>\n",
       "      <td>3000.0</td>\n",
       "      <td>20</td>\n",
       "      <td>22</td>\n",
       "      <td>3222.00</td>\n",
       "      <td>1</td>\n",
       "      <td>0</td>\n",
       "      <td>0</td>\n",
       "      <td>0</td>\n",
       "      <td>0</td>\n",
       "      <td>1</td>\n",
       "      <td>0</td>\n",
       "      <td>0</td>\n",
       "      <td>0</td>\n",
       "      <td>0</td>\n",
       "      <td>0</td>\n",
       "      <td>0</td>\n",
       "      <td>0</td>\n",
       "      <td>0</td>\n",
       "      <td>0</td>\n",
       "      <td>0</td>\n",
       "    </tr>\n",
       "    <tr>\n",
       "      <th>1</th>\n",
       "      <td>5000.0</td>\n",
       "      <td>15</td>\n",
       "      <td>33</td>\n",
       "      <td>11486.00</td>\n",
       "      <td>1</td>\n",
       "      <td>1</td>\n",
       "      <td>0</td>\n",
       "      <td>0</td>\n",
       "      <td>0</td>\n",
       "      <td>0</td>\n",
       "      <td>0</td>\n",
       "      <td>0</td>\n",
       "      <td>0</td>\n",
       "      <td>0</td>\n",
       "      <td>0</td>\n",
       "      <td>0</td>\n",
       "      <td>0</td>\n",
       "      <td>0</td>\n",
       "      <td>0</td>\n",
       "      <td>0</td>\n",
       "    </tr>\n",
       "    <tr>\n",
       "      <th>2</th>\n",
       "      <td>500.0</td>\n",
       "      <td>14</td>\n",
       "      <td>36</td>\n",
       "      <td>16167.71</td>\n",
       "      <td>1</td>\n",
       "      <td>0</td>\n",
       "      <td>0</td>\n",
       "      <td>0</td>\n",
       "      <td>0</td>\n",
       "      <td>0</td>\n",
       "      <td>1</td>\n",
       "      <td>0</td>\n",
       "      <td>0</td>\n",
       "      <td>0</td>\n",
       "      <td>0</td>\n",
       "      <td>0</td>\n",
       "      <td>0</td>\n",
       "      <td>0</td>\n",
       "      <td>0</td>\n",
       "      <td>0</td>\n",
       "    </tr>\n",
       "    <tr>\n",
       "      <th>3</th>\n",
       "      <td>50.0</td>\n",
       "      <td>8</td>\n",
       "      <td>16</td>\n",
       "      <td>207.66</td>\n",
       "      <td>1</td>\n",
       "      <td>0</td>\n",
       "      <td>0</td>\n",
       "      <td>0</td>\n",
       "      <td>0</td>\n",
       "      <td>0</td>\n",
       "      <td>0</td>\n",
       "      <td>0</td>\n",
       "      <td>0</td>\n",
       "      <td>0</td>\n",
       "      <td>0</td>\n",
       "      <td>0</td>\n",
       "      <td>0</td>\n",
       "      <td>1</td>\n",
       "      <td>0</td>\n",
       "      <td>0</td>\n",
       "    </tr>\n",
       "    <tr>\n",
       "      <th>4</th>\n",
       "      <td>2000.0</td>\n",
       "      <td>81</td>\n",
       "      <td>46</td>\n",
       "      <td>8647.79</td>\n",
       "      <td>1</td>\n",
       "      <td>0</td>\n",
       "      <td>0</td>\n",
       "      <td>0</td>\n",
       "      <td>0</td>\n",
       "      <td>0</td>\n",
       "      <td>0</td>\n",
       "      <td>0</td>\n",
       "      <td>0</td>\n",
       "      <td>0</td>\n",
       "      <td>0</td>\n",
       "      <td>1</td>\n",
       "      <td>0</td>\n",
       "      <td>0</td>\n",
       "      <td>0</td>\n",
       "      <td>0</td>\n",
       "    </tr>\n",
       "  </tbody>\n",
       "</table>\n",
       "</div>"
      ],
      "text/plain": [
       "   usd_goal_real  duration  name_length  usd_pledged_real  creator_type  Art  \\\n",
       "0         3000.0        20           22           3222.00             1    0   \n",
       "1         5000.0        15           33          11486.00             1    1   \n",
       "2          500.0        14           36          16167.71             1    0   \n",
       "3           50.0         8           16            207.66             1    0   \n",
       "4         2000.0        81           46           8647.79             1    0   \n",
       "\n",
       "   Comics  Crafts  Dance  Design  Fashion  Film & Video  Food  Games  \\\n",
       "0       0       0      0       1        0             0     0      0   \n",
       "1       0       0      0       0        0             0     0      0   \n",
       "2       0       0      0       0        1             0     0      0   \n",
       "3       0       0      0       0        0             0     0      0   \n",
       "4       0       0      0       0        0             0     0      0   \n",
       "\n",
       "   Journalism  Music  Photography  Publishing  Technology  Theater  \n",
       "0           0      0            0           0           0        0  \n",
       "1           0      0            0           0           0        0  \n",
       "2           0      0            0           0           0        0  \n",
       "3           0      0            0           1           0        0  \n",
       "4           0      1            0           0           0        0  "
      ]
     },
     "execution_count": 80,
     "metadata": {},
     "output_type": "execute_result"
    }
   ],
   "source": [
    "df_merged = df_features.copy()\n",
    "df_merged.is_copy = False\n",
    "df_merged.insert(3, 'usd_pledged_real', df_target)\n",
    "df_merged.head()"
   ]
  },
  {
   "cell_type": "code",
   "execution_count": 81,
   "metadata": {
    "scrolled": true
   },
   "outputs": [
    {
     "name": "stdout",
     "output_type": "stream",
     "text": [
      "         usd_goal_real      duration   name_length usd_pledged_real\n",
      "count     129580.00000  129580.00000  129580.00000     129580.00000\n",
      "mean       50975.36696      32.93627      34.55207      10409.71634\n",
      "std      1342563.25624      11.90823      15.62217      77752.77396\n",
      "min            0.01000       1.00000       1.00000          0.00000\n",
      "0.5%          18.18740       6.89500       5.00000          0.00000\n",
      "50%         5000.00000      30.00000      34.00000       1195.00000\n",
      "99%       332884.52570      60.00000      60.00000     136832.43350\n",
      "max    151395869.92000      92.00000      96.00000    8596474.58000\n"
     ]
    }
   ],
   "source": [
    "# Outlier ermitteln für alle features, die nicht One-Hot encodiert wurden\n",
    "print(df_merged.iloc[:,:4].describe(percentiles=[.005,.99]).apply(lambda s: s.apply('{0:.5f}'.format)))"
   ]
  },
  {
   "cell_type": "code",
   "execution_count": 82,
   "metadata": {},
   "outputs": [],
   "source": [
    "# Mit Pledged kleiner <= 200000 0,160 R-squared, aber deutlich höheren mean squared error wert\n",
    "df_outlier = df_merged[(df_merged[\"usd_goal_real\"]<=100000) & (df_merged[\"usd_goal_real\"] >= 100)\n",
    "                        &(df_merged[\"duration\"] <= 60) & (df_merged[\"name_length\"] <= 60)\n",
    "                        & (df_merged[\"usd_pledged_real\"] <= 200000)]\n",
    "df_outlier.is_copy = False"
   ]
  },
  {
   "cell_type": "markdown",
   "metadata": {},
   "source": [
    "Im folgenden werden für den Trainingsdatensatz nur noch Werte benutzt, für die gilt 100 <= usd_goal_real <= 150000 (Schätzwert basierend auf 0.5 bzw. 99. Perzentil) duration<= 60 (basierend auf 99. Perzentil) name_length <= 60 (basierend auf 99. Perzentil)\n"
   ]
  },
  {
   "cell_type": "code",
   "execution_count": 83,
   "metadata": {
    "scrolled": true
   },
   "outputs": [
    {
     "name": "stdout",
     "output_type": "stream",
     "text": [
      "      usd_goal_real      duration   name_length usd_pledged_real\n",
      "count  122423.00000  122423.00000  122423.00000     122423.00000\n",
      "mean    10991.26788      32.54763      34.50500       6633.37529\n",
      "std     16760.02915      11.29926      15.51320      16166.16011\n",
      "min       100.00000       1.00000       1.00000          0.00000\n",
      "0.5%      100.00000       7.00000       5.00000          0.00000\n",
      "50%      5000.00000      30.00000      34.00000       1286.00000\n",
      "99%     90000.00000      60.00000      60.00000      86086.04320\n",
      "max    100000.00000      60.00000      60.00000     199906.00000\n"
     ]
    }
   ],
   "source": [
    "#Ca. 6000 Einträge wurden entfernt\n",
    "print(df_outlier.iloc[:,:4].describe(percentiles=[.005,.99]).apply(lambda s: s.apply('{0:.5f}'.format)))"
   ]
  },
  {
   "cell_type": "markdown",
   "metadata": {},
   "source": [
    "# Anforderung 1: Entscheiden Sie, ob Sie mit der linearen Regression modellieren, prädizieren, oder beides erreichen wollen."
   ]
  },
  {
   "cell_type": "markdown",
   "metadata": {},
   "source": [
    "Zielsetzung ist es, mit dem Regressionsmodell das feature \"usd_pledged_real\" vorherzusagen, damit Creator demenstsprechedn ihren Zielbetrag festlegen können, um ein erfolgreiches Projekt zu gestalten."
   ]
  },
  {
   "cell_type": "code",
   "execution_count": 84,
   "metadata": {},
   "outputs": [],
   "source": [
    "df_outlier_target = df_outlier[\"usd_pledged_real\"]\n",
    "df_outlier  = df_outlier.drop(columns=[\"usd_pledged_real\"])"
   ]
  },
  {
   "cell_type": "markdown",
   "metadata": {},
   "source": [
    "# Trainieren der Regressionsmodelle"
   ]
  },
  {
   "cell_type": "markdown",
   "metadata": {},
   "source": [
    "Um den Einfluss der Outlier im Datensatz auf die Regressionsmodelle darzustellen, werden im Folgenden ein Modell mit Outlierwerte und ein Modell ohne Outlierwerte erstellt."
   ]
  },
  {
   "cell_type": "code",
   "execution_count": 85,
   "metadata": {},
   "outputs": [],
   "source": [
    "df_outlier = sm.add_constant(df_outlier)\n",
    "df_features = sm.add_constant(df_features)\n",
    "\n",
    "#Erstellen der Train/Test Splits mit Datensatz mit Outlier/ ohne Outlier\n",
    "X_train_outlier, X_test_outlier, y_train_outlier, y_test_outlier = train_test_split(df_outlier, df_outlier_target, random_state=42)\n",
    "X_train, X_test, y_train, y_test = train_test_split(df_features, df_target, random_state=42)"
   ]
  },
  {
   "cell_type": "code",
   "execution_count": 86,
   "metadata": {},
   "outputs": [],
   "source": [
    "#Trainieren der Modelle mit Outlier /ohne Outlier\n",
    "model = sm.OLS(y_train,X_train).fit()\n",
    "model_outlier = sm.OLS(y_train_outlier,X_train_outlier).fit()"
   ]
  },
  {
   "cell_type": "markdown",
   "metadata": {},
   "source": [
    "# Regressionsmodell mit Outlier"
   ]
  },
  {
   "cell_type": "code",
   "execution_count": 87,
   "metadata": {},
   "outputs": [
    {
     "name": "stdout",
     "output_type": "stream",
     "text": [
      "                            OLS Regression Results                            \n",
      "==============================================================================\n",
      "Dep. Variable:       usd_pledged_real   R-squared:                       0.021\n",
      "Model:                            OLS   Adj. R-squared:                  0.021\n",
      "Method:                 Least Squares   F-statistic:                     118.1\n",
      "Date:                Thu, 13 Jan 2022   Prob (F-statistic):               0.00\n",
      "Time:                        21:37:52   Log-Likelihood:            -1.2338e+06\n",
      "No. Observations:               97185   AIC:                         2.468e+06\n",
      "Df Residuals:                   97166   BIC:                         2.468e+06\n",
      "Df Model:                          18                                         \n",
      "Covariance Type:            nonrobust                                         \n",
      "=================================================================================\n",
      "                    coef    std err          t      P>|t|      [0.025      0.975]\n",
      "---------------------------------------------------------------------------------\n",
      "const          -401.7233    908.192     -0.442      0.658   -2181.769    1378.322\n",
      "usd_goal_real     0.0002      0.000      1.278      0.201      -0.000       0.001\n",
      "duration         95.9744     21.325      4.501      0.000      54.178     137.771\n",
      "name_length     207.4186     16.549     12.534      0.000     174.983     239.854\n",
      "creator_type    561.6242    441.501      1.272      0.203    -303.712    1426.961\n",
      "Art           -6231.6851    797.006     -7.819      0.000   -7793.808   -4669.562\n",
      "Comics         2744.0537   1787.997      1.535      0.125    -760.400    6248.507\n",
      "Crafts        -8186.6967   1367.039     -5.989      0.000   -1.09e+04   -5507.317\n",
      "Dance         -5648.4831   1476.448     -3.826      0.000   -8542.303   -2754.663\n",
      "Design         -116.8334   1472.214     -0.079      0.937   -3002.356    2768.690\n",
      "Fashion          73.3089   1195.086      0.061      0.951   -2269.046    2415.664\n",
      "Film & Video   1264.7385    686.481      1.842      0.065     -80.756    2610.234\n",
      "Food          -4112.5692    854.215     -4.814      0.000   -5786.821   -2438.317\n",
      "Games          1.217e+04   1169.316     10.409      0.000    9879.504    1.45e+04\n",
      "Journalism    -6077.4195   1325.327     -4.586      0.000   -8675.046   -3479.793\n",
      "Music         -5470.9631    673.128     -8.128      0.000   -6790.286   -4151.640\n",
      "Photography   -4250.1144   1107.347     -3.838      0.000   -6420.502   -2079.727\n",
      "Publishing    -3824.3770    814.191     -4.697      0.000   -5420.183   -2228.571\n",
      "Technology     3.229e+04    857.552     37.658      0.000    3.06e+04     3.4e+04\n",
      "Theater       -5029.8237   1201.023     -4.188      0.000   -7383.816   -2675.832\n",
      "==============================================================================\n",
      "Omnibus:                   297548.827   Durbin-Watson:                   2.004\n",
      "Prob(Omnibus):                  0.000   Jarque-Bera (JB):      45883357136.050\n",
      "Skew:                          46.344   Prob(JB):                         0.00\n",
      "Kurtosis:                    3367.875   Cond. No.                     1.25e+21\n",
      "==============================================================================\n",
      "\n",
      "Notes:\n",
      "[1] Standard Errors assume that the covariance matrix of the errors is correctly specified.\n",
      "[2] The smallest eigenvalue is 1.33e-25. This might indicate that there are\n",
      "strong multicollinearity problems or that the design matrix is singular.\n"
     ]
    }
   ],
   "source": [
    "print(model.summary())"
   ]
  },
  {
   "cell_type": "markdown",
   "metadata": {},
   "source": [
    "# Regressionsmodell ohne Outlier"
   ]
  },
  {
   "cell_type": "code",
   "execution_count": 88,
   "metadata": {},
   "outputs": [
    {
     "name": "stdout",
     "output_type": "stream",
     "text": [
      "                            OLS Regression Results                            \n",
      "==============================================================================\n",
      "Dep. Variable:       usd_pledged_real   R-squared:                       0.179\n",
      "Model:                            OLS   Adj. R-squared:                  0.179\n",
      "Method:                 Least Squares   F-statistic:                     1115.\n",
      "Date:                Thu, 13 Jan 2022   Prob (F-statistic):               0.00\n",
      "Time:                        21:37:54   Log-Likelihood:            -1.0111e+06\n",
      "No. Observations:               91817   AIC:                         2.022e+06\n",
      "Df Residuals:                   91798   BIC:                         2.022e+06\n",
      "Df Model:                          18                                         \n",
      "Covariance Type:            nonrobust                                         \n",
      "=================================================================================\n",
      "                    coef    std err          t      P>|t|      [0.025      0.975]\n",
      "---------------------------------------------------------------------------------\n",
      "const           365.5597    179.321      2.039      0.041      14.092     717.028\n",
      "usd_goal_real     0.3444      0.003    112.469      0.000       0.338       0.350\n",
      "duration        -36.2004      4.329     -8.363      0.000     -44.685     -27.716\n",
      "name_length      97.9144      3.189     30.707      0.000      91.665     104.164\n",
      "creator_type    926.2412     85.186     10.873      0.000     759.277    1093.205\n",
      "Art           -2019.6910    153.445    -13.162      0.000   -2320.441   -1718.941\n",
      "Comics         5635.1025    335.579     16.792      0.000    4977.371    6292.834\n",
      "Crafts        -3401.2552    260.269    -13.068      0.000   -3911.379   -2891.132\n",
      "Dance          -781.3887    276.484     -2.826      0.005   -1323.295    -239.483\n",
      "Design        -1040.0688    285.623     -3.641      0.000   -1599.887    -480.251\n",
      "Fashion        1281.6977    225.386      5.687      0.000     839.944    1723.451\n",
      "Film & Video    957.0285    132.541      7.221      0.000     697.249    1216.808\n",
      "Food          -3390.1322    166.489    -20.363      0.000   -3716.448   -3063.816\n",
      "Games          1931.3966    227.708      8.482      0.000    1485.091    2377.702\n",
      "Journalism    -3107.3236    254.315    -12.218      0.000   -3605.779   -2608.868\n",
      "Music          -585.5393    127.411     -4.596      0.000    -835.264    -335.815\n",
      "Photography   -1126.7997    207.095     -5.441      0.000   -1532.704    -720.895\n",
      "Publishing      397.8739    153.434      2.593      0.010      97.145     698.603\n",
      "Technology     6557.9803    173.037     37.899      0.000    6218.829    6897.131\n",
      "Theater        -943.3213    226.544     -4.164      0.000   -1387.345    -499.298\n",
      "==============================================================================\n",
      "Omnibus:                    85339.192   Durbin-Watson:                   2.004\n",
      "Prob(Omnibus):                  0.000   Jarque-Bera (JB):          5060727.434\n",
      "Skew:                           4.387   Prob(JB):                         0.00\n",
      "Kurtosis:                      38.296   Cond. No.                     4.45e+19\n",
      "==============================================================================\n",
      "\n",
      "Notes:\n",
      "[1] Standard Errors assume that the covariance matrix of the errors is correctly specified.\n",
      "[2] The smallest eigenvalue is 1.85e-26. This might indicate that there are\n",
      "strong multicollinearity problems or that the design matrix is singular.\n"
     ]
    }
   ],
   "source": [
    "print(model_outlier.summary())"
   ]
  },
  {
   "cell_type": "markdown",
   "metadata": {},
   "source": [
    "Auffällig beim Vergleich der Modelle ist nicht nur der R-squared Wert, der sich unterscheidet, sondern zudem die Relevanz der einzelnen Features innerhalb des Modells. Das Entfernen der Outlier hat zu zwei komplett unterschieldichen Regressionsmodellen geführt. Dies wird deutlich an den unterschiedlichen Werten der Koeffizienten, wobei sich bei dem Feature Publishing das Vorzeichen verändert hat) bei der Entfernung dfer Outlier verändert haben (z.B Publishing,)"
   ]
  },
  {
   "cell_type": "markdown",
   "metadata": {},
   "source": [
    "# Anforderung 3: Vergleich der Regressionsmodelle mit weiteren Algorithmen"
   ]
  },
  {
   "cell_type": "markdown",
   "metadata": {},
   "source": [
    "# Vergleich der Regressionsmodelle mit weiteren Algorithmen¶"
   ]
  },
  {
   "cell_type": "markdown",
   "metadata": {},
   "source": [
    "Im folgenden wurde die verschiedene Regressionsmodellen zunächst auf den Trainingsdaten trainiert und anschließend auf den Testdaten evaluiert. Hierzu wurden die Metriken root_mean_squared_error, mean_squared_error und mean_absolute_error verwendet, um die verschiedenen Regressionsmodelle untereinander zu vergleichen. "
   ]
  },
  {
   "cell_type": "code",
   "execution_count": 89,
   "metadata": {},
   "outputs": [],
   "source": [
    "def getMetrics (name, model, X_train, y_train, X_test, y_test):\n",
    "    model.fit(X_train, y_train)\n",
    "    predicted = model.predict(X_test)\n",
    "    expected = y_test\n",
    "    \n",
    "    mse = mean_squared_error(expected, predicted)\n",
    "    rmse = math.sqrt(mean_squared_error(expected, predicted))\n",
    "    mae = mean_absolute_error(expected, predicted)\n",
    "    results = [name ,mse, rmse, mae]\n",
    "    formatter_result = (\"{:9s}\\t{:.3f}\\t{:.3f}\\t{:.3f}\")\n",
    "    print(formatter_result.format(*results))"
   ]
  },
  {
   "cell_type": "code",
   "execution_count": 96,
   "metadata": {},
   "outputs": [],
   "source": [
    "clf_Linear = linear_model.LinearRegression()\n",
    "clf_Linear_outlier = linear_model.LinearRegression()\n",
    "svr = svm.SVR()\n",
    "dtreg = DecisionTreeRegressor()\n",
    "rfreg = RandomForestRegressor()\n",
    "xgboost = XGBRegressor()"
   ]
  },
  {
   "cell_type": "code",
   "execution_count": 99,
   "metadata": {},
   "outputs": [
    {
     "name": "stdout",
     "output_type": "stream",
     "text": [
      "______________________________________________________________\n",
      "Model\t\tMSE\t\tRMSE\t\tMAE\n",
      "LR       \t4955885099.575\t70398.048\t13799.037\n",
      "LR ohne Outlier\t212493871.515\t14577.170\t7243.852\n",
      "SVR      \t277611883.530\t16661.689\t6241.588\n",
      "Decision Tree\t323345718.005\t17981.816\t6661.690\n",
      "Random Forest\t201011728.662\t14177.861\t5816.660\n",
      "XGBoost  \t167546290.214\t12943.967\t5483.523\n",
      "______________________________________________________________\n"
     ]
    }
   ],
   "source": [
    "print(62 * '_')\n",
    "print('Model\\t\\tMSE\\t\\tRMSE\\t\\tMAE')\n",
    "getMetrics(\"LR\", clf_Linear, X_train, y_train, X_test,y_test)\n",
    "getMetrics(\"LR ohne Outlier\", clf_Linear_outlier, X_train_outlier,y_train_outlier,X_test_outlier,y_test_outlier)\n",
    "getMetrics(\"SVR\", svr, X_train_outlier,y_train_outlier,X_test_outlier,y_test_outlier)\n",
    "getMetrics(\"Decision Tree\", dtreg, X_train_outlier,y_train_outlier,X_test_outlier,y_test_outlier)\n",
    "getMetrics(\"Random Forest\", rfreg, X_train_outlier,y_train_outlier,X_test_outlier,y_test_outlier)\n",
    "getMetrics(\"XGBoost\", xgboost, X_train_outlier,y_train_outlier,X_test_outlier,y_test_outlier)\n",
    "print(62 * '_')"
   ]
  },
  {
   "cell_type": "markdown",
   "metadata": {},
   "source": [
    "Der Vergleich der verschiedenen Modelle ergibt, dass das bereits in der Klassifikation bewährte XGBoost Modell ebenso bei der Regression die besten Ergebnisse liefert. Nichtsdestotrotz ist die Qualität der Vorhersagen nicht ausreichend, um diese auf echte Projekte anzuwenden, da die Abweichung zu den tatsächlichen Werten zu groß ist. Deutlich wird dies an dem absoluten Fehler (MAE), welcher bei dem besten Modell XGBoost 5483 beträgt, wobei im Vergleich dazu der durchschnittliche Zielwert(usd_goal_real) eines Projekts auf Kickstarter bei ca. 6600 liegt. Dementsprechend sind die Vorhersagen der Regressionsmodelle nicht aussagekräftig."
   ]
  }
 ],
 "metadata": {
  "kernelspec": {
   "display_name": "Python 3 (ipykernel)",
   "language": "python",
   "name": "python3"
  },
  "language_info": {
   "codemirror_mode": {
    "name": "ipython",
    "version": 3
   },
   "file_extension": ".py",
   "mimetype": "text/x-python",
   "name": "python",
   "nbconvert_exporter": "python",
   "pygments_lexer": "ipython3",
   "version": "3.8.12"
  }
 },
 "nbformat": 4,
 "nbformat_minor": 4
}
