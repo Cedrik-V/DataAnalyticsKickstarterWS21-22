{
 "cells": [
  {
   "cell_type": "markdown",
   "metadata": {},
   "source": [
    "# Kickstarter Projects Datensatz"
   ]
  },
  {
   "cell_type": "markdown",
   "metadata": {},
   "source": [
    "## Datensatz einlesen mit Pandas"
   ]
  },
  {
   "cell_type": "code",
   "execution_count": 56,
   "metadata": {},
   "outputs": [],
   "source": [
    "import pandas as pd\n",
    "import numpy as np\n",
    "import matplotlib.pyplot as plt\n",
    "import os\n",
    "import datetime as dt\n",
    "\n",
    "notebook_path = os.path.abspath(\"DataAnalyticsKickstarterNotebook.ipynb\")\n",
    "csv_path = os.path.join(os.path.dirname(notebook_path), \"data/ks-projects-201801.csv\")"
   ]
  },
  {
   "cell_type": "code",
   "execution_count": 57,
   "metadata": {
    "scrolled": true
   },
   "outputs": [
    {
     "data": {
      "text/html": [
       "<div>\n",
       "<style scoped>\n",
       "    .dataframe tbody tr th:only-of-type {\n",
       "        vertical-align: middle;\n",
       "    }\n",
       "\n",
       "    .dataframe tbody tr th {\n",
       "        vertical-align: top;\n",
       "    }\n",
       "\n",
       "    .dataframe thead th {\n",
       "        text-align: right;\n",
       "    }\n",
       "</style>\n",
       "<table border=\"1\" class=\"dataframe\">\n",
       "  <thead>\n",
       "    <tr style=\"text-align: right;\">\n",
       "      <th></th>\n",
       "      <th>name</th>\n",
       "      <th>category</th>\n",
       "      <th>main_category</th>\n",
       "      <th>currency</th>\n",
       "      <th>deadline</th>\n",
       "      <th>goal</th>\n",
       "      <th>launched</th>\n",
       "      <th>pledged</th>\n",
       "      <th>state</th>\n",
       "      <th>backers</th>\n",
       "      <th>country</th>\n",
       "      <th>usd pledged</th>\n",
       "      <th>usd_pledged_real</th>\n",
       "      <th>usd_goal_real</th>\n",
       "    </tr>\n",
       "    <tr>\n",
       "      <th>ID</th>\n",
       "      <th></th>\n",
       "      <th></th>\n",
       "      <th></th>\n",
       "      <th></th>\n",
       "      <th></th>\n",
       "      <th></th>\n",
       "      <th></th>\n",
       "      <th></th>\n",
       "      <th></th>\n",
       "      <th></th>\n",
       "      <th></th>\n",
       "      <th></th>\n",
       "      <th></th>\n",
       "      <th></th>\n",
       "    </tr>\n",
       "  </thead>\n",
       "  <tbody>\n",
       "    <tr>\n",
       "      <th>1000002330</th>\n",
       "      <td>The Songs of Adelaide &amp; Abullah</td>\n",
       "      <td>Poetry</td>\n",
       "      <td>Publishing</td>\n",
       "      <td>GBP</td>\n",
       "      <td>2015-10-09</td>\n",
       "      <td>1000.0</td>\n",
       "      <td>2015-08-11 12:12:28</td>\n",
       "      <td>0.0</td>\n",
       "      <td>failed</td>\n",
       "      <td>0</td>\n",
       "      <td>GB</td>\n",
       "      <td>0.0</td>\n",
       "      <td>0.0</td>\n",
       "      <td>1533.95</td>\n",
       "    </tr>\n",
       "    <tr>\n",
       "      <th>1000003930</th>\n",
       "      <td>Greeting From Earth: ZGAC Arts Capsule For ET</td>\n",
       "      <td>Narrative Film</td>\n",
       "      <td>Film &amp; Video</td>\n",
       "      <td>USD</td>\n",
       "      <td>2017-11-01</td>\n",
       "      <td>30000.0</td>\n",
       "      <td>2017-09-02 04:43:57</td>\n",
       "      <td>2421.0</td>\n",
       "      <td>failed</td>\n",
       "      <td>15</td>\n",
       "      <td>US</td>\n",
       "      <td>100.0</td>\n",
       "      <td>2421.0</td>\n",
       "      <td>30000.00</td>\n",
       "    </tr>\n",
       "    <tr>\n",
       "      <th>1000004038</th>\n",
       "      <td>Where is Hank?</td>\n",
       "      <td>Narrative Film</td>\n",
       "      <td>Film &amp; Video</td>\n",
       "      <td>USD</td>\n",
       "      <td>2013-02-26</td>\n",
       "      <td>45000.0</td>\n",
       "      <td>2013-01-12 00:20:50</td>\n",
       "      <td>220.0</td>\n",
       "      <td>failed</td>\n",
       "      <td>3</td>\n",
       "      <td>US</td>\n",
       "      <td>220.0</td>\n",
       "      <td>220.0</td>\n",
       "      <td>45000.00</td>\n",
       "    </tr>\n",
       "    <tr>\n",
       "      <th>1000007540</th>\n",
       "      <td>ToshiCapital Rekordz Needs Help to Complete Album</td>\n",
       "      <td>Music</td>\n",
       "      <td>Music</td>\n",
       "      <td>USD</td>\n",
       "      <td>2012-04-16</td>\n",
       "      <td>5000.0</td>\n",
       "      <td>2012-03-17 03:24:11</td>\n",
       "      <td>1.0</td>\n",
       "      <td>failed</td>\n",
       "      <td>1</td>\n",
       "      <td>US</td>\n",
       "      <td>1.0</td>\n",
       "      <td>1.0</td>\n",
       "      <td>5000.00</td>\n",
       "    </tr>\n",
       "    <tr>\n",
       "      <th>1000011046</th>\n",
       "      <td>Community Film Project: The Art of Neighborhoo...</td>\n",
       "      <td>Film &amp; Video</td>\n",
       "      <td>Film &amp; Video</td>\n",
       "      <td>USD</td>\n",
       "      <td>2015-08-29</td>\n",
       "      <td>19500.0</td>\n",
       "      <td>2015-07-04 08:35:03</td>\n",
       "      <td>1283.0</td>\n",
       "      <td>canceled</td>\n",
       "      <td>14</td>\n",
       "      <td>US</td>\n",
       "      <td>1283.0</td>\n",
       "      <td>1283.0</td>\n",
       "      <td>19500.00</td>\n",
       "    </tr>\n",
       "  </tbody>\n",
       "</table>\n",
       "</div>"
      ],
      "text/plain": [
       "                                                         name        category  \\\n",
       "ID                                                                              \n",
       "1000002330                    The Songs of Adelaide & Abullah          Poetry   \n",
       "1000003930      Greeting From Earth: ZGAC Arts Capsule For ET  Narrative Film   \n",
       "1000004038                                     Where is Hank?  Narrative Film   \n",
       "1000007540  ToshiCapital Rekordz Needs Help to Complete Album           Music   \n",
       "1000011046  Community Film Project: The Art of Neighborhoo...    Film & Video   \n",
       "\n",
       "           main_category currency    deadline     goal             launched  \\\n",
       "ID                                                                            \n",
       "1000002330    Publishing      GBP  2015-10-09   1000.0  2015-08-11 12:12:28   \n",
       "1000003930  Film & Video      USD  2017-11-01  30000.0  2017-09-02 04:43:57   \n",
       "1000004038  Film & Video      USD  2013-02-26  45000.0  2013-01-12 00:20:50   \n",
       "1000007540         Music      USD  2012-04-16   5000.0  2012-03-17 03:24:11   \n",
       "1000011046  Film & Video      USD  2015-08-29  19500.0  2015-07-04 08:35:03   \n",
       "\n",
       "            pledged     state  backers country  usd pledged  usd_pledged_real  \\\n",
       "ID                                                                              \n",
       "1000002330      0.0    failed        0      GB          0.0               0.0   \n",
       "1000003930   2421.0    failed       15      US        100.0            2421.0   \n",
       "1000004038    220.0    failed        3      US        220.0             220.0   \n",
       "1000007540      1.0    failed        1      US          1.0               1.0   \n",
       "1000011046   1283.0  canceled       14      US       1283.0            1283.0   \n",
       "\n",
       "            usd_goal_real  \n",
       "ID                         \n",
       "1000002330        1533.95  \n",
       "1000003930       30000.00  \n",
       "1000004038       45000.00  \n",
       "1000007540        5000.00  \n",
       "1000011046       19500.00  "
      ]
     },
     "execution_count": 57,
     "metadata": {},
     "output_type": "execute_result"
    }
   ],
   "source": [
    "df = pd.read_csv (csv_path, low_memory=False)\n",
    "df.set_index('ID', inplace = True)\n",
    "df.head()"
   ]
  },
  {
   "cell_type": "markdown",
   "metadata": {},
   "source": [
    "## Datensatz analysieren"
   ]
  },
  {
   "cell_type": "code",
   "execution_count": 58,
   "metadata": {},
   "outputs": [
    {
     "data": {
      "image/png": "[encoded data removed]",
      "text/plain": [
       "<Figure size 432x288 with 1 Axes>"
      ]
     },
     "metadata": {
      "needs_background": "light"
     },
     "output_type": "display_data"
    }
   ],
   "source": [
    "df['main_category'].nunique()\n",
    "## df['main_category'].hist(figsize=(20,10))\n",
    "df['main_category'].value_counts().plot(kind='bar')\n",
    "plt.title(\"Verteilung der Projekte in den Hauptkategorien\", fontweight=\"bold\", fontsize=12, pad=20)\n",
    "plt.xlabel('Hauptkategorien', fontweight=\"bold\", labelpad=20)\n",
    "plt.ylabel(\"Anzahl der Projekte\", fontweight=\"bold\", labelpad=20)\n",
    "plt.show()"
   ]
  },
  {
   "cell_type": "code",
   "execution_count": 59,
   "metadata": {
    "scrolled": true
   },
   "outputs": [
    {
     "data": {
      "image/png": "[encoded data removed]",
      "text/plain": [
       "<Figure size 432x288 with 1 Axes>"
      ]
     },
     "metadata": {
      "needs_background": "light"
     },
     "output_type": "display_data"
    }
   ],
   "source": [
    "df['country'].nunique()\n",
    "\n",
    "df['country'].value_counts().plot(kind='bar')\n",
    "plt.title(\"Länder in denen Projekte gestartet wurden\", fontweight=\"bold\", fontsize=12, pad=20)\n",
    "plt.xlabel('Länder', fontweight=\"bold\", labelpad=20)\n",
    "plt.ylabel(\"Anzahl der Projekte\", fontweight=\"bold\", labelpad=20)\n",
    "plt.show()"
   ]
  },
  {
   "cell_type": "code",
   "execution_count": 60,
   "metadata": {
    "scrolled": false
   },
   "outputs": [
    {
     "data": {
      "image/png": "[encoded data removed]",
      "text/plain": [
       "<Figure size 432x288 with 1 Axes>"
      ]
     },
     "metadata": {
      "needs_background": "light"
     },
     "output_type": "display_data"
    }
   ],
   "source": [
    "df['state'].nunique()\n",
    "\n",
    "df['state'].value_counts().plot(kind='bar')\n",
    "plt.title(\"Erfolg oder Misserfolg der Projekte\", fontweight=\"bold\", fontsize=12, pad=20)\n",
    "plt.xlabel('Erfolg oder Misserfolg', fontweight=\"bold\", labelpad=20)\n",
    "plt.ylabel(\"Anzahl der Projekte\", fontweight=\"bold\", labelpad=20)\n",
    "plt.show()"
   ]
  },
  {
   "cell_type": "code",
   "execution_count": 61,
   "metadata": {
    "scrolled": false
   },
   "outputs": [
    {
     "data": {
      "text/plain": [
       "Film & Video    63585\n",
       "Music           51918\n",
       "Publishing      39874\n",
       "Games           35231\n",
       "Technology      32569\n",
       "Design          30070\n",
       "Art             28153\n",
       "Food            24602\n",
       "Fashion         22816\n",
       "Theater         10913\n",
       "Comics          10819\n",
       "Photography     10779\n",
       "Crafts           8809\n",
       "Journalism       4755\n",
       "Dance            3768\n",
       "Name: main_category, dtype: int64"
      ]
     },
     "execution_count": 61,
     "metadata": {},
     "output_type": "execute_result"
    }
   ],
   "source": [
    "df['main_category'].value_counts()"
   ]
  },
  {
   "cell_type": "markdown",
   "metadata": {},
   "source": [
    "# Zeitstrahl wie viele Projekte über die Jahre gestartet wurden"
   ]
  },
  {
   "cell_type": "code",
   "execution_count": 62,
   "metadata": {
    "scrolled": true
   },
   "outputs": [
    {
     "data": {
      "text/plain": [
       "[<matplotlib.lines.Line2D at 0x230648eafd0>]"
      ]
     },
     "execution_count": 62,
     "metadata": {},
     "output_type": "execute_result"
    },
    {
     "data": {
      "image/png": "[encoded data removed]",
      "text/plain": [
       "<Figure size 432x288 with 1 Axes>"
      ]
     },
     "metadata": {
      "needs_background": "light"
     },
     "output_type": "display_data"
    }
   ],
   "source": [
    "# Get all launch years\n",
    "df['launched'] = pd.to_datetime(df['launched'])\n",
    "launchYears = df['launched'].dt.year.unique()\n",
    "launchYears = np.sort(launchYears) \n",
    "launchYears = np.delete(launchYears, [0,10])\n",
    "launchesPerYearArray = []\n",
    "\n",
    "for year in launchYears:\n",
    "    \n",
    "    launchedProjects = df[df['launched'].dt.year == year]\n",
    "    numberOflaunchedProjects = launchedProjects.shape[0]\n",
    "    launchesPerYearArray.append(numberOflaunchedProjects)\n",
    "\n",
    "launchesPerYearNpArray = np.array(launchesPerYearArray)\n",
    "plt.plot(launchYears, launchesPerYearNpArray) \n",
    "\n",
    "\n"
   ]
  },
  {
   "cell_type": "markdown",
   "metadata": {},
   "source": [
    "## Anforderungen an Projektumsetzung: NumPy und pandas\n",
    "Falls die Anforderungen auf den eigenen Projektdatensatz nicht anwendbar sind, gibt es folgende Möglichkeiten:\n",
    "\n",
    "Datensatz um passende Daten erweitern entweder manuell, per Anspielen aus weiterer Datenquelle oder zur Not per zufälliger Datengenerierung/-simulation\n",
    "Datensatz außerhalb des Projekts wählen und Anforderungen daran umsetzen\n",
    "\n",
    "### Anforderungen:\n",
    "\n",
    "    1. Erstellen Sie NumPy-Arrays mit (Teil-)Daten aus Ihrem Projekt - es sollten verschiedene Datentypen (Ganzzahl, Kommazahl, String, Boolean, etc.) vorhanden sein\n",
    "    2. Filtern Sie ein NumPy-Array basierend auf mindestens 2 Bedingungen auf mindestens 2 Arrays/Spalten\n",
    "    3. Berechnen Sie mind. 2 Statistiken auf mind. 2 Arrays\n",
    "    4. Laden Sie eine Datei von der Festplatte oder einer URL als pandas-DataFrame\n",
    "    5. Fügen Sie mindestens eine neue Spalte hinzu, die aus mindestens einer anderen Spalte berechnet wurde\n",
    "    6. Ändern Sie Reihenfolge und Benennung der Spalten\n",
    "    7. Löschen Sie mindestens eine Spalte\n",
    "    8. Verwenden Sie mindestens eine Funktion aus dem str-Accessor\n",
    "    9. Speichern Sie Ihr pandas DataFrame in eine Datei"
   ]
  },
  {
   "cell_type": "markdown",
   "metadata": {},
   "source": [
    "### Anforderung 1"
   ]
  },
  {
   "cell_type": "code",
   "execution_count": 63,
   "metadata": {},
   "outputs": [
    {
     "name": "stdout",
     "output_type": "stream",
     "text": [
      "<class 'pandas.core.frame.DataFrame'>\n",
      "Int64Index: 378661 entries, 1000002330 to 999988282\n",
      "Data columns (total 14 columns):\n",
      " #   Column            Non-Null Count   Dtype         \n",
      "---  ------            --------------   -----         \n",
      " 0   name              378657 non-null  object        \n",
      " 1   category          378661 non-null  object        \n",
      " 2   main_category     378661 non-null  object        \n",
      " 3   currency          378661 non-null  object        \n",
      " 4   deadline          378661 non-null  object        \n",
      " 5   goal              378661 non-null  float64       \n",
      " 6   launched          378661 non-null  datetime64[ns]\n",
      " 7   pledged           378661 non-null  float64       \n",
      " 8   state             378661 non-null  object        \n",
      " 9   backers           378661 non-null  int64         \n",
      " 10  country           378661 non-null  object        \n",
      " 11  usd pledged       374864 non-null  float64       \n",
      " 12  usd_pledged_real  378661 non-null  float64       \n",
      " 13  usd_goal_real     378661 non-null  float64       \n",
      "dtypes: datetime64[ns](1), float64(5), int64(1), object(7)\n",
      "memory usage: 43.3+ MB\n"
     ]
    }
   ],
   "source": [
    "# Ermittlung der verschiedenen Datentypen der Spalten\n",
    "df.info()"
   ]
  },
  {
   "cell_type": "code",
   "execution_count": 64,
   "metadata": {},
   "outputs": [
    {
     "name": "stdout",
     "output_type": "stream",
     "text": [
      "<class 'numpy.ndarray'>\n"
     ]
    }
   ],
   "source": [
    "# Umwandlung des Dataframes in ein NumPy-Array\n",
    "df_numpyArray = df.to_numpy()\n",
    "print(type(df_numpyArray))"
   ]
  },
  {
   "cell_type": "code",
   "execution_count": 169,
   "metadata": {},
   "outputs": [
    {
     "data": {
      "text/plain": [
       "array(['2015-08-11T12:12:28.000000', '2017-09-02T04:43:57.000000',\n",
       "       '2013-01-12T00:20:50.000000', ..., '2010-07-01T19:40:30.000000',\n",
       "       '2016-01-13T18:13:53.000000', '2011-07-19T09:07:47.000000'],\n",
       "      dtype='datetime64[us]')"
      ]
     },
     "execution_count": 169,
     "metadata": {},
     "output_type": "execute_result"
    }
   ],
   "source": [
    "# Erstellen von NumPy-Arrays aus Teildaten mit verschiedenen Datentypen\n",
    "names = df_numpyArray[:,0]\n",
    "main_categories = df_numpyArray[:,2]\n",
    "launchDates = df_numpyArray[:,6].astype(np.datetime64)\n",
    "states = df_numpyArray[:,8]\n",
    "backers = df_numpyArray[:,9]\n",
    "pledged = df_numpyArray[:,12].astype(np.float64)\n",
    "goals = df_numpyArray[:,13].astype(np.float64)\n",
    "launchDates"
   ]
  },
  {
   "cell_type": "markdown",
   "metadata": {},
   "source": [
    "### Anforderung 2"
   ]
  },
  {
   "cell_type": "code",
   "execution_count": 66,
   "metadata": {},
   "outputs": [
    {
     "name": "stdout",
     "output_type": "stream",
     "text": [
      "Anzahl der erfolgreichen Kickstarter Projekte: 133956\n",
      "------------------------------------------------------------\n",
      "NumPy-Array mit den erfolgreichen Kickstarter Projekten:\n",
      "['Restaurants' 'Food' 'Indie Rock' ... \"Children's Books\"\n",
      " 'Classical Music' 'Documentary']\n"
     ]
    }
   ],
   "source": [
    "# Filtern der Kickstarter Projekte nach erfolgreichen Projekten\n",
    "filt_successful = states == 'successful'\n",
    "filtStates_names = names[filt_successful]\n",
    "print(f'Anzahl der erfolgreichen Kickstarter Projekte: {filtStates_names.size}')\n",
    "print('------------------------------------------------------------')\n",
    "print('NumPy-Array mit den erfolgreichen Kickstarter Projekten:')\n",
    "print(filtStates_names)"
   ]
  },
  {
   "cell_type": "code",
   "execution_count": 67,
   "metadata": {
    "scrolled": true
   },
   "outputs": [
    {
     "name": "stdout",
     "output_type": "stream",
     "text": [
      "Anzahl der gestarteten Kickstarter Projekte im Jahr 2017: 52200\n",
      "------------------------------------------------------------\n",
      "NumPy-Array mit den gestarteten Kickstarter Projekten im Jahr 2017:\n",
      "['Narrative Film' 'Tabletop Games' 'Childrenswear' ... 'Tabletop Games'\n",
      " 'Narrative Film' 'Small Batch']\n"
     ]
    }
   ],
   "source": [
    "# Filtern der Kickstarter Projekte nach dem Startdatum\n",
    "filt_launchYear = (launchDates.astype('datetime64[Y]').astype(int) + 1970) == 2017\n",
    "filtLaunch_names = names[filt_launchYear]\n",
    "print(f'Anzahl der gestarteten Kickstarter Projekte im Jahr 2017: {filtLaunch_names.size}')\n",
    "print('------------------------------------------------------------')\n",
    "print('NumPy-Array mit den gestarteten Kickstarter Projekten im Jahr 2017:')\n",
    "print(filtLaunch_names)"
   ]
  },
  {
   "cell_type": "markdown",
   "metadata": {},
   "source": [
    "### Anfoderung 3"
   ]
  },
  {
   "cell_type": "code",
   "execution_count": 164,
   "metadata": {},
   "outputs": [
    {
     "name": "stdout",
     "output_type": "stream",
     "text": [
      "Für das Projekt Pebble Time - Awesome Smartwatch, No Compromises wurden insgesamt 20338986.27 $ investiert.\n"
     ]
    }
   ],
   "source": [
    "# Ermitteln des höchsten Betrags, \n",
    "# der für ein Kickstarter Projekt investiert wurde\n",
    "\n",
    "print(f'Für das Projekt {names[np.argmax(pledged)]} wurden insgesamt {pledged[np.argmax(pledged)]} $ investiert.')"
   ]
  },
  {
   "cell_type": "code",
   "execution_count": 69,
   "metadata": {},
   "outputs": [
    {
     "data": {
      "text/plain": [
       "6157.978427459307"
      ]
     },
     "execution_count": 69,
     "metadata": {},
     "output_type": "execute_result"
    }
   ],
   "source": [
    "# Ermitteln des Zielbetrags, welcher durchschnittlich für ein Projekt\n",
    "# in der Kategorie Film und Video angegeben wird\n",
    "\n",
    "np.average(pledged[main_categories == 'Film & Video'])"
   ]
  },
  {
   "cell_type": "markdown",
   "metadata": {},
   "source": [
    "### Anforderung 4"
   ]
  },
  {
   "cell_type": "markdown",
   "metadata": {},
   "source": [
    "Eine Datei wurde bereits in Zelle 4 von der Festplatte in ein pandas-DataFrame geladen"
   ]
  },
  {
   "cell_type": "markdown",
   "metadata": {},
   "source": [
    "### Anforderung 5"
   ]
  },
  {
   "cell_type": "code",
   "execution_count": 70,
   "metadata": {
    "scrolled": true
   },
   "outputs": [
    {
     "data": {
      "text/html": [
       "<div>\n",
       "<style scoped>\n",
       "    .dataframe tbody tr th:only-of-type {\n",
       "        vertical-align: middle;\n",
       "    }\n",
       "\n",
       "    .dataframe tbody tr th {\n",
       "        vertical-align: top;\n",
       "    }\n",
       "\n",
       "    .dataframe thead th {\n",
       "        text-align: right;\n",
       "    }\n",
       "</style>\n",
       "<table border=\"1\" class=\"dataframe\">\n",
       "  <thead>\n",
       "    <tr style=\"text-align: right;\">\n",
       "      <th></th>\n",
       "      <th>name</th>\n",
       "      <th>category</th>\n",
       "      <th>main_category</th>\n",
       "      <th>currency</th>\n",
       "      <th>deadline</th>\n",
       "      <th>goal</th>\n",
       "      <th>launched</th>\n",
       "      <th>pledged</th>\n",
       "      <th>state</th>\n",
       "      <th>backers</th>\n",
       "      <th>country</th>\n",
       "      <th>usd pledged</th>\n",
       "      <th>usd_pledged_real</th>\n",
       "      <th>usd_goal_real</th>\n",
       "      <th>duration</th>\n",
       "    </tr>\n",
       "    <tr>\n",
       "      <th>ID</th>\n",
       "      <th></th>\n",
       "      <th></th>\n",
       "      <th></th>\n",
       "      <th></th>\n",
       "      <th></th>\n",
       "      <th></th>\n",
       "      <th></th>\n",
       "      <th></th>\n",
       "      <th></th>\n",
       "      <th></th>\n",
       "      <th></th>\n",
       "      <th></th>\n",
       "      <th></th>\n",
       "      <th></th>\n",
       "      <th></th>\n",
       "    </tr>\n",
       "  </thead>\n",
       "  <tbody>\n",
       "    <tr>\n",
       "      <th>1000002330</th>\n",
       "      <td>The Songs of Adelaide &amp; Abullah</td>\n",
       "      <td>Poetry</td>\n",
       "      <td>Publishing</td>\n",
       "      <td>GBP</td>\n",
       "      <td>2015-10-09</td>\n",
       "      <td>1000.0</td>\n",
       "      <td>2015-08-11 12:12:28</td>\n",
       "      <td>0.0</td>\n",
       "      <td>failed</td>\n",
       "      <td>0</td>\n",
       "      <td>GB</td>\n",
       "      <td>0.0</td>\n",
       "      <td>0.0</td>\n",
       "      <td>1533.95</td>\n",
       "      <td>59 days</td>\n",
       "    </tr>\n",
       "    <tr>\n",
       "      <th>1000003930</th>\n",
       "      <td>Greeting From Earth: ZGAC Arts Capsule For ET</td>\n",
       "      <td>Narrative Film</td>\n",
       "      <td>Film &amp; Video</td>\n",
       "      <td>USD</td>\n",
       "      <td>2017-11-01</td>\n",
       "      <td>30000.0</td>\n",
       "      <td>2017-09-02 04:43:57</td>\n",
       "      <td>2421.0</td>\n",
       "      <td>failed</td>\n",
       "      <td>15</td>\n",
       "      <td>US</td>\n",
       "      <td>100.0</td>\n",
       "      <td>2421.0</td>\n",
       "      <td>30000.00</td>\n",
       "      <td>60 days</td>\n",
       "    </tr>\n",
       "    <tr>\n",
       "      <th>1000004038</th>\n",
       "      <td>Where is Hank?</td>\n",
       "      <td>Narrative Film</td>\n",
       "      <td>Film &amp; Video</td>\n",
       "      <td>USD</td>\n",
       "      <td>2013-02-26</td>\n",
       "      <td>45000.0</td>\n",
       "      <td>2013-01-12 00:20:50</td>\n",
       "      <td>220.0</td>\n",
       "      <td>failed</td>\n",
       "      <td>3</td>\n",
       "      <td>US</td>\n",
       "      <td>220.0</td>\n",
       "      <td>220.0</td>\n",
       "      <td>45000.00</td>\n",
       "      <td>45 days</td>\n",
       "    </tr>\n",
       "    <tr>\n",
       "      <th>1000007540</th>\n",
       "      <td>ToshiCapital Rekordz Needs Help to Complete Album</td>\n",
       "      <td>Music</td>\n",
       "      <td>Music</td>\n",
       "      <td>USD</td>\n",
       "      <td>2012-04-16</td>\n",
       "      <td>5000.0</td>\n",
       "      <td>2012-03-17 03:24:11</td>\n",
       "      <td>1.0</td>\n",
       "      <td>failed</td>\n",
       "      <td>1</td>\n",
       "      <td>US</td>\n",
       "      <td>1.0</td>\n",
       "      <td>1.0</td>\n",
       "      <td>5000.00</td>\n",
       "      <td>30 days</td>\n",
       "    </tr>\n",
       "    <tr>\n",
       "      <th>1000011046</th>\n",
       "      <td>Community Film Project: The Art of Neighborhoo...</td>\n",
       "      <td>Film &amp; Video</td>\n",
       "      <td>Film &amp; Video</td>\n",
       "      <td>USD</td>\n",
       "      <td>2015-08-29</td>\n",
       "      <td>19500.0</td>\n",
       "      <td>2015-07-04 08:35:03</td>\n",
       "      <td>1283.0</td>\n",
       "      <td>canceled</td>\n",
       "      <td>14</td>\n",
       "      <td>US</td>\n",
       "      <td>1283.0</td>\n",
       "      <td>1283.0</td>\n",
       "      <td>19500.00</td>\n",
       "      <td>56 days</td>\n",
       "    </tr>\n",
       "  </tbody>\n",
       "</table>\n",
       "</div>"
      ],
      "text/plain": [
       "                                                         name        category  \\\n",
       "ID                                                                              \n",
       "1000002330                    The Songs of Adelaide & Abullah          Poetry   \n",
       "1000003930      Greeting From Earth: ZGAC Arts Capsule For ET  Narrative Film   \n",
       "1000004038                                     Where is Hank?  Narrative Film   \n",
       "1000007540  ToshiCapital Rekordz Needs Help to Complete Album           Music   \n",
       "1000011046  Community Film Project: The Art of Neighborhoo...    Film & Video   \n",
       "\n",
       "           main_category currency    deadline     goal            launched  \\\n",
       "ID                                                                           \n",
       "1000002330    Publishing      GBP  2015-10-09   1000.0 2015-08-11 12:12:28   \n",
       "1000003930  Film & Video      USD  2017-11-01  30000.0 2017-09-02 04:43:57   \n",
       "1000004038  Film & Video      USD  2013-02-26  45000.0 2013-01-12 00:20:50   \n",
       "1000007540         Music      USD  2012-04-16   5000.0 2012-03-17 03:24:11   \n",
       "1000011046  Film & Video      USD  2015-08-29  19500.0 2015-07-04 08:35:03   \n",
       "\n",
       "            pledged     state  backers country  usd pledged  usd_pledged_real  \\\n",
       "ID                                                                              \n",
       "1000002330      0.0    failed        0      GB          0.0               0.0   \n",
       "1000003930   2421.0    failed       15      US        100.0            2421.0   \n",
       "1000004038    220.0    failed        3      US        220.0             220.0   \n",
       "1000007540      1.0    failed        1      US          1.0               1.0   \n",
       "1000011046   1283.0  canceled       14      US       1283.0            1283.0   \n",
       "\n",
       "            usd_goal_real duration  \n",
       "ID                                  \n",
       "1000002330        1533.95  59 days  \n",
       "1000003930       30000.00  60 days  \n",
       "1000004038       45000.00  45 days  \n",
       "1000007540        5000.00  30 days  \n",
       "1000011046       19500.00  56 days  "
      ]
     },
     "execution_count": 70,
     "metadata": {},
     "output_type": "execute_result"
    }
   ],
   "source": [
    "# Neue Spalte mit der Dauer der Projekte vom Launchdatum bis zur Deadline\n",
    "df['duration'] = pd.to_datetime(df['deadline']).dt.date - pd.to_datetime(df['launched']).dt.date\n",
    "df.head()"
   ]
  },
  {
   "cell_type": "markdown",
   "metadata": {},
   "source": [
    "### Anforderung 6"
   ]
  },
  {
   "cell_type": "code",
   "execution_count": 71,
   "metadata": {},
   "outputs": [
    {
     "name": "stdout",
     "output_type": "stream",
     "text": [
      "6 , 4\n"
     ]
    }
   ],
   "source": [
    "# Ermitteln der Postionen der Spalten launched und deadline\n",
    "pos_launched = df.columns.get_loc('launched')\n",
    "pos_deadline = df.columns.get_loc('deadline')\n",
    "print(f'{pos_launched} , {pos_deadline}')"
   ]
  },
  {
   "cell_type": "code",
   "execution_count": 72,
   "metadata": {},
   "outputs": [
    {
     "data": {
      "text/html": [
       "<div>\n",
       "<style scoped>\n",
       "    .dataframe tbody tr th:only-of-type {\n",
       "        vertical-align: middle;\n",
       "    }\n",
       "\n",
       "    .dataframe tbody tr th {\n",
       "        vertical-align: top;\n",
       "    }\n",
       "\n",
       "    .dataframe thead th {\n",
       "        text-align: right;\n",
       "    }\n",
       "</style>\n",
       "<table border=\"1\" class=\"dataframe\">\n",
       "  <thead>\n",
       "    <tr style=\"text-align: right;\">\n",
       "      <th></th>\n",
       "      <th>name</th>\n",
       "      <th>category</th>\n",
       "      <th>main_category</th>\n",
       "      <th>currency</th>\n",
       "      <th>goal</th>\n",
       "      <th>pledged</th>\n",
       "      <th>state</th>\n",
       "      <th>backers</th>\n",
       "      <th>country</th>\n",
       "      <th>usd pledged</th>\n",
       "      <th>usd_pledged_real</th>\n",
       "      <th>usd_goal_real</th>\n",
       "      <th>launched</th>\n",
       "      <th>deadline</th>\n",
       "      <th>duration</th>\n",
       "    </tr>\n",
       "    <tr>\n",
       "      <th>ID</th>\n",
       "      <th></th>\n",
       "      <th></th>\n",
       "      <th></th>\n",
       "      <th></th>\n",
       "      <th></th>\n",
       "      <th></th>\n",
       "      <th></th>\n",
       "      <th></th>\n",
       "      <th></th>\n",
       "      <th></th>\n",
       "      <th></th>\n",
       "      <th></th>\n",
       "      <th></th>\n",
       "      <th></th>\n",
       "      <th></th>\n",
       "    </tr>\n",
       "  </thead>\n",
       "  <tbody>\n",
       "    <tr>\n",
       "      <th>1000002330</th>\n",
       "      <td>The Songs of Adelaide &amp; Abullah</td>\n",
       "      <td>Poetry</td>\n",
       "      <td>Publishing</td>\n",
       "      <td>GBP</td>\n",
       "      <td>1000.0</td>\n",
       "      <td>0.0</td>\n",
       "      <td>failed</td>\n",
       "      <td>0</td>\n",
       "      <td>GB</td>\n",
       "      <td>0.0</td>\n",
       "      <td>0.0</td>\n",
       "      <td>1533.95</td>\n",
       "      <td>2015-08-11 12:12:28</td>\n",
       "      <td>2015-10-09</td>\n",
       "      <td>59 days</td>\n",
       "    </tr>\n",
       "    <tr>\n",
       "      <th>1000003930</th>\n",
       "      <td>Greeting From Earth: ZGAC Arts Capsule For ET</td>\n",
       "      <td>Narrative Film</td>\n",
       "      <td>Film &amp; Video</td>\n",
       "      <td>USD</td>\n",
       "      <td>30000.0</td>\n",
       "      <td>2421.0</td>\n",
       "      <td>failed</td>\n",
       "      <td>15</td>\n",
       "      <td>US</td>\n",
       "      <td>100.0</td>\n",
       "      <td>2421.0</td>\n",
       "      <td>30000.00</td>\n",
       "      <td>2017-09-02 04:43:57</td>\n",
       "      <td>2017-11-01</td>\n",
       "      <td>60 days</td>\n",
       "    </tr>\n",
       "    <tr>\n",
       "      <th>1000004038</th>\n",
       "      <td>Where is Hank?</td>\n",
       "      <td>Narrative Film</td>\n",
       "      <td>Film &amp; Video</td>\n",
       "      <td>USD</td>\n",
       "      <td>45000.0</td>\n",
       "      <td>220.0</td>\n",
       "      <td>failed</td>\n",
       "      <td>3</td>\n",
       "      <td>US</td>\n",
       "      <td>220.0</td>\n",
       "      <td>220.0</td>\n",
       "      <td>45000.00</td>\n",
       "      <td>2013-01-12 00:20:50</td>\n",
       "      <td>2013-02-26</td>\n",
       "      <td>45 days</td>\n",
       "    </tr>\n",
       "    <tr>\n",
       "      <th>1000007540</th>\n",
       "      <td>ToshiCapital Rekordz Needs Help to Complete Album</td>\n",
       "      <td>Music</td>\n",
       "      <td>Music</td>\n",
       "      <td>USD</td>\n",
       "      <td>5000.0</td>\n",
       "      <td>1.0</td>\n",
       "      <td>failed</td>\n",
       "      <td>1</td>\n",
       "      <td>US</td>\n",
       "      <td>1.0</td>\n",
       "      <td>1.0</td>\n",
       "      <td>5000.00</td>\n",
       "      <td>2012-03-17 03:24:11</td>\n",
       "      <td>2012-04-16</td>\n",
       "      <td>30 days</td>\n",
       "    </tr>\n",
       "    <tr>\n",
       "      <th>1000011046</th>\n",
       "      <td>Community Film Project: The Art of Neighborhoo...</td>\n",
       "      <td>Film &amp; Video</td>\n",
       "      <td>Film &amp; Video</td>\n",
       "      <td>USD</td>\n",
       "      <td>19500.0</td>\n",
       "      <td>1283.0</td>\n",
       "      <td>canceled</td>\n",
       "      <td>14</td>\n",
       "      <td>US</td>\n",
       "      <td>1283.0</td>\n",
       "      <td>1283.0</td>\n",
       "      <td>19500.00</td>\n",
       "      <td>2015-07-04 08:35:03</td>\n",
       "      <td>2015-08-29</td>\n",
       "      <td>56 days</td>\n",
       "    </tr>\n",
       "    <tr>\n",
       "      <th>...</th>\n",
       "      <td>...</td>\n",
       "      <td>...</td>\n",
       "      <td>...</td>\n",
       "      <td>...</td>\n",
       "      <td>...</td>\n",
       "      <td>...</td>\n",
       "      <td>...</td>\n",
       "      <td>...</td>\n",
       "      <td>...</td>\n",
       "      <td>...</td>\n",
       "      <td>...</td>\n",
       "      <td>...</td>\n",
       "      <td>...</td>\n",
       "      <td>...</td>\n",
       "      <td>...</td>\n",
       "    </tr>\n",
       "    <tr>\n",
       "      <th>999976400</th>\n",
       "      <td>ChknTruk Nationwide Charity Drive 2014 (Canceled)</td>\n",
       "      <td>Documentary</td>\n",
       "      <td>Film &amp; Video</td>\n",
       "      <td>USD</td>\n",
       "      <td>50000.0</td>\n",
       "      <td>25.0</td>\n",
       "      <td>canceled</td>\n",
       "      <td>1</td>\n",
       "      <td>US</td>\n",
       "      <td>25.0</td>\n",
       "      <td>25.0</td>\n",
       "      <td>50000.00</td>\n",
       "      <td>2014-09-17 02:35:30</td>\n",
       "      <td>2014-10-17</td>\n",
       "      <td>30 days</td>\n",
       "    </tr>\n",
       "    <tr>\n",
       "      <th>999977640</th>\n",
       "      <td>The Tribe</td>\n",
       "      <td>Narrative Film</td>\n",
       "      <td>Film &amp; Video</td>\n",
       "      <td>USD</td>\n",
       "      <td>1500.0</td>\n",
       "      <td>155.0</td>\n",
       "      <td>failed</td>\n",
       "      <td>5</td>\n",
       "      <td>US</td>\n",
       "      <td>155.0</td>\n",
       "      <td>155.0</td>\n",
       "      <td>1500.00</td>\n",
       "      <td>2011-06-22 03:35:14</td>\n",
       "      <td>2011-07-19</td>\n",
       "      <td>27 days</td>\n",
       "    </tr>\n",
       "    <tr>\n",
       "      <th>999986353</th>\n",
       "      <td>Walls of Remedy- New lesbian Romantic Comedy f...</td>\n",
       "      <td>Narrative Film</td>\n",
       "      <td>Film &amp; Video</td>\n",
       "      <td>USD</td>\n",
       "      <td>15000.0</td>\n",
       "      <td>20.0</td>\n",
       "      <td>failed</td>\n",
       "      <td>1</td>\n",
       "      <td>US</td>\n",
       "      <td>20.0</td>\n",
       "      <td>20.0</td>\n",
       "      <td>15000.00</td>\n",
       "      <td>2010-07-01 19:40:30</td>\n",
       "      <td>2010-08-16</td>\n",
       "      <td>46 days</td>\n",
       "    </tr>\n",
       "    <tr>\n",
       "      <th>999987933</th>\n",
       "      <td>BioDefense Education Kit</td>\n",
       "      <td>Technology</td>\n",
       "      <td>Technology</td>\n",
       "      <td>USD</td>\n",
       "      <td>15000.0</td>\n",
       "      <td>200.0</td>\n",
       "      <td>failed</td>\n",
       "      <td>6</td>\n",
       "      <td>US</td>\n",
       "      <td>200.0</td>\n",
       "      <td>200.0</td>\n",
       "      <td>15000.00</td>\n",
       "      <td>2016-01-13 18:13:53</td>\n",
       "      <td>2016-02-13</td>\n",
       "      <td>31 days</td>\n",
       "    </tr>\n",
       "    <tr>\n",
       "      <th>999988282</th>\n",
       "      <td>Nou Renmen Ayiti!  We Love Haiti!</td>\n",
       "      <td>Performance Art</td>\n",
       "      <td>Art</td>\n",
       "      <td>USD</td>\n",
       "      <td>2000.0</td>\n",
       "      <td>524.0</td>\n",
       "      <td>failed</td>\n",
       "      <td>17</td>\n",
       "      <td>US</td>\n",
       "      <td>524.0</td>\n",
       "      <td>524.0</td>\n",
       "      <td>2000.00</td>\n",
       "      <td>2011-07-19 09:07:47</td>\n",
       "      <td>2011-08-16</td>\n",
       "      <td>28 days</td>\n",
       "    </tr>\n",
       "  </tbody>\n",
       "</table>\n",
       "<p>378661 rows × 15 columns</p>\n",
       "</div>"
      ],
      "text/plain": [
       "                                                         name  \\\n",
       "ID                                                              \n",
       "1000002330                    The Songs of Adelaide & Abullah   \n",
       "1000003930      Greeting From Earth: ZGAC Arts Capsule For ET   \n",
       "1000004038                                     Where is Hank?   \n",
       "1000007540  ToshiCapital Rekordz Needs Help to Complete Album   \n",
       "1000011046  Community Film Project: The Art of Neighborhoo...   \n",
       "...                                                       ...   \n",
       "999976400   ChknTruk Nationwide Charity Drive 2014 (Canceled)   \n",
       "999977640                                           The Tribe   \n",
       "999986353   Walls of Remedy- New lesbian Romantic Comedy f...   \n",
       "999987933                            BioDefense Education Kit   \n",
       "999988282                   Nou Renmen Ayiti!  We Love Haiti!   \n",
       "\n",
       "                   category main_category currency     goal  pledged  \\\n",
       "ID                                                                     \n",
       "1000002330           Poetry    Publishing      GBP   1000.0      0.0   \n",
       "1000003930   Narrative Film  Film & Video      USD  30000.0   2421.0   \n",
       "1000004038   Narrative Film  Film & Video      USD  45000.0    220.0   \n",
       "1000007540            Music         Music      USD   5000.0      1.0   \n",
       "1000011046     Film & Video  Film & Video      USD  19500.0   1283.0   \n",
       "...                     ...           ...      ...      ...      ...   \n",
       "999976400       Documentary  Film & Video      USD  50000.0     25.0   \n",
       "999977640    Narrative Film  Film & Video      USD   1500.0    155.0   \n",
       "999986353    Narrative Film  Film & Video      USD  15000.0     20.0   \n",
       "999987933        Technology    Technology      USD  15000.0    200.0   \n",
       "999988282   Performance Art           Art      USD   2000.0    524.0   \n",
       "\n",
       "               state  backers country  usd pledged  usd_pledged_real  \\\n",
       "ID                                                                     \n",
       "1000002330    failed        0      GB          0.0               0.0   \n",
       "1000003930    failed       15      US        100.0            2421.0   \n",
       "1000004038    failed        3      US        220.0             220.0   \n",
       "1000007540    failed        1      US          1.0               1.0   \n",
       "1000011046  canceled       14      US       1283.0            1283.0   \n",
       "...              ...      ...     ...          ...               ...   \n",
       "999976400   canceled        1      US         25.0              25.0   \n",
       "999977640     failed        5      US        155.0             155.0   \n",
       "999986353     failed        1      US         20.0              20.0   \n",
       "999987933     failed        6      US        200.0             200.0   \n",
       "999988282     failed       17      US        524.0             524.0   \n",
       "\n",
       "            usd_goal_real            launched    deadline duration  \n",
       "ID                                                                  \n",
       "1000002330        1533.95 2015-08-11 12:12:28  2015-10-09  59 days  \n",
       "1000003930       30000.00 2017-09-02 04:43:57  2017-11-01  60 days  \n",
       "1000004038       45000.00 2013-01-12 00:20:50  2013-02-26  45 days  \n",
       "1000007540        5000.00 2012-03-17 03:24:11  2012-04-16  30 days  \n",
       "1000011046       19500.00 2015-07-04 08:35:03  2015-08-29  56 days  \n",
       "...                   ...                 ...         ...      ...  \n",
       "999976400        50000.00 2014-09-17 02:35:30  2014-10-17  30 days  \n",
       "999977640         1500.00 2011-06-22 03:35:14  2011-07-19  27 days  \n",
       "999986353        15000.00 2010-07-01 19:40:30  2010-08-16  46 days  \n",
       "999987933        15000.00 2016-01-13 18:13:53  2016-02-13  31 days  \n",
       "999988282         2000.00 2011-07-19 09:07:47  2011-08-16  28 days  \n",
       "\n",
       "[378661 rows x 15 columns]"
      ]
     },
     "execution_count": 72,
     "metadata": {},
     "output_type": "execute_result"
    }
   ],
   "source": [
    "# Ändern der Reihenfolge der Spalten\n",
    "df.iloc[: ,[0,1,2,3,5,7,8,9,10,11,12,13,6,4,14]]"
   ]
  },
  {
   "cell_type": "code",
   "execution_count": 73,
   "metadata": {
    "scrolled": true
   },
   "outputs": [
    {
     "data": {
      "text/html": [
       "<div>\n",
       "<style scoped>\n",
       "    .dataframe tbody tr th:only-of-type {\n",
       "        vertical-align: middle;\n",
       "    }\n",
       "\n",
       "    .dataframe tbody tr th {\n",
       "        vertical-align: top;\n",
       "    }\n",
       "\n",
       "    .dataframe thead th {\n",
       "        text-align: right;\n",
       "    }\n",
       "</style>\n",
       "<table border=\"1\" class=\"dataframe\">\n",
       "  <thead>\n",
       "    <tr style=\"text-align: right;\">\n",
       "      <th></th>\n",
       "      <th>name</th>\n",
       "      <th>category</th>\n",
       "      <th>main_category</th>\n",
       "      <th>currency</th>\n",
       "      <th>deadline</th>\n",
       "      <th>goal</th>\n",
       "      <th>launch_date</th>\n",
       "      <th>pledged</th>\n",
       "      <th>state</th>\n",
       "      <th>backers</th>\n",
       "      <th>country</th>\n",
       "      <th>usd pledged</th>\n",
       "      <th>usd_pledged_real</th>\n",
       "      <th>usd_goal_real</th>\n",
       "      <th>duration</th>\n",
       "    </tr>\n",
       "    <tr>\n",
       "      <th>ID</th>\n",
       "      <th></th>\n",
       "      <th></th>\n",
       "      <th></th>\n",
       "      <th></th>\n",
       "      <th></th>\n",
       "      <th></th>\n",
       "      <th></th>\n",
       "      <th></th>\n",
       "      <th></th>\n",
       "      <th></th>\n",
       "      <th></th>\n",
       "      <th></th>\n",
       "      <th></th>\n",
       "      <th></th>\n",
       "      <th></th>\n",
       "    </tr>\n",
       "  </thead>\n",
       "  <tbody>\n",
       "    <tr>\n",
       "      <th>1000002330</th>\n",
       "      <td>The Songs of Adelaide &amp; Abullah</td>\n",
       "      <td>Poetry</td>\n",
       "      <td>Publishing</td>\n",
       "      <td>GBP</td>\n",
       "      <td>2015-10-09</td>\n",
       "      <td>1000.0</td>\n",
       "      <td>2015-08-11 12:12:28</td>\n",
       "      <td>0.0</td>\n",
       "      <td>failed</td>\n",
       "      <td>0</td>\n",
       "      <td>GB</td>\n",
       "      <td>0.0</td>\n",
       "      <td>0.0</td>\n",
       "      <td>1533.95</td>\n",
       "      <td>59 days</td>\n",
       "    </tr>\n",
       "    <tr>\n",
       "      <th>1000003930</th>\n",
       "      <td>Greeting From Earth: ZGAC Arts Capsule For ET</td>\n",
       "      <td>Narrative Film</td>\n",
       "      <td>Film &amp; Video</td>\n",
       "      <td>USD</td>\n",
       "      <td>2017-11-01</td>\n",
       "      <td>30000.0</td>\n",
       "      <td>2017-09-02 04:43:57</td>\n",
       "      <td>2421.0</td>\n",
       "      <td>failed</td>\n",
       "      <td>15</td>\n",
       "      <td>US</td>\n",
       "      <td>100.0</td>\n",
       "      <td>2421.0</td>\n",
       "      <td>30000.00</td>\n",
       "      <td>60 days</td>\n",
       "    </tr>\n",
       "    <tr>\n",
       "      <th>1000004038</th>\n",
       "      <td>Where is Hank?</td>\n",
       "      <td>Narrative Film</td>\n",
       "      <td>Film &amp; Video</td>\n",
       "      <td>USD</td>\n",
       "      <td>2013-02-26</td>\n",
       "      <td>45000.0</td>\n",
       "      <td>2013-01-12 00:20:50</td>\n",
       "      <td>220.0</td>\n",
       "      <td>failed</td>\n",
       "      <td>3</td>\n",
       "      <td>US</td>\n",
       "      <td>220.0</td>\n",
       "      <td>220.0</td>\n",
       "      <td>45000.00</td>\n",
       "      <td>45 days</td>\n",
       "    </tr>\n",
       "    <tr>\n",
       "      <th>1000007540</th>\n",
       "      <td>ToshiCapital Rekordz Needs Help to Complete Album</td>\n",
       "      <td>Music</td>\n",
       "      <td>Music</td>\n",
       "      <td>USD</td>\n",
       "      <td>2012-04-16</td>\n",
       "      <td>5000.0</td>\n",
       "      <td>2012-03-17 03:24:11</td>\n",
       "      <td>1.0</td>\n",
       "      <td>failed</td>\n",
       "      <td>1</td>\n",
       "      <td>US</td>\n",
       "      <td>1.0</td>\n",
       "      <td>1.0</td>\n",
       "      <td>5000.00</td>\n",
       "      <td>30 days</td>\n",
       "    </tr>\n",
       "    <tr>\n",
       "      <th>1000011046</th>\n",
       "      <td>Community Film Project: The Art of Neighborhoo...</td>\n",
       "      <td>Film &amp; Video</td>\n",
       "      <td>Film &amp; Video</td>\n",
       "      <td>USD</td>\n",
       "      <td>2015-08-29</td>\n",
       "      <td>19500.0</td>\n",
       "      <td>2015-07-04 08:35:03</td>\n",
       "      <td>1283.0</td>\n",
       "      <td>canceled</td>\n",
       "      <td>14</td>\n",
       "      <td>US</td>\n",
       "      <td>1283.0</td>\n",
       "      <td>1283.0</td>\n",
       "      <td>19500.00</td>\n",
       "      <td>56 days</td>\n",
       "    </tr>\n",
       "    <tr>\n",
       "      <th>...</th>\n",
       "      <td>...</td>\n",
       "      <td>...</td>\n",
       "      <td>...</td>\n",
       "      <td>...</td>\n",
       "      <td>...</td>\n",
       "      <td>...</td>\n",
       "      <td>...</td>\n",
       "      <td>...</td>\n",
       "      <td>...</td>\n",
       "      <td>...</td>\n",
       "      <td>...</td>\n",
       "      <td>...</td>\n",
       "      <td>...</td>\n",
       "      <td>...</td>\n",
       "      <td>...</td>\n",
       "    </tr>\n",
       "    <tr>\n",
       "      <th>999976400</th>\n",
       "      <td>ChknTruk Nationwide Charity Drive 2014 (Canceled)</td>\n",
       "      <td>Documentary</td>\n",
       "      <td>Film &amp; Video</td>\n",
       "      <td>USD</td>\n",
       "      <td>2014-10-17</td>\n",
       "      <td>50000.0</td>\n",
       "      <td>2014-09-17 02:35:30</td>\n",
       "      <td>25.0</td>\n",
       "      <td>canceled</td>\n",
       "      <td>1</td>\n",
       "      <td>US</td>\n",
       "      <td>25.0</td>\n",
       "      <td>25.0</td>\n",
       "      <td>50000.00</td>\n",
       "      <td>30 days</td>\n",
       "    </tr>\n",
       "    <tr>\n",
       "      <th>999977640</th>\n",
       "      <td>The Tribe</td>\n",
       "      <td>Narrative Film</td>\n",
       "      <td>Film &amp; Video</td>\n",
       "      <td>USD</td>\n",
       "      <td>2011-07-19</td>\n",
       "      <td>1500.0</td>\n",
       "      <td>2011-06-22 03:35:14</td>\n",
       "      <td>155.0</td>\n",
       "      <td>failed</td>\n",
       "      <td>5</td>\n",
       "      <td>US</td>\n",
       "      <td>155.0</td>\n",
       "      <td>155.0</td>\n",
       "      <td>1500.00</td>\n",
       "      <td>27 days</td>\n",
       "    </tr>\n",
       "    <tr>\n",
       "      <th>999986353</th>\n",
       "      <td>Walls of Remedy- New lesbian Romantic Comedy f...</td>\n",
       "      <td>Narrative Film</td>\n",
       "      <td>Film &amp; Video</td>\n",
       "      <td>USD</td>\n",
       "      <td>2010-08-16</td>\n",
       "      <td>15000.0</td>\n",
       "      <td>2010-07-01 19:40:30</td>\n",
       "      <td>20.0</td>\n",
       "      <td>failed</td>\n",
       "      <td>1</td>\n",
       "      <td>US</td>\n",
       "      <td>20.0</td>\n",
       "      <td>20.0</td>\n",
       "      <td>15000.00</td>\n",
       "      <td>46 days</td>\n",
       "    </tr>\n",
       "    <tr>\n",
       "      <th>999987933</th>\n",
       "      <td>BioDefense Education Kit</td>\n",
       "      <td>Technology</td>\n",
       "      <td>Technology</td>\n",
       "      <td>USD</td>\n",
       "      <td>2016-02-13</td>\n",
       "      <td>15000.0</td>\n",
       "      <td>2016-01-13 18:13:53</td>\n",
       "      <td>200.0</td>\n",
       "      <td>failed</td>\n",
       "      <td>6</td>\n",
       "      <td>US</td>\n",
       "      <td>200.0</td>\n",
       "      <td>200.0</td>\n",
       "      <td>15000.00</td>\n",
       "      <td>31 days</td>\n",
       "    </tr>\n",
       "    <tr>\n",
       "      <th>999988282</th>\n",
       "      <td>Nou Renmen Ayiti!  We Love Haiti!</td>\n",
       "      <td>Performance Art</td>\n",
       "      <td>Art</td>\n",
       "      <td>USD</td>\n",
       "      <td>2011-08-16</td>\n",
       "      <td>2000.0</td>\n",
       "      <td>2011-07-19 09:07:47</td>\n",
       "      <td>524.0</td>\n",
       "      <td>failed</td>\n",
       "      <td>17</td>\n",
       "      <td>US</td>\n",
       "      <td>524.0</td>\n",
       "      <td>524.0</td>\n",
       "      <td>2000.00</td>\n",
       "      <td>28 days</td>\n",
       "    </tr>\n",
       "  </tbody>\n",
       "</table>\n",
       "<p>378661 rows × 15 columns</p>\n",
       "</div>"
      ],
      "text/plain": [
       "                                                         name  \\\n",
       "ID                                                              \n",
       "1000002330                    The Songs of Adelaide & Abullah   \n",
       "1000003930      Greeting From Earth: ZGAC Arts Capsule For ET   \n",
       "1000004038                                     Where is Hank?   \n",
       "1000007540  ToshiCapital Rekordz Needs Help to Complete Album   \n",
       "1000011046  Community Film Project: The Art of Neighborhoo...   \n",
       "...                                                       ...   \n",
       "999976400   ChknTruk Nationwide Charity Drive 2014 (Canceled)   \n",
       "999977640                                           The Tribe   \n",
       "999986353   Walls of Remedy- New lesbian Romantic Comedy f...   \n",
       "999987933                            BioDefense Education Kit   \n",
       "999988282                   Nou Renmen Ayiti!  We Love Haiti!   \n",
       "\n",
       "                   category main_category currency    deadline     goal  \\\n",
       "ID                                                                        \n",
       "1000002330           Poetry    Publishing      GBP  2015-10-09   1000.0   \n",
       "1000003930   Narrative Film  Film & Video      USD  2017-11-01  30000.0   \n",
       "1000004038   Narrative Film  Film & Video      USD  2013-02-26  45000.0   \n",
       "1000007540            Music         Music      USD  2012-04-16   5000.0   \n",
       "1000011046     Film & Video  Film & Video      USD  2015-08-29  19500.0   \n",
       "...                     ...           ...      ...         ...      ...   \n",
       "999976400       Documentary  Film & Video      USD  2014-10-17  50000.0   \n",
       "999977640    Narrative Film  Film & Video      USD  2011-07-19   1500.0   \n",
       "999986353    Narrative Film  Film & Video      USD  2010-08-16  15000.0   \n",
       "999987933        Technology    Technology      USD  2016-02-13  15000.0   \n",
       "999988282   Performance Art           Art      USD  2011-08-16   2000.0   \n",
       "\n",
       "                   launch_date  pledged     state  backers country  \\\n",
       "ID                                                                   \n",
       "1000002330 2015-08-11 12:12:28      0.0    failed        0      GB   \n",
       "1000003930 2017-09-02 04:43:57   2421.0    failed       15      US   \n",
       "1000004038 2013-01-12 00:20:50    220.0    failed        3      US   \n",
       "1000007540 2012-03-17 03:24:11      1.0    failed        1      US   \n",
       "1000011046 2015-07-04 08:35:03   1283.0  canceled       14      US   \n",
       "...                        ...      ...       ...      ...     ...   \n",
       "999976400  2014-09-17 02:35:30     25.0  canceled        1      US   \n",
       "999977640  2011-06-22 03:35:14    155.0    failed        5      US   \n",
       "999986353  2010-07-01 19:40:30     20.0    failed        1      US   \n",
       "999987933  2016-01-13 18:13:53    200.0    failed        6      US   \n",
       "999988282  2011-07-19 09:07:47    524.0    failed       17      US   \n",
       "\n",
       "            usd pledged  usd_pledged_real  usd_goal_real duration  \n",
       "ID                                                                 \n",
       "1000002330          0.0               0.0        1533.95  59 days  \n",
       "1000003930        100.0            2421.0       30000.00  60 days  \n",
       "1000004038        220.0             220.0       45000.00  45 days  \n",
       "1000007540          1.0               1.0        5000.00  30 days  \n",
       "1000011046       1283.0            1283.0       19500.00  56 days  \n",
       "...                 ...               ...            ...      ...  \n",
       "999976400          25.0              25.0       50000.00  30 days  \n",
       "999977640         155.0             155.0        1500.00  27 days  \n",
       "999986353          20.0              20.0       15000.00  46 days  \n",
       "999987933         200.0             200.0       15000.00  31 days  \n",
       "999988282         524.0             524.0        2000.00  28 days  \n",
       "\n",
       "[378661 rows x 15 columns]"
      ]
     },
     "execution_count": 73,
     "metadata": {},
     "output_type": "execute_result"
    }
   ],
   "source": [
    "# Umbenennung der Spalte launched in launch_date\n",
    "df.rename(columns={\"launched\": \"launch_date\"})"
   ]
  },
  {
   "cell_type": "markdown",
   "metadata": {},
   "source": [
    "### Anforderung 7"
   ]
  },
  {
   "cell_type": "code",
   "execution_count": 74,
   "metadata": {
    "scrolled": true
   },
   "outputs": [
    {
     "data": {
      "text/html": [
       "<div>\n",
       "<style scoped>\n",
       "    .dataframe tbody tr th:only-of-type {\n",
       "        vertical-align: middle;\n",
       "    }\n",
       "\n",
       "    .dataframe tbody tr th {\n",
       "        vertical-align: top;\n",
       "    }\n",
       "\n",
       "    .dataframe thead th {\n",
       "        text-align: right;\n",
       "    }\n",
       "</style>\n",
       "<table border=\"1\" class=\"dataframe\">\n",
       "  <thead>\n",
       "    <tr style=\"text-align: right;\">\n",
       "      <th></th>\n",
       "      <th>name</th>\n",
       "      <th>category</th>\n",
       "      <th>main_category</th>\n",
       "      <th>currency</th>\n",
       "      <th>deadline</th>\n",
       "      <th>goal</th>\n",
       "      <th>launched</th>\n",
       "      <th>pledged</th>\n",
       "      <th>state</th>\n",
       "      <th>backers</th>\n",
       "      <th>country</th>\n",
       "      <th>usd pledged</th>\n",
       "      <th>usd_pledged_real</th>\n",
       "      <th>usd_goal_real</th>\n",
       "    </tr>\n",
       "    <tr>\n",
       "      <th>ID</th>\n",
       "      <th></th>\n",
       "      <th></th>\n",
       "      <th></th>\n",
       "      <th></th>\n",
       "      <th></th>\n",
       "      <th></th>\n",
       "      <th></th>\n",
       "      <th></th>\n",
       "      <th></th>\n",
       "      <th></th>\n",
       "      <th></th>\n",
       "      <th></th>\n",
       "      <th></th>\n",
       "      <th></th>\n",
       "    </tr>\n",
       "  </thead>\n",
       "  <tbody>\n",
       "    <tr>\n",
       "      <th>1000002330</th>\n",
       "      <td>The Songs of Adelaide &amp; Abullah</td>\n",
       "      <td>Poetry</td>\n",
       "      <td>Publishing</td>\n",
       "      <td>GBP</td>\n",
       "      <td>2015-10-09</td>\n",
       "      <td>1000.0</td>\n",
       "      <td>2015-08-11 12:12:28</td>\n",
       "      <td>0.0</td>\n",
       "      <td>failed</td>\n",
       "      <td>0</td>\n",
       "      <td>GB</td>\n",
       "      <td>0.0</td>\n",
       "      <td>0.0</td>\n",
       "      <td>1533.95</td>\n",
       "    </tr>\n",
       "    <tr>\n",
       "      <th>1000003930</th>\n",
       "      <td>Greeting From Earth: ZGAC Arts Capsule For ET</td>\n",
       "      <td>Narrative Film</td>\n",
       "      <td>Film &amp; Video</td>\n",
       "      <td>USD</td>\n",
       "      <td>2017-11-01</td>\n",
       "      <td>30000.0</td>\n",
       "      <td>2017-09-02 04:43:57</td>\n",
       "      <td>2421.0</td>\n",
       "      <td>failed</td>\n",
       "      <td>15</td>\n",
       "      <td>US</td>\n",
       "      <td>100.0</td>\n",
       "      <td>2421.0</td>\n",
       "      <td>30000.00</td>\n",
       "    </tr>\n",
       "    <tr>\n",
       "      <th>1000004038</th>\n",
       "      <td>Where is Hank?</td>\n",
       "      <td>Narrative Film</td>\n",
       "      <td>Film &amp; Video</td>\n",
       "      <td>USD</td>\n",
       "      <td>2013-02-26</td>\n",
       "      <td>45000.0</td>\n",
       "      <td>2013-01-12 00:20:50</td>\n",
       "      <td>220.0</td>\n",
       "      <td>failed</td>\n",
       "      <td>3</td>\n",
       "      <td>US</td>\n",
       "      <td>220.0</td>\n",
       "      <td>220.0</td>\n",
       "      <td>45000.00</td>\n",
       "    </tr>\n",
       "    <tr>\n",
       "      <th>1000007540</th>\n",
       "      <td>ToshiCapital Rekordz Needs Help to Complete Album</td>\n",
       "      <td>Music</td>\n",
       "      <td>Music</td>\n",
       "      <td>USD</td>\n",
       "      <td>2012-04-16</td>\n",
       "      <td>5000.0</td>\n",
       "      <td>2012-03-17 03:24:11</td>\n",
       "      <td>1.0</td>\n",
       "      <td>failed</td>\n",
       "      <td>1</td>\n",
       "      <td>US</td>\n",
       "      <td>1.0</td>\n",
       "      <td>1.0</td>\n",
       "      <td>5000.00</td>\n",
       "    </tr>\n",
       "    <tr>\n",
       "      <th>1000011046</th>\n",
       "      <td>Community Film Project: The Art of Neighborhoo...</td>\n",
       "      <td>Film &amp; Video</td>\n",
       "      <td>Film &amp; Video</td>\n",
       "      <td>USD</td>\n",
       "      <td>2015-08-29</td>\n",
       "      <td>19500.0</td>\n",
       "      <td>2015-07-04 08:35:03</td>\n",
       "      <td>1283.0</td>\n",
       "      <td>canceled</td>\n",
       "      <td>14</td>\n",
       "      <td>US</td>\n",
       "      <td>1283.0</td>\n",
       "      <td>1283.0</td>\n",
       "      <td>19500.00</td>\n",
       "    </tr>\n",
       "  </tbody>\n",
       "</table>\n",
       "</div>"
      ],
      "text/plain": [
       "                                                         name        category  \\\n",
       "ID                                                                              \n",
       "1000002330                    The Songs of Adelaide & Abullah          Poetry   \n",
       "1000003930      Greeting From Earth: ZGAC Arts Capsule For ET  Narrative Film   \n",
       "1000004038                                     Where is Hank?  Narrative Film   \n",
       "1000007540  ToshiCapital Rekordz Needs Help to Complete Album           Music   \n",
       "1000011046  Community Film Project: The Art of Neighborhoo...    Film & Video   \n",
       "\n",
       "           main_category currency    deadline     goal            launched  \\\n",
       "ID                                                                           \n",
       "1000002330    Publishing      GBP  2015-10-09   1000.0 2015-08-11 12:12:28   \n",
       "1000003930  Film & Video      USD  2017-11-01  30000.0 2017-09-02 04:43:57   \n",
       "1000004038  Film & Video      USD  2013-02-26  45000.0 2013-01-12 00:20:50   \n",
       "1000007540         Music      USD  2012-04-16   5000.0 2012-03-17 03:24:11   \n",
       "1000011046  Film & Video      USD  2015-08-29  19500.0 2015-07-04 08:35:03   \n",
       "\n",
       "            pledged     state  backers country  usd pledged  usd_pledged_real  \\\n",
       "ID                                                                              \n",
       "1000002330      0.0    failed        0      GB          0.0               0.0   \n",
       "1000003930   2421.0    failed       15      US        100.0            2421.0   \n",
       "1000004038    220.0    failed        3      US        220.0             220.0   \n",
       "1000007540      1.0    failed        1      US          1.0               1.0   \n",
       "1000011046   1283.0  canceled       14      US       1283.0            1283.0   \n",
       "\n",
       "            usd_goal_real  \n",
       "ID                         \n",
       "1000002330        1533.95  \n",
       "1000003930       30000.00  \n",
       "1000004038       45000.00  \n",
       "1000007540        5000.00  \n",
       "1000011046       19500.00  "
      ]
     },
     "execution_count": 74,
     "metadata": {},
     "output_type": "execute_result"
    }
   ],
   "source": [
    "# Löschen der zuvor erstellten Spalte duration\n",
    "df_drop = df.drop(columns=['duration'])\n",
    "df_drop.head()"
   ]
  },
  {
   "cell_type": "markdown",
   "metadata": {},
   "source": [
    "### Anforderung 8"
   ]
  },
  {
   "cell_type": "code",
   "execution_count": 75,
   "metadata": {
    "scrolled": true
   },
   "outputs": [
    {
     "data": {
      "text/plain": [
       "ID\n",
       "1000002330    59 days\n",
       "1000003930    60 days\n",
       "1000004038    45 days\n",
       "1000007540    30 days\n",
       "1000011046    56 days\n",
       "               ...   \n",
       "999976400     30 days\n",
       "999977640     27 days\n",
       "999986353     46 days\n",
       "999987933     31 days\n",
       "999988282     28 days\n",
       "Name: duration, Length: 378661, dtype: object"
      ]
     },
     "execution_count": 75,
     "metadata": {},
     "output_type": "execute_result"
    }
   ],
   "source": [
    "# Die Spalte duration in einen String umwandeln für Operation mit dem str-Accessor\n",
    "df['duration'] = df['duration'].astype(str)\n",
    "df['duration']"
   ]
  },
  {
   "cell_type": "code",
   "execution_count": 76,
   "metadata": {
    "scrolled": true
   },
   "outputs": [],
   "source": [
    "# Den String \"days\" aus der Spalte duration entfernen\n",
    "df['duration'] = df['duration'].str.replace('days','')"
   ]
  },
  {
   "cell_type": "markdown",
   "metadata": {},
   "source": [
    "### Anforderung 9"
   ]
  },
  {
   "cell_type": "code",
   "execution_count": 77,
   "metadata": {},
   "outputs": [],
   "source": [
    "df.to_csv('data/ks-project-edited.csv')"
   ]
  },
  {
   "cell_type": "markdown",
   "metadata": {},
   "source": [
    "## Anforderungen an Projektumsetzung: Datenexploration"
   ]
  },
  {
   "cell_type": "code",
   "execution_count": 137,
   "metadata": {},
   "outputs": [
    {
     "data": {
      "text/html": [
       "<div>\n",
       "<style scoped>\n",
       "    .dataframe tbody tr th:only-of-type {\n",
       "        vertical-align: middle;\n",
       "    }\n",
       "\n",
       "    .dataframe tbody tr th {\n",
       "        vertical-align: top;\n",
       "    }\n",
       "\n",
       "    .dataframe thead th {\n",
       "        text-align: right;\n",
       "    }\n",
       "</style>\n",
       "<table border=\"1\" class=\"dataframe\">\n",
       "  <thead>\n",
       "    <tr style=\"text-align: right;\">\n",
       "      <th></th>\n",
       "      <th>name</th>\n",
       "      <th>category</th>\n",
       "      <th>main_category</th>\n",
       "      <th>currency</th>\n",
       "      <th>deadline</th>\n",
       "      <th>goal</th>\n",
       "      <th>launched</th>\n",
       "      <th>pledged</th>\n",
       "      <th>state</th>\n",
       "      <th>backers</th>\n",
       "      <th>country</th>\n",
       "      <th>usd pledged</th>\n",
       "      <th>usd_pledged_real</th>\n",
       "      <th>usd_goal_real</th>\n",
       "      <th>duration</th>\n",
       "    </tr>\n",
       "    <tr>\n",
       "      <th>ID</th>\n",
       "      <th></th>\n",
       "      <th></th>\n",
       "      <th></th>\n",
       "      <th></th>\n",
       "      <th></th>\n",
       "      <th></th>\n",
       "      <th></th>\n",
       "      <th></th>\n",
       "      <th></th>\n",
       "      <th></th>\n",
       "      <th></th>\n",
       "      <th></th>\n",
       "      <th></th>\n",
       "      <th></th>\n",
       "      <th></th>\n",
       "    </tr>\n",
       "  </thead>\n",
       "  <tbody>\n",
       "    <tr>\n",
       "      <th>1000002330</th>\n",
       "      <td>The Songs of Adelaide &amp; Abullah</td>\n",
       "      <td>Poetry</td>\n",
       "      <td>Publishing</td>\n",
       "      <td>GBP</td>\n",
       "      <td>2015-10-09</td>\n",
       "      <td>1000.0</td>\n",
       "      <td>2015-08-11 12:12:28</td>\n",
       "      <td>0.0</td>\n",
       "      <td>failed</td>\n",
       "      <td>0</td>\n",
       "      <td>GB</td>\n",
       "      <td>0.0</td>\n",
       "      <td>0.0</td>\n",
       "      <td>1533.95</td>\n",
       "      <td>59</td>\n",
       "    </tr>\n",
       "    <tr>\n",
       "      <th>1000003930</th>\n",
       "      <td>Greeting From Earth: ZGAC Arts Capsule For ET</td>\n",
       "      <td>Narrative Film</td>\n",
       "      <td>Film &amp; Video</td>\n",
       "      <td>USD</td>\n",
       "      <td>2017-11-01</td>\n",
       "      <td>30000.0</td>\n",
       "      <td>2017-09-02 04:43:57</td>\n",
       "      <td>2421.0</td>\n",
       "      <td>failed</td>\n",
       "      <td>15</td>\n",
       "      <td>US</td>\n",
       "      <td>100.0</td>\n",
       "      <td>2421.0</td>\n",
       "      <td>30000.00</td>\n",
       "      <td>60</td>\n",
       "    </tr>\n",
       "    <tr>\n",
       "      <th>1000004038</th>\n",
       "      <td>Where is Hank?</td>\n",
       "      <td>Narrative Film</td>\n",
       "      <td>Film &amp; Video</td>\n",
       "      <td>USD</td>\n",
       "      <td>2013-02-26</td>\n",
       "      <td>45000.0</td>\n",
       "      <td>2013-01-12 00:20:50</td>\n",
       "      <td>220.0</td>\n",
       "      <td>failed</td>\n",
       "      <td>3</td>\n",
       "      <td>US</td>\n",
       "      <td>220.0</td>\n",
       "      <td>220.0</td>\n",
       "      <td>45000.00</td>\n",
       "      <td>45</td>\n",
       "    </tr>\n",
       "    <tr>\n",
       "      <th>1000007540</th>\n",
       "      <td>ToshiCapital Rekordz Needs Help to Complete Album</td>\n",
       "      <td>Music</td>\n",
       "      <td>Music</td>\n",
       "      <td>USD</td>\n",
       "      <td>2012-04-16</td>\n",
       "      <td>5000.0</td>\n",
       "      <td>2012-03-17 03:24:11</td>\n",
       "      <td>1.0</td>\n",
       "      <td>failed</td>\n",
       "      <td>1</td>\n",
       "      <td>US</td>\n",
       "      <td>1.0</td>\n",
       "      <td>1.0</td>\n",
       "      <td>5000.00</td>\n",
       "      <td>30</td>\n",
       "    </tr>\n",
       "    <tr>\n",
       "      <th>1000011046</th>\n",
       "      <td>Community Film Project: The Art of Neighborhoo...</td>\n",
       "      <td>Film &amp; Video</td>\n",
       "      <td>Film &amp; Video</td>\n",
       "      <td>USD</td>\n",
       "      <td>2015-08-29</td>\n",
       "      <td>19500.0</td>\n",
       "      <td>2015-07-04 08:35:03</td>\n",
       "      <td>1283.0</td>\n",
       "      <td>canceled</td>\n",
       "      <td>14</td>\n",
       "      <td>US</td>\n",
       "      <td>1283.0</td>\n",
       "      <td>1283.0</td>\n",
       "      <td>19500.00</td>\n",
       "      <td>56</td>\n",
       "    </tr>\n",
       "  </tbody>\n",
       "</table>\n",
       "</div>"
      ],
      "text/plain": [
       "                                                         name        category  \\\n",
       "ID                                                                              \n",
       "1000002330                    The Songs of Adelaide & Abullah          Poetry   \n",
       "1000003930      Greeting From Earth: ZGAC Arts Capsule For ET  Narrative Film   \n",
       "1000004038                                     Where is Hank?  Narrative Film   \n",
       "1000007540  ToshiCapital Rekordz Needs Help to Complete Album           Music   \n",
       "1000011046  Community Film Project: The Art of Neighborhoo...    Film & Video   \n",
       "\n",
       "           main_category currency    deadline     goal            launched  \\\n",
       "ID                                                                           \n",
       "1000002330    Publishing      GBP  2015-10-09   1000.0 2015-08-11 12:12:28   \n",
       "1000003930  Film & Video      USD  2017-11-01  30000.0 2017-09-02 04:43:57   \n",
       "1000004038  Film & Video      USD  2013-02-26  45000.0 2013-01-12 00:20:50   \n",
       "1000007540         Music      USD  2012-04-16   5000.0 2012-03-17 03:24:11   \n",
       "1000011046  Film & Video      USD  2015-08-29  19500.0 2015-07-04 08:35:03   \n",
       "\n",
       "            pledged     state  backers country  usd pledged  usd_pledged_real  \\\n",
       "ID                                                                              \n",
       "1000002330      0.0    failed        0      GB          0.0               0.0   \n",
       "1000003930   2421.0    failed       15      US        100.0            2421.0   \n",
       "1000004038    220.0    failed        3      US        220.0             220.0   \n",
       "1000007540      1.0    failed        1      US          1.0               1.0   \n",
       "1000011046   1283.0  canceled       14      US       1283.0            1283.0   \n",
       "\n",
       "            usd_goal_real duration  \n",
       "ID                                  \n",
       "1000002330        1533.95      59   \n",
       "1000003930       30000.00      60   \n",
       "1000004038       45000.00      45   \n",
       "1000007540        5000.00      30   \n",
       "1000011046       19500.00      56   "
      ]
     },
     "execution_count": 137,
     "metadata": {},
     "output_type": "execute_result"
    }
   ],
   "source": [
    "df.head()"
   ]
  },
  {
   "cell_type": "markdown",
   "metadata": {},
   "source": [
    "### Line Chart"
   ]
  },
  {
   "cell_type": "code",
   "execution_count": 141,
   "metadata": {
    "scrolled": true
   },
   "outputs": [
    {
     "data": {
      "text/plain": [
       "[<matplotlib.lines.Line2D at 0x230349cd700>]"
      ]
     },
     "execution_count": 141,
     "metadata": {},
     "output_type": "execute_result"
    },
    {
     "data": {
      "image/png": "[encoded data removed]",
      "text/plain": [
       "<Figure size 432x288 with 1 Axes>"
      ]
     },
     "metadata": {
      "needs_background": "light"
     },
     "output_type": "display_data"
    }
   ],
   "source": [
    "# Get all launch years\n",
    "df['launched'] = pd.to_datetime(df['launched'])\n",
    "launchYears = df['launched'].dt.year.unique()\n",
    "launchYears = np.sort(launchYears) \n",
    "launchYears = np.delete(launchYears, [0,10])\n",
    "launchesPerYearArray = []\n",
    "\n",
    "for year in launchYears:\n",
    "    \n",
    "    launchedProjects = df[df['launched'].dt.year == year]\n",
    "    numberOflaunchedProjects = launchedProjects.shape[0]\n",
    "    launchesPerYearArray.append(numberOflaunchedProjects)\n",
    "\n",
    "launchesPerYearNpArray = np.array(launchesPerYearArray)\n",
    "plt.plot(launchYears, launchesPerYearNpArray) \n",
    "\n",
    "\n"
   ]
  },
  {
   "cell_type": "markdown",
   "metadata": {},
   "source": [
    "### Scatter-Plot"
   ]
  },
  {
   "cell_type": "code",
   "execution_count": 142,
   "metadata": {},
   "outputs": [],
   "source": [
    "df_filtered = df[df['main_category'] == 'Technology']"
   ]
  },
  {
   "cell_type": "code",
   "execution_count": 173,
   "metadata": {
    "scrolled": false
   },
   "outputs": [
    {
     "data": {
      "image/png": "[encoded data removed]",
      "text/plain": [
       "<Figure size 720x720 with 1 Axes>"
      ]
     },
     "metadata": {
      "needs_background": "light"
     },
     "output_type": "display_data"
    }
   ],
   "source": [
    "Q1p = df_filtered['pledged'].quantile(0.25)\n",
    "Q2p = df_filtered['pledged'].quantile(0.75)\n",
    "upper_threshold_p = Q2p + 1.5 * (Q2p - Q1p)\n",
    "\n",
    "Q1b = df_filtered['backers'].quantile(0.25)\n",
    "Q2b = df_filtered['backers'].quantile(0.75)\n",
    "upper_threshold_b = Q2 + 1.5 * (Q2b - Q1b)\n",
    "\n",
    "df_threshold = df_filtered[(df_filtered['pledged'] <= upper_threshold_p) & (df_filtered['backers'] <= upper_threshold_b)]\n",
    "fig, ax = plt.subplots(figsize=(10,10))\n",
    "ax.scatter(df_threshold['backers'], df_threshold['pledged'])\n",
    "plt.xlabel('Anzahl der Backers', fontweight=\"bold\", labelpad=20)\n",
    "plt.ylabel(\"Erreichte Beträge\", fontweight=\"bold\", labelpad=20)\n",
    "plt.show()"
   ]
  },
  {
   "cell_type": "markdown",
   "metadata": {},
   "source": [
    "### Blox-Plot"
   ]
  },
  {
   "cell_type": "code",
   "execution_count": 176,
   "metadata": {
    "scrolled": true
   },
   "outputs": [
    {
     "data": {
      "image/png": "[encoded data removed]",
      "text/plain": [
       "<Figure size 720x360 with 2 Axes>"
      ]
     },
     "metadata": {
      "needs_background": "light"
     },
     "output_type": "display_data"
    }
   ],
   "source": [
    "fig, ax = plt.subplots(ncols=2, figsize=(10,5))\n",
    "ax[0].boxplot(df['pledged'], labels=['Erreichter Betrag'], showfliers=False)\n",
    "ax[1].boxplot(df['backers'], labels=['Investoren'], showfliers=False)\n",
    "plt.show()"
   ]
  },
  {
   "cell_type": "markdown",
   "metadata": {},
   "source": [
    "### Bar-Chart"
   ]
  },
  {
   "cell_type": "code",
   "execution_count": 149,
   "metadata": {
    "scrolled": true
   },
   "outputs": [
    {
     "data": {
      "image/png": "[encoded data removed]",
      "text/plain": [
       "<Figure size 432x288 with 1 Axes>"
      ]
     },
     "metadata": {
      "needs_background": "light"
     },
     "output_type": "display_data"
    }
   ],
   "source": [
    "df['state'].nunique()\n",
    "\n",
    "df['state'].value_counts().plot(kind='bar')\n",
    "plt.title(\"Erfolg oder Misserfolg der Projekte\", fontweight=\"bold\", fontsize=12, pad=20)\n",
    "plt.xlabel('Erfolg oder Misserfolg', fontweight=\"bold\", labelpad=20)\n",
    "plt.ylabel(\"Anzahl der Projekte\", fontweight=\"bold\", labelpad=20)\n",
    "plt.show()"
   ]
  },
  {
   "cell_type": "code",
   "execution_count": 158,
   "metadata": {
    "scrolled": true
   },
   "outputs": [
    {
     "data": {
      "image/png": "[encoded data removed]",
      "text/plain": [
       "<Figure size 1080x432 with 1 Axes>"
      ]
     },
     "metadata": {
      "needs_background": "light"
     },
     "output_type": "display_data"
    }
   ],
   "source": [
    "fig, ax = plt.subplots(figsize=(15,6))\n",
    "ax.set_xlabel('Pledged Money')\n",
    "ax.set_ylabel('Anzahl der Projekte')\n",
    "ax.hist(df_filtered['pledged'], bins=[1000, 2000, 5000, 10000, 15000, 20000,25000,30000,35000,40000,45000,50000,55000,60000,70000,80000,90000,100000])\n",
    "plt.show()"
   ]
  },
  {
   "cell_type": "code",
   "execution_count": 160,
   "metadata": {
    "scrolled": true
   },
   "outputs": [
    {
     "data": {
      "image/png": "[encoded data removed]",
      "text/plain": [
       "<Figure size 1080x432 with 1 Axes>"
      ]
     },
     "metadata": {
      "needs_background": "light"
     },
     "output_type": "display_data"
    }
   ],
   "source": [
    "fig, ax = plt.subplots(figsize=(15,6))\n",
    "ax.set_xlabel('Goal Money')\n",
    "ax.set_ylabel('Anzahl der Projekte')\n",
    "ax.hist(df_filtered['goal'], bins=[1000, 2000, 5000, 10000, 15000, 20000,25000,30000,35000,40000,45000,50000,55000,60000,70000,80000,90000,100000])\n",
    "plt.show()"
   ]
  },
  {
   "cell_type": "code",
   "execution_count": 162,
   "metadata": {
    "scrolled": true
   },
   "outputs": [
    {
     "data": {
      "text/html": [
       "<div>\n",
       "<style scoped>\n",
       "    .dataframe tbody tr th:only-of-type {\n",
       "        vertical-align: middle;\n",
       "    }\n",
       "\n",
       "    .dataframe tbody tr th {\n",
       "        vertical-align: top;\n",
       "    }\n",
       "\n",
       "    .dataframe thead th {\n",
       "        text-align: right;\n",
       "    }\n",
       "</style>\n",
       "<table border=\"1\" class=\"dataframe\">\n",
       "  <thead>\n",
       "    <tr style=\"text-align: right;\">\n",
       "      <th></th>\n",
       "      <th>goal</th>\n",
       "      <th>pledged</th>\n",
       "      <th>backers</th>\n",
       "      <th>usd pledged</th>\n",
       "      <th>usd_pledged_real</th>\n",
       "      <th>usd_goal_real</th>\n",
       "    </tr>\n",
       "  </thead>\n",
       "  <tbody>\n",
       "    <tr>\n",
       "      <th>count</th>\n",
       "      <td>378661.00000</td>\n",
       "      <td>378661.00000</td>\n",
       "      <td>378661.00000</td>\n",
       "      <td>374864.00000</td>\n",
       "      <td>378661.00000</td>\n",
       "      <td>378661.00000</td>\n",
       "    </tr>\n",
       "    <tr>\n",
       "      <th>mean</th>\n",
       "      <td>49080.79152</td>\n",
       "      <td>9682.97934</td>\n",
       "      <td>105.61748</td>\n",
       "      <td>7036.72887</td>\n",
       "      <td>9058.92407</td>\n",
       "      <td>45454.40147</td>\n",
       "    </tr>\n",
       "    <tr>\n",
       "      <th>std</th>\n",
       "      <td>1183391.25909</td>\n",
       "      <td>95636.01000</td>\n",
       "      <td>907.18503</td>\n",
       "      <td>78639.74531</td>\n",
       "      <td>90973.34311</td>\n",
       "      <td>1152950.05509</td>\n",
       "    </tr>\n",
       "    <tr>\n",
       "      <th>min</th>\n",
       "      <td>0.01000</td>\n",
       "      <td>0.00000</td>\n",
       "      <td>0.00000</td>\n",
       "      <td>0.00000</td>\n",
       "      <td>0.00000</td>\n",
       "      <td>0.01000</td>\n",
       "    </tr>\n",
       "    <tr>\n",
       "      <th>25%</th>\n",
       "      <td>2000.00000</td>\n",
       "      <td>30.00000</td>\n",
       "      <td>2.00000</td>\n",
       "      <td>16.98000</td>\n",
       "      <td>31.00000</td>\n",
       "      <td>2000.00000</td>\n",
       "    </tr>\n",
       "    <tr>\n",
       "      <th>50%</th>\n",
       "      <td>5200.00000</td>\n",
       "      <td>620.00000</td>\n",
       "      <td>12.00000</td>\n",
       "      <td>394.72000</td>\n",
       "      <td>624.33000</td>\n",
       "      <td>5500.00000</td>\n",
       "    </tr>\n",
       "    <tr>\n",
       "      <th>75%</th>\n",
       "      <td>16000.00000</td>\n",
       "      <td>4076.00000</td>\n",
       "      <td>56.00000</td>\n",
       "      <td>3034.09000</td>\n",
       "      <td>4050.00000</td>\n",
       "      <td>15500.00000</td>\n",
       "    </tr>\n",
       "    <tr>\n",
       "      <th>max</th>\n",
       "      <td>100000000.00000</td>\n",
       "      <td>20338986.27000</td>\n",
       "      <td>219382.00000</td>\n",
       "      <td>20338986.27000</td>\n",
       "      <td>20338986.27000</td>\n",
       "      <td>166361390.71000</td>\n",
       "    </tr>\n",
       "  </tbody>\n",
       "</table>\n",
       "</div>"
      ],
      "text/plain": [
       "                  goal         pledged       backers     usd pledged  \\\n",
       "count     378661.00000    378661.00000  378661.00000    374864.00000   \n",
       "mean       49080.79152      9682.97934     105.61748      7036.72887   \n",
       "std      1183391.25909     95636.01000     907.18503     78639.74531   \n",
       "min            0.01000         0.00000       0.00000         0.00000   \n",
       "25%         2000.00000        30.00000       2.00000        16.98000   \n",
       "50%         5200.00000       620.00000      12.00000       394.72000   \n",
       "75%        16000.00000      4076.00000      56.00000      3034.09000   \n",
       "max    100000000.00000  20338986.27000  219382.00000  20338986.27000   \n",
       "\n",
       "      usd_pledged_real    usd_goal_real  \n",
       "count     378661.00000     378661.00000  \n",
       "mean        9058.92407      45454.40147  \n",
       "std        90973.34311    1152950.05509  \n",
       "min            0.00000          0.01000  \n",
       "25%           31.00000       2000.00000  \n",
       "50%          624.33000       5500.00000  \n",
       "75%         4050.00000      15500.00000  \n",
       "max     20338986.27000  166361390.71000  "
      ]
     },
     "execution_count": 162,
     "metadata": {},
     "output_type": "execute_result"
    }
   ],
   "source": [
    "df.describe().apply(lambda s: s.apply('{0:.5f}'.format))"
   ]
  },
  {
   "cell_type": "code",
   "execution_count": 170,
   "metadata": {},
   "outputs": [
    {
     "name": "stdout",
     "output_type": "stream",
     "text": [
      "Für das Projekt Exploding Kittens wurden insgesamt 219382 $ investiert.\n"
     ]
    }
   ],
   "source": [
    "print(f'Für das Projekt {names[np.argmax(backers)]} wurden insgesamt {backers[np.argmax(backers)]} $ investiert.')"
   ]
  }
 ],
 "metadata": {
  "kernelspec": {
   "display_name": "Python 3 (ipykernel)",
   "language": "python",
   "name": "python3"
  },
  "language_info": {
   "codemirror_mode": {
    "name": "ipython",
    "version": 3
   },
   "file_extension": ".py",
   "mimetype": "text/x-python",
   "name": "python",
   "nbconvert_exporter": "python",
   "pygments_lexer": "ipython3",
   "version": "3.8.12"
  }
 },
 "nbformat": 4,
 "nbformat_minor": 4
}
